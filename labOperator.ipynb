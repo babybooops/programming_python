{
 "cells": [
  {
   "cell_type": "code",
   "execution_count": 2,
   "metadata": {},
   "outputs": [],
   "source": [
    "import operator"
   ]
  },
  {
   "cell_type": "code",
   "execution_count": 5,
   "metadata": {},
   "outputs": [
    {
     "name": "stdout",
     "output_type": "stream",
     "text": [
      "5\n",
      "-1\n",
      "6\n",
      "0.6666666666666666\n",
      "0\n"
     ]
    }
   ],
   "source": [
    "print(operator.add(2, 3))\n",
    "\n",
    "print(operator.sub(2, 3))  # 2 - 3\n",
    "\n",
    "\n",
    "print(operator.mul(2, 3))  # 2 * 3\n",
    "# 6\n",
    "\n",
    "print(operator.truediv(2, 3))  # 2 / 3\n",
    "# 0.6666666666666666\n",
    "\n",
    "print(operator.floordiv(2, 3))  # 2 // 3\n",
    "# 0"
   ]
  },
  {
   "cell_type": "code",
   "execution_count": 6,
   "metadata": {},
   "outputs": [
    {
     "name": "stdout",
     "output_type": "stream",
     "text": [
      "True\n",
      "True\n",
      "False\n",
      "False\n",
      "False\n",
      "True\n"
     ]
    }
   ],
   "source": [
    "print(operator.lt(2, 3))  # 2 < 3\n",
    "\n",
    "print(operator.le(2, 3))  # 2 <= 3\n",
    "\n",
    "print(operator.gt(2, 3))  # 2 > 3\n",
    "\n",
    "print(operator.ge(2, 3))  # 2 >= 3\n",
    "\n",
    "print(operator.eq(2, 3))  # 2 == 3\n",
    "\n",
    "print(operator.ne(2, 3))  # 2 != 3"
   ]
  },
  {
   "cell_type": "code",
   "execution_count": 7,
   "metadata": {},
   "outputs": [
    {
     "name": "stdout",
     "output_type": "stream",
     "text": [
      "0b1000\n",
      "0b1000\n",
      "0b1110\n",
      "0b1110\n",
      "0b110\n",
      "0b110\n"
     ]
    }
   ],
   "source": [
    "print(bin(0b1100 & 0b1010))\n",
    "\n",
    "print(bin(operator.and_(0b1100, 0b1010)))\n",
    "\n",
    "print(bin(0b1100 | 0b1010))\n",
    "\n",
    "print(bin(operator.or_(0b1100, 0b1010)))\n",
    "\n",
    "print(bin(0b1100 ^ 0b1010))\n",
    "\n",
    "print(bin(operator.xor(0b1100, 0b1010)))"
   ]
  },
  {
   "cell_type": "code",
   "execution_count": 9,
   "metadata": {},
   "outputs": [
    {
     "name": "stdout",
     "output_type": "stream",
     "text": [
      "30\n"
     ]
    }
   ],
   "source": [
    "l = [0, 10, 20, 30, 40, 50]\n",
    "\n",
    "f = operator.itemgetter(3)\n",
    "print(f(l))"
   ]
  },
  {
   "cell_type": "code",
   "execution_count": 12,
   "metadata": {},
   "outputs": [
    {
     "name": "stdout",
     "output_type": "stream",
     "text": [
      "2001\n",
      "(2001, 10, 20)\n"
     ]
    }
   ],
   "source": [
    "import datetime\n",
    "\n",
    "dt = datetime.date(2001, 10, 20)\n",
    "f = operator.attrgetter('year')\n",
    "print(f(dt))\n",
    "\n",
    "print(operator.attrgetter('year', 'month', 'day')(dt))"
   ]
  },
  {
   "cell_type": "code",
   "execution_count": 13,
   "metadata": {},
   "outputs": [
    {
     "name": "stdout",
     "output_type": "stream",
     "text": [
      "XXXAYYYAZZZ\n"
     ]
    }
   ],
   "source": [
    "s = 'xxxAyyyAzzz'\n",
    "\n",
    "f = operator.methodcaller('upper')\n",
    "print(f(s))"
   ]
  }
 ],
 "metadata": {
  "kernelspec": {
   "display_name": "Python 3",
   "language": "python",
   "name": "python3"
  },
  "language_info": {
   "codemirror_mode": {
    "name": "ipython",
    "version": 3
   },
   "file_extension": ".py",
   "mimetype": "text/x-python",
   "name": "python",
   "nbconvert_exporter": "python",
   "pygments_lexer": "ipython3",
   "version": "3.11.2"
  },
  "orig_nbformat": 4
 },
 "nbformat": 4,
 "nbformat_minor": 2
}
