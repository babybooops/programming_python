{
 "cells": [
  {
   "cell_type": "code",
   "execution_count": 38,
   "metadata": {
    "ExecuteTime": {
     "end_time": "2023-06-07T23:12:40.513229300Z",
     "start_time": "2023-06-07T23:12:40.511251200Z"
    },
    "collapsed": false
   },
   "outputs": [],
   "source": [
    "from fuzzywuzzy import process\n",
    "from pandas import read_csv\n",
    "import json"
   ]
  },
  {
   "cell_type": "code",
   "execution_count": 39,
   "metadata": {
    "ExecuteTime": {
     "end_time": "2023-06-07T23:12:40.658746Z",
     "start_time": "2023-06-07T23:12:40.514231700Z"
    },
    "collapsed": true
   },
   "outputs": [
    {
     "name": "stdout",
     "output_type": "stream",
     "text": [
      "[('Саратов', 100), ('Ардатов', 86), ('Саров', 83), ('Азов', 68), ('Горбатов', 67), ('Курчатов', 67), ('Александров', 64), ('Александровск', 64), ('Александровск-Сахалинский', 64), ('Артёмовский', 64)]\n"
     ]
    }
   ],
   "source": [
    "data = read_csv(\"cities.csv\", header=0, delimiter=';')\n",
    "city = data['Город'].tolist()\n",
    "a = process.extract(\"Саратов\", city, limit=10)\n",
    "print(a)"
   ]
  },
  {
   "cell_type": "code",
   "execution_count": 40,
   "metadata": {
    "ExecuteTime": {
     "end_time": "2023-06-07T23:12:40.703482800Z",
     "start_time": "2023-06-07T23:12:40.656748400Z"
    },
    "collapsed": false
   },
   "outputs": [
    {
     "name": "stdout",
     "output_type": "stream",
     "text": [
      "[('Третьяковская', 100), ('Третьяковская', 100), ('Третьяковская', 100), ('Окская', 75), ('Киевская', 72), ('Киевская', 72), ('Киевская', 72), ('Маяковская', 70), ('Волжская', 69), ('ЦСКА', 68)]\n"
     ]
    }
   ],
   "source": [
    "with open('mosmetro.json', encoding='utf-8') as json_file:\n",
    "    data = json.load(json_file)\n",
    "\n",
    "stations = [station['Station'] for station in data]\n",
    "\n",
    "a = process.extract(\"Третьяковская\", stations, limit=10)\n",
    "print(a)"
   ]
  }
 ],
 "metadata": {
  "kernelspec": {
   "display_name": "Python 3",
   "language": "python",
   "name": "python3"
  },
  "language_info": {
   "codemirror_mode": {
    "name": "ipython",
    "version": 2
   },
   "file_extension": ".py",
   "mimetype": "text/x-python",
   "name": "python",
   "nbconvert_exporter": "python",
   "pygments_lexer": "ipython2",
   "version": "3.11.2"
  }
 },
 "nbformat": 4,
 "nbformat_minor": 0
}
