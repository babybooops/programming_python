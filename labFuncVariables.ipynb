{
 "cells": [
  {
   "attachments": {},
   "cell_type": "markdown",
   "metadata": {},
   "source": [
    "# Переопределение видимости переменных внутри тела функции"
   ]
  },
  {
   "cell_type": "code",
   "execution_count": 1,
   "metadata": {},
   "outputs": [
    {
     "name": "stdout",
     "output_type": "stream",
     "text": [
      "x=1, y=10\n"
     ]
    }
   ],
   "source": [
    "x = 1\n",
    "y = 1\n",
    "\n",
    "def func():\n",
    "    x = 10\n",
    "    global y # обращение к глобальной переменной\n",
    "    y = 10\n",
    "    global z # объявление глобальной переменной из тела функции\n",
    "    z = 10\n",
    "\n",
    "func()\n",
    "print(f\"{x = }, {y = }\")"
   ]
  },
  {
   "cell_type": "code",
   "execution_count": 2,
   "metadata": {},
   "outputs": [
    {
     "name": "stdout",
     "output_type": "stream",
     "text": [
      "fun_2: x = 3, y = 3, z = 3\n",
      "fun_1: x = 2, y = 2, z = 2\n",
      "Global: x = 1, y = 1, z = 1\n"
     ]
    }
   ],
   "source": [
    "x = 1\n",
    "y = 1\n",
    "z = 1\n",
    "\n",
    "def fun_1():\n",
    "    x = 2\n",
    "    y = 2\n",
    "    z = 2\n",
    "    def fun_2():\n",
    "        x = 3\n",
    "        y = 3\n",
    "        z = 3\n",
    "        print(f\"fun_2: {x = }, {y = }, {z = }\")\n",
    "    \n",
    "    fun_2()\n",
    "    print(f\"fun_1: {x = }, {y = }, {z = }\")\n",
    "\n",
    "fun_1()\n",
    "print(f\"Global: {x = }, {y = }, {z = }\")"
   ]
  },
  {
   "cell_type": "code",
   "execution_count": 4,
   "metadata": {},
   "outputs": [
    {
     "name": "stdout",
     "output_type": "stream",
     "text": [
      "<class 'function'>\n",
      "1\n",
      "2\n",
      "3\n"
     ]
    }
   ],
   "source": [
    "def create_counter():\n",
    "    count = 0\n",
    "\n",
    "    def counter():\n",
    "        nonlocal count\n",
    "        count += 1\n",
    "        return count\n",
    "\n",
    "    return counter # ссылка на внутреннюю функцию\n",
    "\n",
    "counter = create_counter()\n",
    "print(type(counter))\n",
    "print(counter())\n",
    "print(counter())\n",
    "print(counter())"
   ]
  },
  {
   "attachments": {},
   "cell_type": "markdown",
   "metadata": {},
   "source": [
    "# Декоратор (Decorator)"
   ]
  },
  {
   "cell_type": "code",
   "execution_count": 5,
   "metadata": {},
   "outputs": [
    {
     "name": "stdout",
     "output_type": "stream",
     "text": [
      "Hello\n",
      "Hello\n",
      "**********\n",
      "Hello\n",
      "**********\n"
     ]
    }
   ],
   "source": [
    "def star(func):\n",
    "    def wrapped():\n",
    "        print(\"*\" * 10)\n",
    "        func()\n",
    "        print(\"*\" * 10)\n",
    "    return wrapped\n",
    "\n",
    "def hello():\n",
    "    print(\"Hello\")\n",
    "\n",
    "hello()\n",
    "hello_1 = hello\n",
    "hello_1()\n",
    "\n",
    "hello = star(hello)\n",
    "hello()"
   ]
  },
  {
   "cell_type": "code",
   "execution_count": 6,
   "metadata": {},
   "outputs": [
    {
     "name": "stdout",
     "output_type": "stream",
     "text": [
      "**********\n",
      "----------\n",
      "==========\n",
      "GM\n",
      "==========\n",
      "----------\n",
      "**********\n"
     ]
    }
   ],
   "source": [
    "# Декоратор с аргументами\n",
    "\n",
    "def my_select(char: str):\n",
    "    def select(func):\n",
    "        def wrapped():\n",
    "            print(char * 10)\n",
    "            func()\n",
    "            print(char * 10)\n",
    "        return wrapped\n",
    "    return select\n",
    "\n",
    "@my_select('*')\n",
    "@my_select('-')\n",
    "@my_select('=')\n",
    "def good_morning():\n",
    "    print(\"GM\")\n",
    "\n",
    "good_morning()"
   ]
  },
  {
   "cell_type": "code",
   "execution_count": 7,
   "metadata": {},
   "outputs": [
    {
     "name": "stdout",
     "output_type": "stream",
     "text": [
      "***************\n",
      "Имя = Миша\n",
      "***************\n"
     ]
    }
   ],
   "source": [
    "def star(func):\n",
    "    def wrapped(*args, **kwards):\n",
    "        print('*' * 15)\n",
    "        func(*args, **kwards)\n",
    "        print('*' * 15)\n",
    "    return wrapped\n",
    "\n",
    "@star\n",
    "def print_person(name):\n",
    "    print(f\"Имя = {name}\")\n",
    "\n",
    "print_person(\"Миша\")"
   ]
  }
 ],
 "metadata": {
  "kernelspec": {
   "display_name": "Python 3",
   "language": "python",
   "name": "python3"
  },
  "language_info": {
   "codemirror_mode": {
    "name": "ipython",
    "version": 3
   },
   "file_extension": ".py",
   "mimetype": "text/x-python",
   "name": "python",
   "nbconvert_exporter": "python",
   "pygments_lexer": "ipython3",
   "version": "3.11.2"
  },
  "orig_nbformat": 4,
  "vscode": {
   "interpreter": {
    "hash": "1f6a27bcfbe46a917dbd192f4a82657396dda26148bae633192e8d28c70725f1"
   }
  }
 },
 "nbformat": 4,
 "nbformat_minor": 2
}
