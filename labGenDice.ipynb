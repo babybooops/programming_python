{
 "cells": [
  {
   "attachments": {},
   "cell_type": "markdown",
   "metadata": {},
   "source": [
    "# Генератор результата подбрасывания кубиков"
   ]
  },
  {
   "cell_type": "code",
   "execution_count": 6,
   "metadata": {},
   "outputs": [],
   "source": [
    "import random\n",
    "from random import randint"
   ]
  },
  {
   "cell_type": "code",
   "execution_count": 7,
   "metadata": {},
   "outputs": [
    {
     "name": "stdout",
     "output_type": "stream",
     "text": [
      "[2, 3, 6, 4, 5]\n"
     ]
    }
   ],
   "source": [
    "def GenDice(countCube: int, countFaceCube: int, values: list) -> tuple: # countCube - количество кубиков, countFaceCube - количество граней на кубиках, values - значения на гранях, dice - значения броска\n",
    "    dice = []\n",
    "    if(countFaceCube == len(values)): # проверка на то, чтобы количество значений на гранях не первышали их количество\n",
    "        for n in range(countCube):\n",
    "            dice.append(values[randint(0, countFaceCube - 1)]) # генерация броска кубика\n",
    "        tuple(dice)\n",
    "        return dice\n",
    "    else:\n",
    "        raise \"Ошибка! Количество значений не может быть больше количества граней\"\n",
    "\n",
    "print(GenDice(5, 6, [1, 2, 3, 4, 5, 6]))\n",
    "\n"
   ]
  },
  {
   "cell_type": "code",
   "execution_count": 8,
   "metadata": {},
   "outputs": [
    {
     "name": "stdout",
     "output_type": "stream",
     "text": [
      "[3, 1, 3, 1, 3, 3, 3, 3, 1]\n"
     ]
    }
   ],
   "source": [
    "print(GenDice(9, 3, [1, 2, 3]))"
   ]
  },
  {
   "cell_type": "code",
   "execution_count": 9,
   "metadata": {},
   "outputs": [
    {
     "name": "stdout",
     "output_type": "stream",
     "text": [
      "[6, 7, 4, 6, 1, 4, 8]\n"
     ]
    }
   ],
   "source": [
    "print(GenDice(7, 8, [1, 2, 3, 4, 5, 6, 7, 8]))"
   ]
  },
  {
   "cell_type": "code",
   "execution_count": 10,
   "metadata": {},
   "outputs": [
    {
     "name": "stdout",
     "output_type": "stream",
     "text": [
      "Ошибка! Количество значений не может быть больше количества граней\n"
     ]
    }
   ],
   "source": [
    "print(GenDice(5, 6, [1, 2, 3, 4, 5, 6, 7, 8]))"
   ]
  }
 ],
 "metadata": {
  "kernelspec": {
   "display_name": "Python 3",
   "language": "python",
   "name": "python3"
  },
  "language_info": {
   "codemirror_mode": {
    "name": "ipython",
    "version": 3
   },
   "file_extension": ".py",
   "mimetype": "text/x-python",
   "name": "python",
   "nbconvert_exporter": "python",
   "pygments_lexer": "ipython3",
   "version": "3.11.2"
  },
  "orig_nbformat": 4
 },
 "nbformat": 4,
 "nbformat_minor": 2
}
