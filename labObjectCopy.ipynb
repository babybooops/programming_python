{
 "cells": [
  {
   "attachments": {},
   "cell_type": "markdown",
   "metadata": {},
   "source": [
    "# Поверхностные и глубокие копии объектов"
   ]
  },
  {
   "cell_type": "code",
   "execution_count": 1,
   "metadata": {},
   "outputs": [],
   "source": [
    "import copy"
   ]
  },
  {
   "cell_type": "code",
   "execution_count": 3,
   "metadata": {},
   "outputs": [
    {
     "name": "stdout",
     "output_type": "stream",
     "text": [
      "[1, [2, [3, 4]]]\n",
      "1\n",
      "2\n",
      "3\n"
     ]
    }
   ],
   "source": [
    "a = [1, [2, [3, 4]]]\n",
    "print(a)\n",
    "print(a[0])\n",
    "print(a[1][0])\n",
    "print(a[1][1][0])\n"
   ]
  },
  {
   "cell_type": "code",
   "execution_count": 4,
   "metadata": {},
   "outputs": [
    {
     "name": "stdout",
     "output_type": "stream",
     "text": [
      "[-1, [-2, [-3, 4]]]\n",
      "[-1, [-2, [-3, 4]]]\n"
     ]
    }
   ],
   "source": [
    "b = a\n",
    "b[0] = -1\n",
    "b[1][0] = -2\n",
    "b[1][1][0] = -3\n",
    "print(a)\n",
    "print(b)"
   ]
  },
  {
   "attachments": {},
   "cell_type": "markdown",
   "metadata": {},
   "source": [
    "## Поверхностные копии"
   ]
  },
  {
   "cell_type": "code",
   "execution_count": 5,
   "metadata": {},
   "outputs": [
    {
     "name": "stdout",
     "output_type": "stream",
     "text": [
      "[1, [2, [3, 4]]]\n",
      "[1, [-2, [-3, 4]]]\n",
      "[-1, [-2, [-3, 4]]]\n"
     ]
    }
   ],
   "source": [
    "# Способ 1\n",
    "a = [1, [2, [3, 4]]]\n",
    "print(a)\n",
    "b = a.copy()\n",
    "b[0] = -1\n",
    "b[1][0] = -2\n",
    "b[1][1][0] = -3\n",
    "print(a)\n",
    "print(b)"
   ]
  },
  {
   "cell_type": "code",
   "execution_count": 6,
   "metadata": {},
   "outputs": [
    {
     "name": "stdout",
     "output_type": "stream",
     "text": [
      "[1, [2, [3, 4]]]\n",
      "[1, [-2, [-3, 4]]]\n",
      "[-1, [-2, [-3, 4]]]\n"
     ]
    }
   ],
   "source": [
    "# Способ 2\n",
    "a = [1, [2, [3, 4]]]\n",
    "print(a)\n",
    "b = copy.copy(a)\n",
    "b[0] = -1\n",
    "b[1][0] = -2\n",
    "b[1][1][0] = -3\n",
    "print(a)\n",
    "print(b)"
   ]
  },
  {
   "attachments": {},
   "cell_type": "markdown",
   "metadata": {},
   "source": [
    "## Глубокие копии"
   ]
  },
  {
   "cell_type": "code",
   "execution_count": 8,
   "metadata": {},
   "outputs": [
    {
     "name": "stdout",
     "output_type": "stream",
     "text": [
      "[1, [2, [3, 4]]]\n",
      "[1, [2, [3, 4]]]\n",
      "[-1, [-2, [-3, 4]]]\n"
     ]
    }
   ],
   "source": [
    "a = [1, [2, [3, 4]]]\n",
    "print(a)\n",
    "b = copy.deepcopy(a)\n",
    "b[0] = -1\n",
    "b[1][0] = -2\n",
    "b[1][1][0] = -3\n",
    "print(a)\n",
    "print(b)"
   ]
  }
 ],
 "metadata": {
  "kernelspec": {
   "display_name": "Python 3",
   "language": "python",
   "name": "python3"
  },
  "language_info": {
   "codemirror_mode": {
    "name": "ipython",
    "version": 3
   },
   "file_extension": ".py",
   "mimetype": "text/x-python",
   "name": "python",
   "nbconvert_exporter": "python",
   "pygments_lexer": "ipython3",
   "version": "3.11.2"
  },
  "orig_nbformat": 4
 },
 "nbformat": 4,
 "nbformat_minor": 2
}
