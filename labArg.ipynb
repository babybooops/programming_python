{
 "cells": [
  {
   "attachments": {},
   "cell_type": "markdown",
   "metadata": {},
   "source": [
    "# Аргументы функции\n",
    "\n",
    "* неизменяемые объекты передаются \"по значению\" (т.е. изменение внутри функции не изменит его во вне)\n",
    "* изменяемые объекты передаются \"по ссылке\""
   ]
  },
  {
   "cell_type": "code",
   "execution_count": 4,
   "metadata": {},
   "outputs": [
    {
     "name": "stdout",
     "output_type": "stream",
     "text": [
      "show_int: x = 1\n",
      "x = 1\n"
     ]
    }
   ],
   "source": [
    "# по значению\n",
    "\n",
    "def show_int(x):\n",
    "    print(f\"show_int: {x = }\")\n",
    "\n",
    "x = 1\n",
    "show_int(x)\n",
    "print(f\"{x = }\")"
   ]
  },
  {
   "cell_type": "code",
   "execution_count": 5,
   "metadata": {},
   "outputs": [
    {
     "name": "stdout",
     "output_type": "stream",
     "text": [
      "show_cities: ['Ялта', 'Воронеж']\n",
      "['Ялта', 'Воронеж']\n"
     ]
    }
   ],
   "source": [
    "# по ссылке\n",
    "\n",
    "def show_cities(cities):\n",
    "    cities.append(\"Воронеж\")\n",
    "    print(f\"show_cities: {cities}\")\n",
    "\n",
    "cities = [\"Ялта\"]\n",
    "show_cities(cities)\n",
    "print(f\"{cities}\")"
   ]
  },
  {
   "cell_type": "code",
   "execution_count": 6,
   "metadata": {},
   "outputs": [
    {
     "name": "stdout",
     "output_type": "stream",
     "text": [
      "<class 'list'>\n",
      "show_cities: ['Ялта', 'Воронеж']\n",
      "['Ялта']\n"
     ]
    }
   ],
   "source": [
    "def show_cities_v2(cities: list):\n",
    "    cities_local = cities[:]\n",
    "    cities_local.append(\"Воронеж\")\n",
    "    print(f\"show_cities: {cities_local}\")\n",
    "\n",
    "cities = [\"Ялта\"]\n",
    "print(type(cities))\n",
    "show_cities_v2(cities)\n",
    "print(f\"{cities}\")"
   ]
  }
 ],
 "metadata": {
  "kernelspec": {
   "display_name": "Python 3",
   "language": "python",
   "name": "python3"
  },
  "language_info": {
   "codemirror_mode": {
    "name": "ipython",
    "version": 3
   },
   "file_extension": ".py",
   "mimetype": "text/x-python",
   "name": "python",
   "nbconvert_exporter": "python",
   "pygments_lexer": "ipython3",
   "version": "3.11.2"
  },
  "orig_nbformat": 4
 },
 "nbformat": 4,
 "nbformat_minor": 2
}
