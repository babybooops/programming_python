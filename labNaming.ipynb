{
 "cells": [
  {
   "attachments": {},
   "cell_type": "markdown",
   "metadata": {},
   "source": [
    "# Правильный нейминг"
   ]
  },
  {
   "cell_type": "code",
   "execution_count": null,
   "metadata": {},
   "outputs": [],
   "source": [
    "def pv(v, p):\n",
    "    if p == 'f':\n",
    "        return v >= 56.5\n",
    "    elif p == 'm':\n",
    "        return v >= 61.5\n",
    "\n",
    "print(pv(54, 'm'))"
   ]
  },
  {
   "cell_type": "code",
   "execution_count": 2,
   "metadata": {},
   "outputs": [
    {
     "name": "stdout",
     "output_type": "stream",
     "text": [
      "False\n"
     ]
    }
   ],
   "source": [
    "def is_person_retiree(age : float, sex : str) -> bool:\n",
    "    \"\"\" Возвращает True если человек пенсионер, или False в противном случае.\n",
    "    age - возраст в годах,\n",
    "    sex - пол ('f' - для женского пола или 'm' - для мужского пола)\n",
    "    \"\"\"\n",
    "    if sex == 'f':\n",
    "        return age >= 56.5\n",
    "    elif sex == 'm':\n",
    "        return age >= 61.5\n",
    "\n",
    "print(is_person_retiree(age = 54, sex = 'm'))"
   ]
  }
 ],
 "metadata": {
  "kernelspec": {
   "display_name": "Python 3",
   "language": "python",
   "name": "python3"
  },
  "language_info": {
   "codemirror_mode": {
    "name": "ipython",
    "version": 3
   },
   "file_extension": ".py",
   "mimetype": "text/x-python",
   "name": "python",
   "nbconvert_exporter": "python",
   "pygments_lexer": "ipython3",
   "version": "3.11.2"
  },
  "orig_nbformat": 4,
  "vscode": {
   "interpreter": {
    "hash": "1f6a27bcfbe46a917dbd192f4a82657396dda26148bae633192e8d28c70725f1"
   }
  }
 },
 "nbformat": 4,
 "nbformat_minor": 2
}
