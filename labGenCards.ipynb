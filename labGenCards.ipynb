{
 "cells": [
  {
   "attachments": {},
   "cell_type": "markdown",
   "metadata": {},
   "source": [
    "# Генератор колоды карт"
   ]
  },
  {
   "cell_type": "code",
   "execution_count": 2,
   "metadata": {},
   "outputs": [],
   "source": [
    "import itertools"
   ]
  },
  {
   "cell_type": "code",
   "execution_count": 9,
   "metadata": {},
   "outputs": [
    {
     "name": "stdout",
     "output_type": "stream",
     "text": [
      "[('♧', '9'), ('♧', '10'), ('♧', 'J'), ('♧', 'Q'), ('♧', 'K'), ('♧', 'A'), ('♤', '9'), ('♤', '10'), ('♤', 'J'), ('♤', 'Q'), ('♤', 'K'), ('♤', 'A'), ('♡', '9'), ('♡', '10'), ('♡', 'J'), ('♡', 'Q'), ('♡', 'K'), ('♡', 'A'), ('♢', '9'), ('♢', '10'), ('♢', 'J'), ('♢', 'Q'), ('♢', 'K'), ('♢', 'A')]\n"
     ]
    }
   ],
   "source": [
    "def GenCards(countCards: int) -> list:\n",
    "    cards = []\n",
    "    cardSuit = [\"♧\", \"♤\", \"♡\", \"♢\"]\n",
    "    deck = [\"2\", \"3\", \"4\", \"5\", \"6\", \"7\", \"8\", \"9\", \"10\", \"J\", \"Q\", \"K\", \"A\"]\n",
    "    if (countCards == 24 or countCards == 36 or countCards == 52):\n",
    "        for n in itertools.product(cardSuit, deck[13 - countCards // 4:]):\n",
    "            cards.append(n)\n",
    "        return cards\n",
    "    else: \n",
    "        raise \"Ошибка: в колоде карт 24, 36 или 52 карты\"\n",
    "\n",
    "print(GenCards(24))"
   ]
  },
  {
   "cell_type": "code",
   "execution_count": 5,
   "metadata": {},
   "outputs": [
    {
     "name": "stdout",
     "output_type": "stream",
     "text": [
      "[('♧', '2'), ('♧', '3'), ('♧', '4'), ('♧', '5'), ('♧', '6'), ('♧', '7'), ('♧', '8'), ('♧', '9'), ('♧', '10'), ('♧', 'J'), ('♧', 'Q'), ('♧', 'K'), ('♧', 'A'), ('♤', '2'), ('♤', '3'), ('♤', '4'), ('♤', '5'), ('♤', '6'), ('♤', '7'), ('♤', '8'), ('♤', '9'), ('♤', '10'), ('♤', 'J'), ('♤', 'Q'), ('♤', 'K'), ('♤', 'A'), ('♡', '2'), ('♡', '3'), ('♡', '4'), ('♡', '5'), ('♡', '6'), ('♡', '7'), ('♡', '8'), ('♡', '9'), ('♡', '10'), ('♡', 'J'), ('♡', 'Q'), ('♡', 'K'), ('♡', 'A'), ('♢', '2'), ('♢', '3'), ('♢', '4'), ('♢', '5'), ('♢', '6'), ('♢', '7'), ('♢', '8'), ('♢', '9'), ('♢', '10'), ('♢', 'J'), ('♢', 'Q'), ('♢', 'K'), ('♢', 'A')]\n"
     ]
    }
   ],
   "source": [
    "print(GenCards(52))"
   ]
  },
  {
   "cell_type": "code",
   "execution_count": 6,
   "metadata": {},
   "outputs": [
    {
     "name": "stdout",
     "output_type": "stream",
     "text": [
      "[('♧', '6'), ('♧', '7'), ('♧', '8'), ('♧', '9'), ('♧', '10'), ('♧', 'J'), ('♧', 'Q'), ('♧', 'K'), ('♧', 'A'), ('♤', '6'), ('♤', '7'), ('♤', '8'), ('♤', '9'), ('♤', '10'), ('♤', 'J'), ('♤', 'Q'), ('♤', 'K'), ('♤', 'A'), ('♡', '6'), ('♡', '7'), ('♡', '8'), ('♡', '9'), ('♡', '10'), ('♡', 'J'), ('♡', 'Q'), ('♡', 'K'), ('♡', 'A'), ('♢', '6'), ('♢', '7'), ('♢', '8'), ('♢', '9'), ('♢', '10'), ('♢', 'J'), ('♢', 'Q'), ('♢', 'K'), ('♢', 'A')]\n"
     ]
    }
   ],
   "source": [
    "print(GenCards(36))"
   ]
  },
  {
   "cell_type": "code",
   "execution_count": 10,
   "metadata": {},
   "outputs": [
    {
     "name": "stdout",
     "output_type": "stream",
     "text": [
      "Ошибка: в колоде карт 24, 36 или 52 карты\n"
     ]
    }
   ],
   "source": [
    "print(GenCards(40))"
   ]
  }
 ],
 "metadata": {
  "kernelspec": {
   "display_name": "Python 3",
   "language": "python",
   "name": "python3"
  },
  "language_info": {
   "codemirror_mode": {
    "name": "ipython",
    "version": 3
   },
   "file_extension": ".py",
   "mimetype": "text/x-python",
   "name": "python",
   "nbconvert_exporter": "python",
   "pygments_lexer": "ipython3",
   "version": "3.11.2"
  },
  "orig_nbformat": 4
 },
 "nbformat": 4,
 "nbformat_minor": 2
}
