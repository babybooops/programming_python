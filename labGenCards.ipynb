{
 "cells": [
  {
   "attachments": {},
   "cell_type": "markdown",
   "metadata": {},
   "source": [
    "# Генератор колоды карт"
   ]
  },
  {
   "cell_type": "code",
   "execution_count": 2,
   "metadata": {},
   "outputs": [],
   "source": [
    "import itertools"
   ]
  },
  {
   "cell_type": "code",
   "execution_count": 7,
   "metadata": {},
   "outputs": [
    {
     "name": "stdout",
     "output_type": "stream",
     "text": [
      "('♧', '9')\n",
      "('♧', '10')\n",
      "('♧', 'J')\n",
      "('♧', 'Q')\n",
      "('♧', 'K')\n",
      "('♧', 'A')\n",
      "('♤', '9')\n",
      "('♤', '10')\n",
      "('♤', 'J')\n",
      "('♤', 'Q')\n",
      "('♤', 'K')\n",
      "('♤', 'A')\n",
      "('♡', '9')\n",
      "('♡', '10')\n",
      "('♡', 'J')\n",
      "('♡', 'Q')\n",
      "('♡', 'K')\n",
      "('♡', 'A')\n",
      "('♢', '9')\n",
      "('♢', '10')\n",
      "('♢', 'J')\n",
      "('♢', 'Q')\n",
      "('♢', 'K')\n",
      "('♢', 'A')\n"
     ]
    }
   ],
   "source": [
    "def GenCards(countCards = 24):\n",
    "    cardSuit = [\"♧\", \"♤\", \"♡\", \"♢\"]\n",
    "    deck = [\"2\", \"3\", \"4\", \"5\", \"6\", \"7\", \"8\", \"9\", \"10\", \"J\", \"Q\", \"K\", \"A\"]\n",
    "    for n in itertools.product(cardSuit, deck[13 - countCards // 4:]):\n",
    "        print(n)\n",
    "\n",
    "GenCards()"
   ]
  }
 ],
 "metadata": {
  "kernelspec": {
   "display_name": "Python 3",
   "language": "python",
   "name": "python3"
  },
  "language_info": {
   "codemirror_mode": {
    "name": "ipython",
    "version": 3
   },
   "file_extension": ".py",
   "mimetype": "text/x-python",
   "name": "python",
   "nbconvert_exporter": "python",
   "pygments_lexer": "ipython3",
   "version": "3.11.2"
  },
  "orig_nbformat": 4
 },
 "nbformat": 4,
 "nbformat_minor": 2
}
