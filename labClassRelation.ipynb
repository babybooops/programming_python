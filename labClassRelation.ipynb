{
 "cells": [
  {
   "attachments": {},
   "cell_type": "markdown",
   "metadata": {
    "collapsed": false
   },
   "source": [
    "# Наследование классов"
   ]
  },
  {
   "cell_type": "code",
   "execution_count": 6,
   "metadata": {
    "ExecuteTime": {
     "end_time": "2023-06-12T22:25:27.027647900Z",
     "start_time": "2023-06-12T22:25:27.017396600Z"
    },
    "collapsed": false
   },
   "outputs": [
    {
     "name": "stdout",
     "output_type": "stream",
     "text": [
      "Par1\n"
     ]
    }
   ],
   "source": [
    "import traceback\n",
    "\n",
    "\n",
    "class Par1:\n",
    "    def name1(self): return 'Par1'\n",
    "\n",
    "\n",
    "class Child(Par1):\n",
    "    pass\n",
    "\n",
    "\n",
    "x = Child()\n",
    "print(x.name1())"
   ]
  },
  {
   "cell_type": "code",
   "execution_count": 7,
   "metadata": {
    "ExecuteTime": {
     "end_time": "2023-06-12T22:25:27.036892Z",
     "start_time": "2023-06-12T22:25:27.021715Z"
    },
    "collapsed": true
   },
   "outputs": [
    {
     "name": "stdout",
     "output_type": "stream",
     "text": [
      "Par1 Par2\n"
     ]
    }
   ],
   "source": [
    "class Par1:\n",
    "    def name1(self): return 'Par1'\n",
    "\n",
    "\n",
    "class Par2:\n",
    "    def name2(self): return 'Par2'\n",
    "\n",
    "\n",
    "class Child(Par1, Par2):\n",
    "    pass\n",
    "\n",
    "\n",
    "x = Child()\n",
    "print(x.name1(), x.name2())"
   ]
  },
  {
   "cell_type": "code",
   "execution_count": 8,
   "metadata": {
    "ExecuteTime": {
     "end_time": "2023-06-12T22:25:27.037891300Z",
     "start_time": "2023-06-12T22:25:27.028639700Z"
    },
    "collapsed": false
   },
   "outputs": [],
   "source": [
    "class PayrollSystem:\n",
    "    def calculate_payroll(self, employees):\n",
    "        print('Calculating Payroll')\n",
    "        print('===================')\n",
    "        for employee in employees:\n",
    "            print(f'Payroll for: {employee.id} - {employee.name}')\n",
    "            print(f'- Check amount: {employee.calculate_payroll()}')\n",
    "            print('')\n",
    "\n",
    "\n",
    "class Employee:\n",
    "    def __init__(self, id, name):\n",
    "        self.id = id\n",
    "        self.name = name\n",
    "\n",
    "\n",
    "class SalaryEmployee(Employee):\n",
    "    def __init__(self, id, name, weekly_salary):\n",
    "        super().__init__(id, name)\n",
    "        self.weekly_salary = weekly_salary\n",
    "\n",
    "    def calculate_payroll(self):\n",
    "        return self.weekly_salary\n",
    "\n",
    "\n",
    "class HourlyEmployee(Employee):\n",
    "    def __init__(self, id, name, hours_worked, hour_rate):\n",
    "        super().__init__(id, name)\n",
    "        self.hours_worked = hours_worked\n",
    "        self.hour_rate = hour_rate\n",
    "\n",
    "    def calculate_payroll(self):\n",
    "        return self.hours_worked * self.hour_rate\n",
    "\n",
    "\n",
    "class CommissionEmployee(SalaryEmployee):\n",
    "    def __init__(self, id, name, weekly_salary, commission):\n",
    "        super().__init__(id, name, weekly_salary)\n",
    "        self.commission = commission\n",
    "\n",
    "    def calculate_payroll(self):\n",
    "        fixed = super().calculate_payroll()\n",
    "        return fixed + self.commission"
   ]
  },
  {
   "cell_type": "code",
   "execution_count": 9,
   "metadata": {
    "ExecuteTime": {
     "end_time": "2023-06-12T22:25:27.037891300Z",
     "start_time": "2023-06-12T22:25:27.033829300Z"
    },
    "collapsed": false
   },
   "outputs": [
    {
     "name": "stdout",
     "output_type": "stream",
     "text": [
      "Calculating Payroll\n",
      "===================\n",
      "Payroll for: 1 - John Smith\n",
      "- Check amount: 1500\n",
      "\n",
      "Payroll for: 2 - Jane Doe\n",
      "- Check amount: 600\n",
      "\n",
      "Payroll for: 3 - Kevin Bacon\n",
      "- Check amount: 1250\n",
      "\n"
     ]
    }
   ],
   "source": [
    "salary_employee = SalaryEmployee(1, 'John Smith', 1500)\n",
    "hourly_employee = HourlyEmployee(2, 'Jane Doe', 40, 15)\n",
    "commission_employee = CommissionEmployee(3, 'Kevin Bacon', 1000, 250)\n",
    "payroll_system = PayrollSystem()\n",
    "payroll_system.calculate_payroll([\n",
    "    salary_employee,\n",
    "    hourly_employee,\n",
    "    commission_employee\n",
    "])"
   ]
  },
  {
   "cell_type": "code",
   "execution_count": 10,
   "metadata": {
    "ExecuteTime": {
     "end_time": "2023-06-12T22:25:27.077824600Z",
     "start_time": "2023-06-12T22:25:27.036892Z"
    },
    "collapsed": false
   },
   "outputs": [
    {
     "name": "stdout",
     "output_type": "stream",
     "text": [
      "Calculating Payroll\n",
      "===================\n",
      "Payroll for: 1 - Invalid\n",
      "Traceback (most recent call last):\n",
      "  File \"C:\\Users\\HP\\AppData\\Local\\Temp\\ipykernel_16908\\3050387638.py\", line 4, in <module>\n",
      "    payroll_system.calculate_payroll([employee])\n",
      "  File \"C:\\Users\\HP\\AppData\\Local\\Temp\\ipykernel_16908\\2375279582.py\", line 7, in calculate_payroll\n",
      "    print(f'- Check amount: {employee.calculate_payroll()}')\n",
      "                             ^^^^^^^^^^^^^^^^^^^^^^^^^^\n",
      "AttributeError: 'Employee' object has no attribute 'calculate_payroll'\n",
      "\n"
     ]
    }
   ],
   "source": [
    "employee = Employee(1, 'Invalid')\n",
    "payroll_system = PayrollSystem()\n",
    "try:\n",
    "    payroll_system.calculate_payroll([employee])\n",
    "except AttributeError as exc:\n",
    "    print(traceback.format_exc())\n"
   ]
  },
  {
   "attachments": {},
   "cell_type": "markdown",
   "metadata": {
    "collapsed": false
   },
   "source": [
    "# Агрегация. Контейнеры. Итераторы"
   ]
  },
  {
   "cell_type": "code",
   "execution_count": 11,
   "metadata": {
    "ExecuteTime": {
     "end_time": "2023-06-12T22:25:33.372634600Z",
     "start_time": "2023-06-12T22:25:33.364399600Z"
    },
    "collapsed": false
   },
   "outputs": [],
   "source": [
    "class Storage(dict):\n",
    "    def __getattr__(self, key):\n",
    "        try:\n",
    "            return self[key]\n",
    "        except KeyError:\n",
    "            print(traceback.format_exc())\n",
    "\n",
    "    def __setattr__(self, key, value):\n",
    "        self[key] = value\n",
    "\n",
    "    def __delattr__(self, key):\n",
    "        try:\n",
    "            del self[key]\n",
    "        except KeyError:\n",
    "            print(traceback.format_exc())\n",
    "\n",
    "    def __repr__(self):\n",
    "        return '<Storage ' + dict.__repr__(self) + '>'"
   ]
  },
  {
   "cell_type": "code",
   "execution_count": 12,
   "metadata": {
    "ExecuteTime": {
     "end_time": "2023-06-12T22:25:33.840065100Z",
     "start_time": "2023-06-12T22:25:33.821534900Z"
    },
    "collapsed": false
   },
   "outputs": [
    {
     "name": "stdout",
     "output_type": "stream",
     "text": [
      "5\n",
      "5\n",
      "9\n",
      "Traceback (most recent call last):\n",
      "  File \"C:\\Users\\HP\\AppData\\Local\\Temp\\ipykernel_16908\\1529655853.py\", line 4, in __getattr__\n",
      "    return self[key]\n",
      "           ~~~~^^^^^\n",
      "KeyError: 'a'\n",
      "\n",
      "None\n"
     ]
    }
   ],
   "source": [
    "v = Storage(a=5)\n",
    "print(v.a)\n",
    "print(v['a'])\n",
    "v.a = 9\n",
    "print(v.a)\n",
    "del v.a\n",
    "print(v.a)"
   ]
  },
  {
   "cell_type": "code",
   "execution_count": 13,
   "metadata": {
    "ExecuteTime": {
     "end_time": "2023-06-12T22:25:35.285849400Z",
     "start_time": "2023-06-12T22:25:35.280594700Z"
    },
    "collapsed": false
   },
   "outputs": [
    {
     "name": "stdout",
     "output_type": "stream",
     "text": [
      "a 1\n",
      "b 2\n",
      "c 3\n"
     ]
    }
   ],
   "source": [
    "cont = Storage(a=1, b=2, c=3)\n",
    "for k in cont:\n",
    "    print(k, cont[k])"
   ]
  },
  {
   "attachments": {},
   "cell_type": "markdown",
   "metadata": {
    "collapsed": false
   },
   "source": [
    "# Композиция"
   ]
  },
  {
   "cell_type": "code",
   "execution_count": 14,
   "metadata": {
    "ExecuteTime": {
     "end_time": "2023-06-12T22:25:37.575902200Z",
     "start_time": "2023-06-12T22:25:37.568281Z"
    },
    "collapsed": false
   },
   "outputs": [],
   "source": [
    "class Address:\n",
    "    def __init__(self, street, city, state, zipcode, street2=''):\n",
    "        self.street = street\n",
    "        self.street2 = street2\n",
    "        self.city = city\n",
    "        self.state = state\n",
    "        self.zipcode = zipcode\n",
    "\n",
    "    def __str__(self):\n",
    "        lines = [self.street]\n",
    "        if self.street2:\n",
    "            lines.append(self.street2)\n",
    "        lines.append(f'{self.city}, {self.state} {self.zipcode}')\n",
    "        return '\\n'.join(lines)"
   ]
  },
  {
   "cell_type": "code",
   "execution_count": 15,
   "metadata": {
    "ExecuteTime": {
     "end_time": "2023-06-12T22:26:07.277035800Z",
     "start_time": "2023-06-12T22:26:07.269485300Z"
    },
    "collapsed": false
   },
   "outputs": [],
   "source": [
    "class Employee:\n",
    "    def __init__(self, id, name, address):\n",
    "        self.id = id\n",
    "        self.name = name\n",
    "        self.address = address\n",
    "\n",
    "    def __str__(self):\n",
    "        return f\"{self.id = }, {self.name = }, {self.address = }, {str(self.address) = }\""
   ]
  },
  {
   "cell_type": "code",
   "execution_count": 16,
   "metadata": {
    "ExecuteTime": {
     "end_time": "2023-06-12T22:26:07.687656200Z",
     "start_time": "2023-06-12T22:26:07.681597800Z"
    },
    "collapsed": false
   },
   "outputs": [
    {
     "name": "stdout",
     "output_type": "stream",
     "text": [
      "55 Main St.\n",
      "Concord, NH 03301\n"
     ]
    }
   ],
   "source": [
    "address = Address('55 Main St.', 'Concord', 'NH', '03301')\n",
    "print(address)"
   ]
  },
  {
   "cell_type": "code",
   "execution_count": 17,
   "metadata": {
    "ExecuteTime": {
     "end_time": "2023-06-12T22:26:08.167450300Z",
     "start_time": "2023-06-12T22:26:08.160911Z"
    },
    "collapsed": false
   },
   "outputs": [
    {
     "name": "stdout",
     "output_type": "stream",
     "text": [
      "self.id = 999, self.name = 'Test', self.address = <__main__.Address object at 0x000001F0160DEB10>, str(self.address) = '55 Main St.\\nConcord, NH 03301'\n"
     ]
    }
   ],
   "source": [
    "employee = Employee(999, 'Test', address)\n",
    "print(employee)"
   ]
  }
 ],
 "metadata": {
  "kernelspec": {
   "display_name": "Python 3",
   "language": "python",
   "name": "python3"
  },
  "language_info": {
   "codemirror_mode": {
    "name": "ipython",
    "version": 3
   },
   "file_extension": ".py",
   "mimetype": "text/x-python",
   "name": "python",
   "nbconvert_exporter": "python",
   "pygments_lexer": "ipython3",
   "version": "3.11.2"
  }
 },
 "nbformat": 4,
 "nbformat_minor": 0
}
