{
 "cells": [
  {
   "cell_type": "code",
   "execution_count": 1,
   "metadata": {},
   "outputs": [
    {
     "name": "stdout",
     "output_type": "stream",
     "text": [
      "Пока не установлен лучший счет\n",
      "Больше\n",
      "Меньше\n",
      "Вы угадали!\n",
      "Количество ваших попыток: 3\n",
      "Лучший счет: 3\n",
      "Больше\n",
      "Больше\n",
      "Вы угадали!\n",
      "Количество ваших попыток: 3\n"
     ]
    }
   ],
   "source": [
    "import random\n",
    "\n",
    "attempts_list = []\n",
    "\n",
    "class StopExecution(Exception):\n",
    "    def _render_traceback_(self):\n",
    "        pass\n",
    "\n",
    "def show_score():\n",
    "    if not attempts_list:\n",
    "        print('Пока не установлен лучший счет')\n",
    "\n",
    "    else:\n",
    "        print(f'Лучший счет:'\n",
    "              f' {min(attempts_list)}')\n",
    "\n",
    "\n",
    "def start_game():\n",
    "    attempts = 0\n",
    "    rand_num = random.randint(1, 10)\n",
    "    wanna_play = input(\n",
    "        f'Чтобы начать игру введите Yes')\n",
    "\n",
    "    if wanna_play.lower() != 'yes':\n",
    "        raise StopExecution\n",
    "    else:\n",
    "        show_score()\n",
    "\n",
    "    while wanna_play.lower() == 'yes':\n",
    "        try:\n",
    "            guess = int(input('Введите число в диапазоне от 1 до 10: '))\n",
    "            if guess < 1 or guess > 10:\n",
    "                raise ValueError(\n",
    "                    'Введите число в соответствующем диапазоне')\n",
    "\n",
    "            attempts += 1\n",
    "\n",
    "            if guess == rand_num:\n",
    "                print('Вы угадали!')\n",
    "                attempts_list.append(attempts)\n",
    "                print(f'Количество ваших попыток: {attempts}')\n",
    "                wanna_play = input(\n",
    "                    'Если хотите сыграть заново, введите Yes: ')\n",
    "                if wanna_play.lower() != 'yes':\n",
    "                    break\n",
    "                else:\n",
    "                    attempts = 0\n",
    "                    rand_num = random.randint(1, 10)\n",
    "                    show_score()\n",
    "                    continue\n",
    "            else:\n",
    "                if guess > rand_num:\n",
    "                    print('Меньше')\n",
    "                elif guess < rand_num:\n",
    "                    print('Больше')\n",
    "\n",
    "        except ValueError as err:\n",
    "            print('Неверное значение, попробуйте снова')\n",
    "            raise StopExecution\n",
    "\n",
    "\n",
    "if __name__ == '__main__':\n",
    "    start_game()"
   ]
  }
 ],
 "metadata": {
  "kernelspec": {
   "display_name": "Python 3",
   "language": "python",
   "name": "python3"
  },
  "language_info": {
   "codemirror_mode": {
    "name": "ipython",
    "version": 3
   },
   "file_extension": ".py",
   "mimetype": "text/x-python",
   "name": "python",
   "nbconvert_exporter": "python",
   "pygments_lexer": "ipython3",
   "version": "3.11.2"
  },
  "orig_nbformat": 4
 },
 "nbformat": 4,
 "nbformat_minor": 2
}
