{
 "cells": [
  {
   "attachments": {},
   "cell_type": "markdown",
   "metadata": {},
   "source": [
    "# Классы и объекты в Python"
   ]
  },
  {
   "cell_type": "code",
   "execution_count": null,
   "metadata": {},
   "outputs": [],
   "source": [
    "class Car:\n",
    "    pass\n",
    "\n",
    "car = Car()\n"
   ]
  },
  {
   "cell_type": "code",
   "execution_count": null,
   "metadata": {},
   "outputs": [],
   "source": [
    "# начиная с Python 3.0\n",
    "\n",
    "class Car(object):\n",
    "    pass"
   ]
  },
  {
   "attachments": {},
   "cell_type": "markdown",
   "metadata": {},
   "source": [
    "## Атрибуты класса\n",
    "\n",
    "Атрибуты класса - совокупность полей и методов\n",
    "Виды атрибутов класса:\n",
    "* Встроенные (служебные) атрибуты\n",
    "* Пользовательские атрибуты"
   ]
  },
  {
   "cell_type": "code",
   "execution_count": 1,
   "metadata": {},
   "outputs": [
    {
     "data": {
      "text/plain": [
       "['__class__',\n",
       " '__delattr__',\n",
       " '__dict__',\n",
       " '__dir__',\n",
       " '__doc__',\n",
       " '__eq__',\n",
       " '__format__',\n",
       " '__ge__',\n",
       " '__getattribute__',\n",
       " '__getstate__',\n",
       " '__gt__',\n",
       " '__hash__',\n",
       " '__init__',\n",
       " '__init_subclass__',\n",
       " '__le__',\n",
       " '__lt__',\n",
       " '__module__',\n",
       " '__ne__',\n",
       " '__new__',\n",
       " '__reduce__',\n",
       " '__reduce_ex__',\n",
       " '__repr__',\n",
       " '__setattr__',\n",
       " '__sizeof__',\n",
       " '__str__',\n",
       " '__subclasshook__',\n",
       " '__weakref__']"
      ]
     },
     "execution_count": 1,
     "metadata": {},
     "output_type": "execute_result"
    }
   ],
   "source": [
    "class Car:\n",
    "    pass\n",
    "\n",
    "# Dir() - вернуть список всех атрибутов класса или объекта\n",
    "dir(Car)"
   ]
  },
  {
   "cell_type": "code",
   "execution_count": 2,
   "metadata": {},
   "outputs": [
    {
     "data": {
      "text/plain": [
       "['__class__',\n",
       " '__delattr__',\n",
       " '__dict__',\n",
       " '__dir__',\n",
       " '__doc__',\n",
       " '__eq__',\n",
       " '__format__',\n",
       " '__ge__',\n",
       " '__getattribute__',\n",
       " '__getstate__',\n",
       " '__gt__',\n",
       " '__hash__',\n",
       " '__init__',\n",
       " '__init_subclass__',\n",
       " '__le__',\n",
       " '__lt__',\n",
       " '__module__',\n",
       " '__ne__',\n",
       " '__new__',\n",
       " '__reduce__',\n",
       " '__reduce_ex__',\n",
       " '__repr__',\n",
       " '__setattr__',\n",
       " '__sizeof__',\n",
       " '__str__',\n",
       " '__subclasshook__',\n",
       " '__weakref__',\n",
       " 'color',\n",
       " 'run']"
      ]
     },
     "execution_count": 2,
     "metadata": {},
     "output_type": "execute_result"
    }
   ],
   "source": [
    "class Car():\n",
    "    color = \"Red\"\n",
    "\n",
    "    def run(self):\n",
    "        pass\n",
    "\n",
    "dir(Car)"
   ]
  },
  {
   "attachments": {},
   "cell_type": "markdown",
   "metadata": {},
   "source": [
    "## Поля класса\n",
    "\n",
    "Поля (переменные) класса - это переменные, которые объявлены внутри тела класса\n",
    "Виды полей класса:\n",
    "* Статические (переменные класса)\n",
    "* Динамические (переменные объекта)"
   ]
  },
  {
   "cell_type": "code",
   "execution_count": 3,
   "metadata": {},
   "outputs": [
    {
     "name": "stdout",
     "output_type": "stream",
     "text": [
      "Red\n",
      "Green\n"
     ]
    }
   ],
   "source": [
    "# Статические поля\n",
    "\n",
    "class Car:\n",
    "    default_color = \"Red\"\n",
    "\n",
    "print(Car.default_color)\n",
    "Car.default_color = \"Green\"\n",
    "print(Car.default_color)"
   ]
  },
  {
   "cell_type": "code",
   "execution_count": 4,
   "metadata": {},
   "outputs": [],
   "source": [
    "# Динамические поля\n",
    "\n",
    "class Car:\n",
    "    def __init__(self, color) -> None:\n",
    "        self.color = color\n",
    "\n",
    "car = Car(\"Green\")"
   ]
  },
  {
   "attachments": {},
   "cell_type": "markdown",
   "metadata": {},
   "source": [
    "## Методы класса\n",
    "\n",
    "Методы класса (функции) - это функции, которые объявлены внутри тела класса\n",
    "\n",
    "Виды методов класса:\n",
    "* Обычные (экземпляра класса)\n",
    "* Статические\n",
    "* Классовые (методы класса)"
   ]
  },
  {
   "cell_type": "code",
   "execution_count": 7,
   "metadata": {},
   "outputs": [
    {
     "name": "stdout",
     "output_type": "stream",
     "text": [
      "Классовый метод\n",
      "Статический метод\n",
      "Обычный метод\n"
     ]
    }
   ],
   "source": [
    "class Car: \n",
    "    # обычный метод\n",
    "    def run(self, value):\n",
    "        print(\"Обычный метод\")\n",
    "\n",
    "    # статический метод\n",
    "    @staticmethod\n",
    "    def conver(value):\n",
    "        print(\"Статический метод\")\n",
    "\n",
    "    # классовые методы\n",
    "    @classmethod\n",
    "    def set_default_color(cls, value):\n",
    "        print(\"Классовый метод\")\n",
    "\n",
    "Car.set_default_color(\"Red\")\n",
    "Car.conver(1234)\n",
    "Car().run(5)"
   ]
  },
  {
   "attachments": {},
   "cell_type": "markdown",
   "metadata": {},
   "source": [
    "## Уровни доступа атрибутов\n",
    "\n",
    "Все атрибуты класса в Python являются публичными по умолчанию\n",
    "Модификаторы доступа (известны нам из классических языков программирования):\n",
    "* Private - \"__*\"\n",
    "* Protected - \"_*\" \n",
    "* Public"
   ]
  },
  {
   "attachments": {},
   "cell_type": "markdown",
   "metadata": {},
   "source": [
    "## Свойства\n",
    "\n",
    "Свойства или управляемые атрибуты "
   ]
  },
  {
   "cell_type": "code",
   "execution_count": 8,
   "metadata": {},
   "outputs": [
    {
     "name": "stdout",
     "output_type": "stream",
     "text": [
      "19\n",
      "31\n"
     ]
    }
   ],
   "source": [
    "# использование методов для имитации свойств\n",
    "\n",
    "class Person:\n",
    "    def __init__(self, age) -> None:\n",
    "        self._age = age\n",
    "\n",
    "    def get_age(self):\n",
    "        return self._age\n",
    "    \n",
    "    def set_age(self, value):\n",
    "        self._age = value\n",
    "    \n",
    "person = Person(age = 19)\n",
    "print(person.get_age())\n",
    "person.set_age(31)\n",
    "print(person.get_age())"
   ]
  },
  {
   "cell_type": "code",
   "execution_count": 10,
   "metadata": {},
   "outputs": [
    {
     "name": "stdout",
     "output_type": "stream",
     "text": [
      "23\n"
     ]
    }
   ],
   "source": [
    "# использование функции для объявление свойства\n",
    "\n",
    "class Person:\n",
    "    def __init__(self, age) -> None:\n",
    "        self._age = age\n",
    "\n",
    "    \n",
    "    def _get_age(self):\n",
    "        return self._age\n",
    "    \n",
    "    def _set_age(self, value):\n",
    "        self._age = value\n",
    "\n",
    "    def _del_age(self):\n",
    "        del self._age\n",
    "\n",
    "    age = property(\n",
    "        fget = _get_age,\n",
    "        fset = _set_age,\n",
    "        fdel = _del_age,\n",
    "        doc = \"Возраст\"\n",
    "    )\n",
    "\n",
    "person = Person(22)\n",
    "person.age = 23\n",
    "print(person.age)"
   ]
  },
  {
   "cell_type": "code",
   "execution_count": 12,
   "metadata": {},
   "outputs": [
    {
     "name": "stdout",
     "output_type": "stream",
     "text": [
      "23\n"
     ]
    }
   ],
   "source": [
    "# использование декораторов для объявления свойств\n",
    "\n",
    "class Person:\n",
    "    def __init__(self, age) -> None:\n",
    "        # self._age = age - плохо\n",
    "        self.age = age\n",
    "\n",
    "    @property\n",
    "    def age(self):\n",
    "        return self._age\n",
    "    \n",
    "    @age.setter\n",
    "    def age(self, value):\n",
    "        self._age = value\n",
    "\n",
    "    @age.deleter\n",
    "    def age(self):\n",
    "        del self._age\n",
    "\n",
    "\n",
    "person = Person(22)\n",
    "person.age = 23\n",
    "print(person.age)"
   ]
  },
  {
   "cell_type": "code",
   "execution_count": null,
   "metadata": {},
   "outputs": [],
   "source": [
    "# свойства только для чтения\n",
    "\n",
    "class Person:\n",
    "    def __init__(self, age) -> None:\n",
    "        # self._age = age - плохо\n",
    "        self.age = age\n",
    "\n",
    "    @property\n",
    "    def age(self):\n",
    "        return self._age\n",
    "\n",
    "\n",
    "\n",
    "person = Person(22)\n",
    "# person.age = 23\n",
    "print(person.age)"
   ]
  },
  {
   "cell_type": "code",
   "execution_count": null,
   "metadata": {},
   "outputs": [],
   "source": [
    "# свойства только для записи\n",
    "\n",
    "class Person:\n",
    "    def __init__(self, age) -> None:\n",
    "        # self._age = age - плохо\n",
    "        self.age = age\n",
    "\n",
    "    @property\n",
    "    def age(self):\n",
    "        raise AttributeError(\"'age' только для записи\")\n",
    "    \n",
    "    @age.setter\n",
    "    def age(self, value):\n",
    "        self._age = value\n",
    "\n",
    "person = Person(22)\n",
    "person.age = 23\n",
    "\n"
   ]
  }
 ],
 "metadata": {
  "kernelspec": {
   "display_name": "Python 3",
   "language": "python",
   "name": "python3"
  },
  "language_info": {
   "codemirror_mode": {
    "name": "ipython",
    "version": 3
   },
   "file_extension": ".py",
   "mimetype": "text/x-python",
   "name": "python",
   "nbconvert_exporter": "python",
   "pygments_lexer": "ipython3",
   "version": "3.11.2"
  },
  "orig_nbformat": 4,
  "vscode": {
   "interpreter": {
    "hash": "1f6a27bcfbe46a917dbd192f4a82657396dda26148bae633192e8d28c70725f1"
   }
  }
 },
 "nbformat": 4,
 "nbformat_minor": 2
}
