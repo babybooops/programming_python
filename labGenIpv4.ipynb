{
 "cells": [
  {
   "attachments": {},
   "cell_type": "markdown",
   "metadata": {},
   "source": [
    "# Генератор IP адресов"
   ]
  },
  {
   "cell_type": "code",
   "execution_count": 4,
   "metadata": {},
   "outputs": [],
   "source": [
    "from random import randint"
   ]
  },
  {
   "cell_type": "code",
   "execution_count": 48,
   "metadata": {},
   "outputs": [
    {
     "name": "stdout",
     "output_type": "stream",
     "text": [
      "195.189.252.12\n"
     ]
    }
   ],
   "source": [
    "def GenIpv4(min = (0, 0, 0, 0), max = (255, 255, 255, 255)):\n",
    "        a = randint(min[0], max[0]) \n",
    "        b = randint(min[1], max[1])\n",
    "        c = randint(min[2], max[2])\n",
    "        d = randint(min[3] ,max[3])\n",
    "        print(str(a) + '.' + str(b) + '.' + str(c) + '.' + str(d))\n",
    "\n",
    "GenIpv4(min=(192, 168, 20, 12), max=(195, 250, 255, 90))\n"
   ]
  }
 ],
 "metadata": {
  "kernelspec": {
   "display_name": "Python 3",
   "language": "python",
   "name": "python3"
  },
  "language_info": {
   "codemirror_mode": {
    "name": "ipython",
    "version": 3
   },
   "file_extension": ".py",
   "mimetype": "text/x-python",
   "name": "python",
   "nbconvert_exporter": "python",
   "pygments_lexer": "ipython3",
   "version": "3.11.2"
  },
  "orig_nbformat": 4
 },
 "nbformat": 4,
 "nbformat_minor": 2
}
