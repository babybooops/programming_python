{
 "cells": [
  {
   "attachments": {},
   "cell_type": "markdown",
   "metadata": {},
   "source": [
    "# Генератор IP адресов"
   ]
  },
  {
   "cell_type": "code",
   "execution_count": 5,
   "metadata": {},
   "outputs": [],
   "source": [
    "from random import randint"
   ]
  },
  {
   "cell_type": "code",
   "execution_count": 6,
   "metadata": {},
   "outputs": [
    {
     "name": "stdout",
     "output_type": "stream",
     "text": [
      "193.207.79.14\n"
     ]
    }
   ],
   "source": [
    "def GenIpv4(min: tuple, max: tuple) -> str:\n",
    "        ipv = ''\n",
    "        if ((min[0] >= 0) & (min[1] >= 0) & (min[2] >= 0) & (min[3] >= 0) & (max[0] <= 255) & (max[1] <= 255) & (max[2] <= 255) & (max[3] <= 255)): # проверка на то, входит ли значение в диапазон\n",
    "                a = randint(min[0], max[0]) # составление ip адреса\n",
    "                b = randint(min[1], max[1]) \n",
    "                c = randint(min[2], max[2])\n",
    "                d = randint(min[3] ,max[3])\n",
    "                ipv = str(a) + '.' + str(b) + '.' + str(c) + '.' + str(d)\n",
    "                return ipv\n",
    "        else:\n",
    "                raise \"Ошибка: минимальное значение IP-адреса = 0, максимальное значение IP-адреса = 255\"\n",
    "\n",
    "print(GenIpv4(min=(192, 168, 10, 12), max=(195, 250, 250, 90)))\n"
   ]
  },
  {
   "cell_type": "code",
   "execution_count": 7,
   "metadata": {},
   "outputs": [
    {
     "name": "stdout",
     "output_type": "stream",
     "text": [
      "190.123.25.197\n"
     ]
    }
   ],
   "source": [
    "print(GenIpv4(min=(0, 0, 0, 0), max=(255, 255, 255, 255)))"
   ]
  },
  {
   "cell_type": "code",
   "execution_count": 8,
   "metadata": {},
   "outputs": [
    {
     "name": "stdout",
     "output_type": "stream",
     "text": [
      "124.95.240.10\n"
     ]
    }
   ],
   "source": [
    "print(GenIpv4(min=(85, 17, 200, 2), max=(200, 113, 255, 36)))"
   ]
  },
  {
   "cell_type": "code",
   "execution_count": 9,
   "metadata": {},
   "outputs": [
    {
     "name": "stdout",
     "output_type": "stream",
     "text": [
      "Ошибка: минимальное значение IP-адреса = 0, максимальное значение IP-адреса = 255\n"
     ]
    }
   ],
   "source": [
    "print(GenIpv4(min=(-5, 17, 200, 2), max=(200, 300, 255, 36)))"
   ]
  }
 ],
 "metadata": {
  "kernelspec": {
   "display_name": "Python 3",
   "language": "python",
   "name": "python3"
  },
  "language_info": {
   "codemirror_mode": {
    "name": "ipython",
    "version": 3
   },
   "file_extension": ".py",
   "mimetype": "text/x-python",
   "name": "python",
   "nbconvert_exporter": "python",
   "pygments_lexer": "ipython3",
   "version": "3.11.2"
  },
  "orig_nbformat": 4
 },
 "nbformat": 4,
 "nbformat_minor": 2
}
