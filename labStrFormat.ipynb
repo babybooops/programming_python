{
 "cells": [
  {
   "attachments": {},
   "cell_type": "markdown",
   "metadata": {},
   "source": [
    "# Форматирование строк"
   ]
  },
  {
   "attachments": {},
   "cell_type": "markdown",
   "metadata": {},
   "source": [
    "## Конкатенация строк"
   ]
  },
  {
   "cell_type": "code",
   "execution_count": 1,
   "metadata": {},
   "outputs": [
    {
     "name": "stdout",
     "output_type": "stream",
     "text": [
      "Привет, меня зовут Миша. Мне 19 лет.\n"
     ]
    }
   ],
   "source": [
    "print(\"Привет, меня зовут \" + \"Миша\" + \". Мне \" + str(19) + \" лет.\")"
   ]
  },
  {
   "attachments": {},
   "cell_type": "markdown",
   "metadata": {},
   "source": [
    "## Строковый метод формат"
   ]
  },
  {
   "cell_type": "code",
   "execution_count": 6,
   "metadata": {},
   "outputs": [
    {
     "name": "stdout",
     "output_type": "stream",
     "text": [
      "Привет, Катя!\n",
      "Привет, Катя, тебе уже 19 лет!\n",
      "Привет, Катя, Катя тебе уже 19 лет!\n",
      "Буквы: e, w, q\n",
      "pi = 3.14\n"
     ]
    }
   ],
   "source": [
    "print(\"Привет, {}!\".format(\"Катя\"))\n",
    "print(\"Привет, {}, тебе уже {} лет!\".format(\"Катя\", 19))\n",
    "print(\"Привет, {0}, {0} тебе уже {1} лет!\".format(\"Катя\", 19))\n",
    "print(\"Буквы: {2}, {1}, {0}\".format(*\"qwerty\"))\n",
    "print(\"{var} = {value}\".format(var='pi', value=3.14))"
   ]
  },
  {
   "attachments": {},
   "cell_type": "markdown",
   "metadata": {},
   "source": [
    "## Процент-форматирование"
   ]
  },
  {
   "cell_type": "code",
   "execution_count": 12,
   "metadata": {},
   "outputs": [
    {
     "name": "stdout",
     "output_type": "stream",
     "text": [
      "col_12345\n",
      "Автобус № 234\n",
      "25\n",
      "   25\n",
      "25   \n",
      "pi = 3.141500\n",
      "pi = 3.1415\n",
      "pi = 3.142\n"
     ]
    }
   ],
   "source": [
    "print(\"col_%d\" % 12345)\n",
    "print(\"%s № %d\" % (\"Автобус\", 234))\n",
    "print(\"%d\" % 25)\n",
    "print(\"%5d\" % 25)\n",
    "print(\"%-5d\" % 25)\n",
    "print(\"pi = %f\" % 3.1415)\n",
    "print(\"pi = %.4f\" % 3.1415)\n",
    "print(\"pi = %.3f\" % 3.1415)"
   ]
  },
  {
   "attachments": {},
   "cell_type": "markdown",
   "metadata": {},
   "source": [
    "## f-строки (интерполированные строки)"
   ]
  },
  {
   "cell_type": "code",
   "execution_count": 14,
   "metadata": {},
   "outputs": [
    {
     "name": "stdout",
     "output_type": "stream",
     "text": [
      "Привет, Ваня!\n",
      "2\n"
     ]
    }
   ],
   "source": [
    "name = \"Ваня\"\n",
    "print(f\"Привет, {name}!\")\n",
    "a = 1\n",
    "b = 2\n",
    "print(f\"{a if a > b else b}\")"
   ]
  },
  {
   "cell_type": "code",
   "execution_count": 18,
   "metadata": {},
   "outputs": [
    {
     "name": "stdout",
     "output_type": "stream",
     "text": [
      "       Hello        \n",
      "Hello               \n",
      "               Hello\n",
      "_______Hello________\n",
      "Hello_______________\n",
      "_______________Hello\n"
     ]
    }
   ],
   "source": [
    "# ... совместно с mini-language\n",
    "print(f\"{'Hello':^20}\")\n",
    "print(f\"{'Hello':<20}\")\n",
    "print(f\"{'Hello':>20}\")\n",
    "print(f\"{'Hello':_^20}\")\n",
    "print(f\"{'Hello':_<20}\")\n",
    "print(f\"{'Hello':_>20}\")\n"
   ]
  },
  {
   "cell_type": "code",
   "execution_count": 22,
   "metadata": {},
   "outputs": [
    {
     "name": "stdout",
     "output_type": "stream",
     "text": [
      "255\n",
      "11111111\n",
      "0b11111111\n",
      "377\n",
      "0o377\n",
      "ff\n",
      "0xff\n"
     ]
    }
   ],
   "source": [
    "# переводы в системы счисления: двоичную, восьмеричную, шестнадцатеричную\n",
    "print(f\"{255}\")\n",
    "print(f\"{255:b}\")\n",
    "print(f\"{255:#b}\")\n",
    "print(f\"{255:o}\")\n",
    "print(f\"{255:#o}\")\n",
    "print(f\"{255:x}\")\n",
    "print(f\"{255:#x}\")"
   ]
  },
  {
   "cell_type": "code",
   "execution_count": 24,
   "metadata": {},
   "outputs": [
    {
     "name": "stdout",
     "output_type": "stream",
     "text": [
      "123_456_789\n",
      "123_123_455_748\n"
     ]
    }
   ],
   "source": [
    "x = 123_12345_5748\n",
    "print(f\"{123456789:_}\")\n",
    "print(f\"{x:_}\")"
   ]
  },
  {
   "attachments": {},
   "cell_type": "markdown",
   "metadata": {},
   "source": [
    "## Template-строки"
   ]
  },
  {
   "cell_type": "code",
   "execution_count": 28,
   "metadata": {},
   "outputs": [
    {
     "name": "stdout",
     "output_type": "stream",
     "text": [
      "<class 'string.Template'>\n",
      "Меня зовут Юля. Мне 19 лет\n"
     ]
    }
   ],
   "source": [
    "from string import Template\n",
    "\n",
    "name = \"Юля\"\n",
    "age = \"19\"\n",
    "v = Template(\"Меня зовут $name. Мне $age лет\")\n",
    "print(type(v))\n",
    "print(v.substitute(name = name, age = age))"
   ]
  }
 ],
 "metadata": {
  "kernelspec": {
   "display_name": "Python 3",
   "language": "python",
   "name": "python3"
  },
  "language_info": {
   "codemirror_mode": {
    "name": "ipython",
    "version": 3
   },
   "file_extension": ".py",
   "mimetype": "text/x-python",
   "name": "python",
   "nbconvert_exporter": "python",
   "pygments_lexer": "ipython3",
   "version": "3.11.2"
  },
  "orig_nbformat": 4,
  "vscode": {
   "interpreter": {
    "hash": "1f6a27bcfbe46a917dbd192f4a82657396dda26148bae633192e8d28c70725f1"
   }
  }
 },
 "nbformat": 4,
 "nbformat_minor": 2
}
