{
 "cells": [
  {
   "cell_type": "code",
   "execution_count": 3,
   "metadata": {
    "ExecuteTime": {
     "end_time": "2023-06-12T22:03:32.657050100Z",
     "start_time": "2023-06-12T22:03:32.640512700Z"
    },
    "collapsed": true
   },
   "outputs": [],
   "source": [
    "from PIL import ImageDraw, Image\n",
    "\n",
    "\n",
    "class DrawBoard:\n",
    "    \"\"\"Функция инициализации\"\"\"\n",
    "    def __init__(self, width=600, height=450, bg_color='brown', light_stripe_color='white', dark_stripe_color='black') -> None:\n",
    "        if width % 12 != 0:\n",
    "            raise ValueError('Width must be a multiple of 12')\n",
    "        self.width = width\n",
    "        self.height = height\n",
    "        self.bg_color = bg_color\n",
    "        self.light_stripe_color = light_stripe_color\n",
    "        self.dark_stripe_color = dark_stripe_color\n",
    "\n",
    "    \"\"\"Функция отрисовски доски\"\"\"\n",
    "    def draw_board(self) -> None:\n",
    "        img = Image.new('RGBA', (self.width, self.height), self.bg_color)\n",
    "        image = ImageDraw.Draw(img)\n",
    "        x = 0 # переменная для сдвига треугольников\n",
    "        triangle_width = self.width // 12\n",
    "        # рисование верхних треугольников\n",
    "        for i in range(12):\n",
    "            if i % 2 == 0:\n",
    "                color = self.dark_stripe_color\n",
    "            else:\n",
    "                color = self.light_stripe_color\n",
    "            image.polygon([(x, 0), (x+triangle_width, 0), (x+triangle_width//2, self.height//2 - 20)], fill=color)\n",
    "            x += triangle_width\n",
    "        x=0\n",
    "        # рисование нижних треугольников\n",
    "        for i in range(12):\n",
    "            if i % 2 == 0:\n",
    "                color = self.light_stripe_color\n",
    "            else:\n",
    "                color = self.dark_stripe_color\n",
    "            image.polygon([(x, self.height), (x+triangle_width, self.height), (x+triangle_width//2, self.height//2)], fill=color)\n",
    "            x += triangle_width\n",
    "        display(img)"
   ]
  },
  {
   "cell_type": "code",
   "execution_count": 4,
   "metadata": {
    "ExecuteTime": {
     "end_time": "2023-06-12T22:03:32.662566400Z",
     "start_time": "2023-06-12T22:03:32.657566700Z"
    },
    "collapsed": false
   },
   "outputs": [
    {
     "data": {
      "image/png": "[encoded data removed]",
      "text/plain": [
       "<PIL.Image.Image image mode=RGBA size=600x450>"
      ]
     },
     "metadata": {},
     "output_type": "display_data"
    }
   ],
   "source": [
    "nards = DrawBoard()\n",
    "nards.draw_board()"
   ]
  }
 ],
 "metadata": {
  "kernelspec": {
   "display_name": "Python 3",
   "language": "python",
   "name": "python3"
  },
  "language_info": {
   "codemirror_mode": {
    "name": "ipython",
    "version": 3
   },
   "file_extension": ".py",
   "mimetype": "text/x-python",
   "name": "python",
   "nbconvert_exporter": "python",
   "pygments_lexer": "ipython3",
   "version": "3.11.2"
  }
 },
 "nbformat": 4,
 "nbformat_minor": 0
}
