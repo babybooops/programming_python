{
 "cells": [
  {
   "attachments": {},
   "cell_type": "markdown",
   "metadata": {},
   "source": [
    "# OS - работа с каталогами"
   ]
  },
  {
   "cell_type": "code",
   "execution_count": 1,
   "metadata": {},
   "outputs": [],
   "source": [
    "import os"
   ]
  },
  {
   "cell_type": "code",
   "execution_count": 2,
   "metadata": {},
   "outputs": [],
   "source": [
    "TEMP_DIR = \"temp\""
   ]
  },
  {
   "cell_type": "code",
   "execution_count": 3,
   "metadata": {},
   "outputs": [
    {
     "data": {
      "text/plain": [
       "'c:\\\\Users\\\\HP\\\\OneDrive\\\\Рабочий стол\\\\вуз\\\\Программирование\\\\programming_python'"
      ]
     },
     "execution_count": 3,
     "metadata": {},
     "output_type": "execute_result"
    }
   ],
   "source": [
    "# Вернуть текущий каталог\n",
    "os.getcwd()"
   ]
  },
  {
   "cell_type": "code",
   "execution_count": 4,
   "metadata": {},
   "outputs": [
    {
     "data": {
      "text/plain": [
       "False"
      ]
     },
     "execution_count": 4,
     "metadata": {},
     "output_type": "execute_result"
    }
   ],
   "source": [
    "os.path.exists(TEMP_DIR)"
   ]
  },
  {
   "cell_type": "code",
   "execution_count": 5,
   "metadata": {},
   "outputs": [],
   "source": [
    "if not os.path.exists(TEMP_DIR):\n",
    "    os.mkdir(TEMP_DIR)"
   ]
  },
  {
   "cell_type": "code",
   "execution_count": 9,
   "metadata": {},
   "outputs": [
    {
     "name": "stdout",
     "output_type": "stream",
     "text": [
      "os.stat_result(st_mode=33206, st_ino=2814749767525606, st_dev=3368807938, st_nlink=1, st_uid=0, st_gid=0, st_size=283, st_atime=1678342089, st_mtime=1675931561, st_ctime=1675930328)\n",
      "283\n",
      "283\n",
      "283\n"
     ]
    }
   ],
   "source": [
    "filename = \"labHello.py\"\n",
    "f = os.stat(filename)\n",
    "print(f)\n",
    "print(f.st_size)\n",
    "print(os.stat(filename).st_size)\n",
    "print(os.path.getsize(filename))"
   ]
  },
  {
   "cell_type": "code",
   "execution_count": 11,
   "metadata": {},
   "outputs": [
    {
     "data": {
      "text/plain": [
       "'c:\\\\Users\\\\HP\\\\OneDrive\\\\Рабочий стол\\\\вуз'"
      ]
     },
     "execution_count": 11,
     "metadata": {},
     "output_type": "execute_result"
    }
   ],
   "source": [
    "os.chdir(\"..\") # относительный путь\n",
    "os.getcwd()"
   ]
  },
  {
   "cell_type": "code",
   "execution_count": 13,
   "metadata": {},
   "outputs": [
    {
     "data": {
      "text/plain": [
       "'C:\\\\Windows\\\\Help'"
      ]
     },
     "execution_count": 13,
     "metadata": {},
     "output_type": "execute_result"
    }
   ],
   "source": [
    "os.chdir(\"C:\\Windows\\Help\") # абсолютный путь\n",
    "os.getcwd()"
   ]
  },
  {
   "cell_type": "code",
   "execution_count": 14,
   "metadata": {},
   "outputs": [
    {
     "data": {
      "text/plain": [
       "['Corporate', 'en-US', 'Help', 'mui', 'OEM', 'Windows']"
      ]
     },
     "execution_count": 14,
     "metadata": {},
     "output_type": "execute_result"
    }
   ],
   "source": [
    "os.listdir()"
   ]
  },
  {
   "cell_type": "code",
   "execution_count": 16,
   "metadata": {},
   "outputs": [
    {
     "name": "stdout",
     "output_type": "stream",
     "text": [
      "('.', ['Corporate', 'en-US', 'Help', 'mui', 'OEM', 'Windows'], [])\n",
      "('.\\\\Corporate', [], [])\n",
      "('.\\\\en-US', [], ['credits.rtf'])\n",
      "('.\\\\Help', [], [])\n",
      "('.\\\\mui', ['0409', '0419'], [])\n",
      "('.\\\\mui\\\\0409', [], [])\n",
      "('.\\\\mui\\\\0419', [], ['cliconf.chm', 'mmc.CHM', 'msdasc.chm', 'msorcl32.chm', 'odbcinst.chm', 'odbcjet.chm', 'sqlsodbc.chm', 'sqlsoldb.chm'])\n",
      "('.\\\\OEM', ['ContentStore', 'IndexStore'], [])\n",
      "('.\\\\OEM\\\\ContentStore', [], [])\n",
      "('.\\\\OEM\\\\IndexStore', [], [])\n",
      "('.\\\\Windows', ['ContentStore', 'IndexStore'], [])\n",
      "('.\\\\Windows\\\\ContentStore', ['en-US'], [])\n",
      "('.\\\\Windows\\\\ContentStore\\\\en-US', [], [])\n",
      "('.\\\\Windows\\\\IndexStore', ['en-US'], [])\n",
      "('.\\\\Windows\\\\IndexStore\\\\en-US', [], [])\n"
     ]
    }
   ],
   "source": [
    "for x in os.walk(\".\"):\n",
    "    print(x)"
   ]
  },
  {
   "cell_type": "code",
   "execution_count": 18,
   "metadata": {},
   "outputs": [
    {
     "name": "stdout",
     "output_type": "stream",
     "text": [
      "C:\\Windows\\Help ['Corporate', 'en-US', 'Help', 'mui', 'OEM', 'Windows'] []\n",
      "C:\\Windows\\Help\\Corporate [] []\n",
      "C:\\Windows\\Help\\en-US [] ['credits.rtf']\n",
      "C:\\Windows\\Help\\Help [] []\n",
      "C:\\Windows\\Help\\mui ['0409', '0419'] []\n",
      "C:\\Windows\\Help\\mui\\0409 [] []\n",
      "C:\\Windows\\Help\\mui\\0419 [] ['cliconf.chm', 'mmc.CHM', 'msdasc.chm', 'msorcl32.chm', 'odbcinst.chm', 'odbcjet.chm', 'sqlsodbc.chm', 'sqlsoldb.chm']\n",
      "C:\\Windows\\Help\\OEM ['ContentStore', 'IndexStore'] []\n",
      "C:\\Windows\\Help\\OEM\\ContentStore [] []\n",
      "C:\\Windows\\Help\\OEM\\IndexStore [] []\n",
      "C:\\Windows\\Help\\Windows ['ContentStore', 'IndexStore'] []\n",
      "C:\\Windows\\Help\\Windows\\ContentStore ['en-US'] []\n",
      "C:\\Windows\\Help\\Windows\\ContentStore\\en-US [] []\n",
      "C:\\Windows\\Help\\Windows\\IndexStore ['en-US'] []\n",
      "C:\\Windows\\Help\\Windows\\IndexStore\\en-US [] []\n"
     ]
    }
   ],
   "source": [
    "for cur_dir, dirs, files in os.walk(\".\"):\n",
    "    print(os.path.abspath(cur_dir), dirs, files)"
   ]
  },
  {
   "cell_type": "code",
   "execution_count": 19,
   "metadata": {},
   "outputs": [
    {
     "name": "stdout",
     "output_type": "stream",
     "text": [
      "credits.rtf\n",
      "cliconf.chm\n",
      "mmc.CHM\n",
      "msdasc.chm\n",
      "msorcl32.chm\n",
      "odbcinst.chm\n",
      "odbcjet.chm\n",
      "sqlsodbc.chm\n",
      "sqlsoldb.chm\n"
     ]
    }
   ],
   "source": [
    "# Распечатать рекурсивно абсолютные пути ТОЛЬКО к файлам \n",
    "\n",
    "for cur_dir, dirs, files in os.walk(\".\"):\n",
    "    for file in files:\n",
    "        print(os.path.join(os.path.abspath(cur_dir), file))"
   ]
  },
  {
   "cell_type": "code",
   "execution_count": 20,
   "metadata": {},
   "outputs": [
    {
     "name": "stdout",
     "output_type": "stream",
     "text": [
      "C:\\Windows\\Help\\Corporate\n",
      "C:\\Windows\\Help\\en-US\n",
      "C:\\Windows\\Help\\Help\n",
      "C:\\Windows\\Help\\mui\n",
      "C:\\Windows\\Help\\OEM\n",
      "C:\\Windows\\Help\\Windows\n",
      "C:\\Windows\\Help\\mui\\0409\n",
      "C:\\Windows\\Help\\mui\\0419\n",
      "C:\\Windows\\Help\\OEM\\ContentStore\n",
      "C:\\Windows\\Help\\OEM\\IndexStore\n",
      "C:\\Windows\\Help\\Windows\\ContentStore\n",
      "C:\\Windows\\Help\\Windows\\IndexStore\n",
      "C:\\Windows\\Help\\Windows\\ContentStore\\en-US\n",
      "C:\\Windows\\Help\\Windows\\IndexStore\\en-US\n"
     ]
    }
   ],
   "source": [
    "# Распечатать рекурсивно абсолютные пути ТОЛЬКО к каталогам \n",
    "\n",
    "for cur_dir, dirs, files in os.walk(\".\"):\n",
    "    for dir in dirs:\n",
    "        print(os.path.join(os.path.abspath(cur_dir), dir))"
   ]
  },
  {
   "cell_type": "code",
   "execution_count": 22,
   "metadata": {},
   "outputs": [
    {
     "name": "stdout",
     "output_type": "stream",
     "text": [
      "HP\n",
      "6\n"
     ]
    }
   ],
   "source": [
    "print(os.getlogin())\n",
    "print(os.cpu_count())"
   ]
  }
 ],
 "metadata": {
  "kernelspec": {
   "display_name": "Python 3",
   "language": "python",
   "name": "python3"
  },
  "language_info": {
   "codemirror_mode": {
    "name": "ipython",
    "version": 3
   },
   "file_extension": ".py",
   "mimetype": "text/x-python",
   "name": "python",
   "nbconvert_exporter": "python",
   "pygments_lexer": "ipython3",
   "version": "3.11.2"
  },
  "orig_nbformat": 4
 },
 "nbformat": 4,
 "nbformat_minor": 2
}
