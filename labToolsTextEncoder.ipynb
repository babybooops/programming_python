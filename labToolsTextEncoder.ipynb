{
 "cells": [
  {
   "cell_type": "code",
   "execution_count": 5,
   "metadata": {
    "collapsed": true,
    "ExecuteTime": {
     "end_time": "2023-06-07T20:56:07.355531Z",
     "start_time": "2023-06-07T20:56:07.333344200Z"
    }
   },
   "outputs": [],
   "source": [
    "from ToolsTextEncoder import Encoder"
   ]
  },
  {
   "cell_type": "code",
   "execution_count": 6,
   "outputs": [
    {
     "name": "stdout",
     "output_type": "stream",
     "text": [
      "MWnSWRTSnWYTnDW nRS SWQW SnmQA\n"
     ]
    }
   ],
   "source": [
    "print(Encoder.rot13_text(\"Dgsngjknsglksmg sjn ngfg nsdfb\"))"
   ],
   "metadata": {
    "collapsed": false,
    "ExecuteTime": {
     "end_time": "2023-06-07T20:56:07.356640900Z",
     "start_time": "2023-06-07T20:56:07.338879200Z"
    }
   }
  },
  {
   "cell_type": "code",
   "execution_count": 7,
   "outputs": [
    {
     "name": "stdout",
     "output_type": "stream",
     "text": [
      "baabbaabaabaababaabb aaaaaababbaabbaabbbabaaabbbaaabaabbaabbbabbaa baabaaababbaabaaaabbaababaaaaabaabaaaabbaaaaabaabaaaabb\n"
     ]
    }
   ],
   "source": [
    "print(Encoder.bacon_text(\"Test algorythm sfsdfasdasd\"))"
   ],
   "metadata": {
    "collapsed": false,
    "ExecuteTime": {
     "end_time": "2023-06-07T20:56:07.362632600Z",
     "start_time": "2023-06-07T20:56:07.355531Z"
    }
   }
  },
  {
   "cell_type": "code",
   "execution_count": 10,
   "outputs": [],
   "source": [
    "Encoder.rot13_file(\"test_rot13.txt\", \"result_rot13.txt\")"
   ],
   "metadata": {
    "collapsed": false,
    "ExecuteTime": {
     "end_time": "2023-06-07T20:56:16.346656200Z",
     "start_time": "2023-06-07T20:56:16.338369500Z"
    }
   }
  },
  {
   "cell_type": "code",
   "execution_count": 11,
   "outputs": [],
   "source": [
    "Encoder.bacon_file(\"test_bacon.txt\", \"result_bacon.txt\")"
   ],
   "metadata": {
    "collapsed": false,
    "ExecuteTime": {
     "end_time": "2023-06-07T20:56:17.953262400Z",
     "start_time": "2023-06-07T20:56:17.949859300Z"
    }
   }
  }
 ],
 "metadata": {
  "kernelspec": {
   "display_name": "Python 3",
   "language": "python",
   "name": "python3"
  },
  "language_info": {
   "codemirror_mode": {
    "name": "ipython",
    "version": 2
   },
   "file_extension": ".py",
   "mimetype": "text/x-python",
   "name": "python",
   "nbconvert_exporter": "python",
   "pygments_lexer": "ipython2",
   "version": "2.7.6"
  }
 },
 "nbformat": 4,
 "nbformat_minor": 0
}
