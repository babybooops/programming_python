{
 "cells": [
  {
   "attachments": {},
   "cell_type": "markdown",
   "metadata": {},
   "source": [
    "# Работа с JSON файлами"
   ]
  },
  {
   "cell_type": "code",
   "execution_count": 1,
   "metadata": {},
   "outputs": [],
   "source": [
    "import json"
   ]
  },
  {
   "cell_type": "code",
   "execution_count": 2,
   "metadata": {},
   "outputs": [],
   "source": [
    "from tempdir import tempdir"
   ]
  },
  {
   "cell_type": "code",
   "execution_count": 6,
   "metadata": {},
   "outputs": [
    {
     "name": "stdout",
     "output_type": "stream",
     "text": [
      "['Строка', 100500, 3.14, True, None, [1, 2, 3], {'aaa': 123456, 'bbb': [55, 66, 77]}]\n",
      "[\"Строка\", 100500, 3.14, true, null, [1, 2, 3], {\"aaa\": 123456, \"bbb\": [55, 66, 77]}]\n"
     ]
    }
   ],
   "source": [
    "# подготовка данных\n",
    "data = []\n",
    "a = \"Строка\"\n",
    "b = 100500\n",
    "c = 3.14\n",
    "d = True\n",
    "e = None\n",
    "f = [1, 2, 3]\n",
    "g = {'aaa':123456, 'bbb':[55, 66, 77]}\n",
    "data.append(a)\n",
    "data.append(b)\n",
    "data.append(c)\n",
    "data.append(d)\n",
    "data.append(e)\n",
    "data.append(f)\n",
    "data.append(g)\n",
    "print(data)\n",
    "\n",
    "data_json = json.dumps(data, ensure_ascii=False)\n",
    "print(data_json)"
   ]
  },
  {
   "attachments": {},
   "cell_type": "markdown",
   "metadata": {},
   "source": [
    "## Запись в JSON файл"
   ]
  },
  {
   "cell_type": "code",
   "execution_count": 7,
   "metadata": {},
   "outputs": [],
   "source": [
    "# запись в файл способ 1\n",
    "with open(tempdir(\"temp_JSON.json\"), 'w') as f:\n",
    "    f.write(data_json)"
   ]
  },
  {
   "cell_type": "code",
   "execution_count": 10,
   "metadata": {},
   "outputs": [],
   "source": [
    "# запись в файл способ 2\n",
    "with open(tempdir(\"temp_JSON_2.json\"), 'w') as f:\n",
    "    json.dump(data, f, ensure_ascii=False)"
   ]
  },
  {
   "attachments": {},
   "cell_type": "markdown",
   "metadata": {},
   "source": [
    "## Чтение из JSON файла"
   ]
  },
  {
   "cell_type": "code",
   "execution_count": 9,
   "metadata": {},
   "outputs": [
    {
     "name": "stdout",
     "output_type": "stream",
     "text": [
      "['Строка', 100500, 3.14, True, None, [1, 2, 3], {'aaa': 123456, 'bbb': [55, 66, 77]}]\n"
     ]
    }
   ],
   "source": [
    "with open(tempdir(\"temp_JSON.json\")) as f:\n",
    "    data_new = json.load(f)\n",
    "print(data_new)"
   ]
  }
 ],
 "metadata": {
  "kernelspec": {
   "display_name": "Python 3",
   "language": "python",
   "name": "python3"
  },
  "language_info": {
   "codemirror_mode": {
    "name": "ipython",
    "version": 3
   },
   "file_extension": ".py",
   "mimetype": "text/x-python",
   "name": "python",
   "nbconvert_exporter": "python",
   "pygments_lexer": "ipython3",
   "version": "3.11.2"
  },
  "orig_nbformat": 4
 },
 "nbformat": 4,
 "nbformat_minor": 2
}
