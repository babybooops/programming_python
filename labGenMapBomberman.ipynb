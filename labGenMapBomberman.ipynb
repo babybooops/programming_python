{
 "cells": [
  {
   "attachments": {},
   "cell_type": "markdown",
   "metadata": {},
   "source": [
    "# Генератор карты игры Бомбермен"
   ]
  },
  {
   "cell_type": "code",
   "execution_count": 3,
   "metadata": {},
   "outputs": [],
   "source": [
    "from bomberman import *"
   ]
  },
  {
   "cell_type": "code",
   "execution_count": 4,
   "metadata": {},
   "outputs": [
    {
     "name": "stdout",
     "output_type": "stream",
     "text": [
      "▓▓▓▓▓▓▓▓▓▓▓▓▓▓▓\n",
      "▓     ░░ ░ ░  ▓\n",
      "▓ ▓░▓ ▓ ▓░▓░▓ ▓\n",
      "▓░   ░░     ░░▓\n",
      "▓ ▓░▓ ▓ ▓ ▓ ▓░▓\n",
      "▓░  ░░   ░ ░ ░▓\n",
      "▓ ▓ ▓░▓ ▓░▓ ▓ ▓\n",
      "▓  ░░     ░   ▓\n",
      "▓▓▓▓▓▓▓▓▓▓▓▓▓▓▓\n"
     ]
    }
   ],
   "source": [
    "WIDTH = 15\n",
    "HEIGHT = 9\n",
    "printMap(emptyMap(HEIGHT, WIDTH), obstaclesMap(HEIGHT, WIDTH))"
   ]
  },
  {
   "cell_type": "code",
   "execution_count": 5,
   "metadata": {},
   "outputs": [
    {
     "name": "stdout",
     "output_type": "stream",
     "text": [
      "▓▓▓▓▓▓▓▓▓▓▓\n",
      "▓    ░░   ▓\n",
      "▓ ▓ ▓░▓░▓ ▓\n",
      "▓ ░░   ░  ▓\n",
      "▓ ▓ ▓░▓░▓░▓\n",
      "▓ ░░ ░░░  ▓\n",
      "▓░▓ ▓░▓ ▓░▓\n",
      "▓░░ ░░░░  ▓\n",
      "▓ ▓░▓░▓ ▓ ▓\n",
      "▓    ░    ▓\n",
      "▓▓▓▓▓▓▓▓▓▓▓\n"
     ]
    }
   ],
   "source": [
    "WIDTH = 11\n",
    "HEIGHT = 11\n",
    "printMap(emptyMap(HEIGHT, WIDTH), obstaclesMap(HEIGHT, WIDTH))"
   ]
  },
  {
   "cell_type": "code",
   "execution_count": 6,
   "metadata": {},
   "outputs": [
    {
     "name": "stdout",
     "output_type": "stream",
     "text": [
      "▓▓▓▓▓▓▓▓▓▓▓▓▓▓▓▓▓▓▓▓▓▓▓▓▓\n",
      "▓  ░░  ░░░░   ░░ ░      ▓\n",
      "▓ ▓ ▓░▓░▓ ▓░▓ ▓ ▓░▓░▓░▓ ▓\n",
      "▓░   ░ ░ ░  ░░ ░░ ░░ ░░ ▓\n",
      "▓ ▓░▓░▓░▓░▓ ▓░▓░▓░▓ ▓ ▓░▓\n",
      "▓ ░░      ░░ ░ ░░░░░░░░ ▓\n",
      "▓ ▓░▓░▓ ▓ ▓░▓░▓ ▓░▓░▓ ▓░▓\n",
      "▓  ░░░     ░ ░ ░  ░ ░░  ▓\n",
      "▓░▓░▓ ▓░▓░▓░▓░▓ ▓ ▓ ▓░▓ ▓\n",
      "▓   ░ ░░░░ ░░░ ░ ░ ░░ ░ ▓\n",
      "▓ ▓ ▓ ▓░▓░▓ ▓ ▓░▓ ▓░▓ ▓ ▓\n",
      "▓░   ░ ░░░░░ ░░░ ░░ ░ ░ ▓\n",
      "▓ ▓ ▓░▓░▓░▓░▓░▓░▓░▓░▓░▓ ▓\n",
      "▓  ░░░ ░  ░░   ░░    ░  ▓\n",
      "▓▓▓▓▓▓▓▓▓▓▓▓▓▓▓▓▓▓▓▓▓▓▓▓▓\n"
     ]
    }
   ],
   "source": [
    "WIDTH = 25\n",
    "HEIGHT = 15\n",
    "printMap(emptyMap(HEIGHT, WIDTH), obstaclesMap(HEIGHT, WIDTH))"
   ]
  },
  {
   "cell_type": "code",
   "execution_count": 7,
   "metadata": {},
   "outputs": [
    {
     "name": "stdout",
     "output_type": "stream",
     "text": [
      "▓▓▓▓▓▓▓▓▓\n",
      "▓   ░   ▓\n",
      "▓ ▓ ▓ ▓ ▓\n",
      "▓    ░░ ▓\n",
      "▓░▓░▓░▓░▓\n",
      "▓░ ░░ ░░▓\n",
      "▓ ▓░▓░▓ ▓\n",
      "▓   ░░  ▓\n",
      "▓▓▓▓▓▓▓▓▓\n"
     ]
    }
   ],
   "source": [
    "WIDTH = 9\n",
    "HEIGHT = 9\n",
    "printMap(emptyMap(HEIGHT, WIDTH), obstaclesMap(HEIGHT, WIDTH))"
   ]
  }
 ],
 "metadata": {
  "kernelspec": {
   "display_name": "Python 3",
   "language": "python",
   "name": "python3"
  },
  "language_info": {
   "codemirror_mode": {
    "name": "ipython",
    "version": 3
   },
   "file_extension": ".py",
   "mimetype": "text/x-python",
   "name": "python",
   "nbconvert_exporter": "python",
   "pygments_lexer": "ipython3",
   "version": "3.11.2"
  },
  "orig_nbformat": 4
 },
 "nbformat": 4,
 "nbformat_minor": 2
}
