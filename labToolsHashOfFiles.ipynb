{
 "cells": [
  {
   "cell_type": "code",
   "execution_count": 1,
   "metadata": {
    "ExecuteTime": {
     "end_time": "2023-06-07T21:51:11.177681600Z",
     "start_time": "2023-06-07T21:51:11.139606200Z"
    },
    "collapsed": true
   },
   "outputs": [],
   "source": [
    "from ToolsHashOfFiles import HashFiles\n",
    "from pathlib import Path"
   ]
  },
  {
   "cell_type": "code",
   "execution_count": 2,
   "metadata": {
    "ExecuteTime": {
     "end_time": "2023-06-07T21:51:11.245998700Z",
     "start_time": "2023-06-07T21:51:11.157402400Z"
    },
    "collapsed": false
   },
   "outputs": [
    {
     "name": "stdout",
     "output_type": "stream",
     "text": [
      "+-------------------------------------------------------------------------------------------------------+----------------------------+----------------------------------+\n",
      "|                                               full_path                                               |            date            |             checksum             |\n",
      "+-------------------------------------------------------------------------------------------------------+----------------------------+----------------------------------+\n",
      "|        C:\\Users\\HP\\OneDrive\\Рабочий стол\\вуз\\Программирование\\programming_python\\mosmetro.json        | 2023-06-08 01:03:34.259974 | 85db92426d4d779abd115ed14e99eedb |\n",
      "|          C:\\Users\\HP\\OneDrive\\Рабочий стол\\вуз\\Программирование\\programming_python\\README.md          | 2023-06-08 01:03:34.261975 | bcc6469cd3af22059129e84e0633db0c |\n",
      "|    C:\\Users\\HP\\OneDrive\\Рабочий стол\\вуз\\Программирование\\programming_python\\temp\\cropped_jelly.png   | 2023-06-08 01:03:34.263975 | 066e13337c7c5ead1b28f023b6f71d13 |\n",
      "|      C:\\Users\\HP\\OneDrive\\Рабочий стол\\вуз\\Программирование\\programming_python\\temp\\mosmetro.json     | 2023-06-08 01:03:34.264998 | e01be692814f6a93c80912d35af1f22a |\n",
      "|     C:\\Users\\HP\\OneDrive\\Рабочий стол\\вуз\\Программирование\\programming_python\\temp\\shutil_copy.txt    | 2023-06-08 01:03:34.266976 | d41d8cd98f00b204e9800998ecf8427e |\n",
      "|      C:\\Users\\HP\\OneDrive\\Рабочий стол\\вуз\\Программирование\\programming_python\\temp\\temp_csv.csv      | 2023-06-08 01:03:34.267977 | d41d8cd98f00b204e9800998ecf8427e |\n",
      "|     C:\\Users\\HP\\OneDrive\\Рабочий стол\\вуз\\Программирование\\programming_python\\temp\\temp_JSON.json     | 2023-06-08 01:03:34.268977 | 46d05eb21449659dc6b3f8b540855ae4 |\n",
      "|    C:\\Users\\HP\\OneDrive\\Рабочий стол\\вуз\\Программирование\\programming_python\\temp\\temp_JSON_2.json    | 2023-06-08 01:03:34.269976 | 46d05eb21449659dc6b3f8b540855ae4 |\n",
      "|     C:\\Users\\HP\\OneDrive\\Рабочий стол\\вуз\\Программирование\\programming_python\\temp\\temp_SQLite.db     | 2023-06-08 01:03:34.269976 | b55473e9299a260ddb2a764966b04416 |\n",
      "| C:\\Users\\HP\\OneDrive\\Рабочий стол\\вуз\\Программирование\\programming_python\\temp\\temp_SQLite.db-journal | 2023-06-08 01:03:34.270977 | 9bbbd5aeeea20b2db2c479dfe852b1f3 |\n",
      "|      C:\\Users\\HP\\OneDrive\\Рабочий стол\\вуз\\Программирование\\programming_python\\temp\\temp_TXT.txt      | 2023-06-08 01:03:34.271976 | b5fcd6aafec0ec7e5ac7f3d4c04a812d |\n",
      "| C:\\Users\\HP\\OneDrive\\Рабочий стол\\вуз\\Программирование\\programming_python\\temp\\temp_TXT_poem_utf8.txt | 2023-06-08 01:03:34.271976 | 7285017b277f4f225418e0919304f52d |\n",
      "|      C:\\Users\\HP\\OneDrive\\Рабочий стол\\вуз\\Программирование\\programming_python\\temp\\test_file.txt     | 2023-06-08 01:03:34.272976 | d41d8cd98f00b204e9800998ecf8427e |\n",
      "|   C:\\Users\\HP\\OneDrive\\Рабочий стол\\вуз\\Программирование\\programming_python\\temp\\test_file.txt.copy   | 2023-06-08 01:03:34.272976 | d41d8cd98f00b204e9800998ecf8427e |\n",
      "|        C:\\Users\\HP\\OneDrive\\Рабочий стол\\вуз\\Программирование\\programming_python\\temp\\text.txt        | 2023-06-08 01:03:34.273978 | 3abf00fa61bfae2fff9133375e142416 |\n",
      "+-------------------------------------------------------------------------------------------------------+----------------------------+----------------------------------+\n",
      "+-------------------------------------------------------------------------------------------------------+----------------------------+----------------------------------+\n",
      "|                                               full_path                                               |            date            |             checksum             |\n",
      "+-------------------------------------------------------------------------------------------------------+----------------------------+----------------------------------+\n",
      "|        C:\\Users\\HP\\OneDrive\\Рабочий стол\\вуз\\Программирование\\programming_python\\mosmetro.json        | 2023-06-08 01:03:34.259974 | 85db92426d4d779abd115ed14e99eedb |\n",
      "|    C:\\Users\\HP\\OneDrive\\Рабочий стол\\вуз\\Программирование\\programming_python\\temp\\cropped_jelly.png   | 2023-06-08 01:03:34.263975 | 066e13337c7c5ead1b28f023b6f71d13 |\n",
      "|      C:\\Users\\HP\\OneDrive\\Рабочий стол\\вуз\\Программирование\\programming_python\\temp\\mosmetro.json     | 2023-06-08 01:03:34.264998 | e01be692814f6a93c80912d35af1f22a |\n",
      "|     C:\\Users\\HP\\OneDrive\\Рабочий стол\\вуз\\Программирование\\programming_python\\temp\\shutil_copy.txt    | 2023-06-08 01:03:34.266976 | d41d8cd98f00b204e9800998ecf8427e |\n",
      "|      C:\\Users\\HP\\OneDrive\\Рабочий стол\\вуз\\Программирование\\programming_python\\temp\\temp_csv.csv      | 2023-06-08 01:03:34.267977 | d41d8cd98f00b204e9800998ecf8427e |\n",
      "|     C:\\Users\\HP\\OneDrive\\Рабочий стол\\вуз\\Программирование\\programming_python\\temp\\temp_JSON.json     | 2023-06-08 01:03:34.268977 | 46d05eb21449659dc6b3f8b540855ae4 |\n",
      "|    C:\\Users\\HP\\OneDrive\\Рабочий стол\\вуз\\Программирование\\programming_python\\temp\\temp_JSON_2.json    | 2023-06-08 01:03:34.269976 | 46d05eb21449659dc6b3f8b540855ae4 |\n",
      "|     C:\\Users\\HP\\OneDrive\\Рабочий стол\\вуз\\Программирование\\programming_python\\temp\\temp_SQLite.db     | 2023-06-08 01:03:34.269976 | b55473e9299a260ddb2a764966b04416 |\n",
      "| C:\\Users\\HP\\OneDrive\\Рабочий стол\\вуз\\Программирование\\programming_python\\temp\\temp_SQLite.db-journal | 2023-06-08 01:03:34.270977 | 9bbbd5aeeea20b2db2c479dfe852b1f3 |\n",
      "|      C:\\Users\\HP\\OneDrive\\Рабочий стол\\вуз\\Программирование\\programming_python\\temp\\temp_TXT.txt      | 2023-06-08 01:03:34.271976 | b5fcd6aafec0ec7e5ac7f3d4c04a812d |\n",
      "| C:\\Users\\HP\\OneDrive\\Рабочий стол\\вуз\\Программирование\\programming_python\\temp\\temp_TXT_poem_utf8.txt | 2023-06-08 01:03:34.271976 | 7285017b277f4f225418e0919304f52d |\n",
      "|      C:\\Users\\HP\\OneDrive\\Рабочий стол\\вуз\\Программирование\\programming_python\\temp\\test_file.txt     | 2023-06-08 01:03:34.272976 | d41d8cd98f00b204e9800998ecf8427e |\n",
      "|   C:\\Users\\HP\\OneDrive\\Рабочий стол\\вуз\\Программирование\\programming_python\\temp\\test_file.txt.copy   | 2023-06-08 01:03:34.272976 | d41d8cd98f00b204e9800998ecf8427e |\n",
      "|        C:\\Users\\HP\\OneDrive\\Рабочий стол\\вуз\\Программирование\\programming_python\\temp\\text.txt        | 2023-06-08 01:03:34.273978 | 3abf00fa61bfae2fff9133375e142416 |\n",
      "+-------------------------------------------------------------------------------------------------------+----------------------------+----------------------------------+\n"
     ]
    }
   ],
   "source": [
    "hash_object = HashFiles()\n",
    "hash_object.add_file('mosmetro.json')\n",
    "hash_object.add_file('README.md')\n",
    "hash_object.add_directory('./temp')\n",
    "hash_object.print_table()\n",
    "hash_object.export_to_csv('test.csv')\n",
    "HashFiles.save_object(Path('test.pkl'), hash_object)\n",
    "hash_object.delete_file('README.md')\n",
    "hash_object.print_table()"
   ]
  },
  {
   "cell_type": "code",
   "execution_count": 3,
   "metadata": {
    "ExecuteTime": {
     "end_time": "2023-06-07T21:51:11.245998700Z",
     "start_time": "2023-06-07T21:51:11.168154400Z"
    },
    "collapsed": false
   },
   "outputs": [
    {
     "name": "stdout",
     "output_type": "stream",
     "text": [
      "+-------------------------------------------------------------------------------------------------------+----------------------------+----------------------------------+\n",
      "|                                               full_path                                               |            date            |             checksum             |\n",
      "+-------------------------------------------------------------------------------------------------------+----------------------------+----------------------------------+\n",
      "|        C:\\Users\\HP\\OneDrive\\Рабочий стол\\вуз\\Программирование\\programming_python\\mosmetro.json        | 2023-06-08 01:03:34.259974 | 85db92426d4d779abd115ed14e99eedb |\n",
      "|          C:\\Users\\HP\\OneDrive\\Рабочий стол\\вуз\\Программирование\\programming_python\\README.md          | 2023-06-08 01:03:34.261975 | bcc6469cd3af22059129e84e0633db0c |\n",
      "|    C:\\Users\\HP\\OneDrive\\Рабочий стол\\вуз\\Программирование\\programming_python\\temp\\cropped_jelly.png   | 2023-06-08 01:03:34.263975 | 066e13337c7c5ead1b28f023b6f71d13 |\n",
      "|      C:\\Users\\HP\\OneDrive\\Рабочий стол\\вуз\\Программирование\\programming_python\\temp\\mosmetro.json     | 2023-06-08 01:03:34.264998 | e01be692814f6a93c80912d35af1f22a |\n",
      "|     C:\\Users\\HP\\OneDrive\\Рабочий стол\\вуз\\Программирование\\programming_python\\temp\\shutil_copy.txt    | 2023-06-08 01:03:34.266976 | d41d8cd98f00b204e9800998ecf8427e |\n",
      "|      C:\\Users\\HP\\OneDrive\\Рабочий стол\\вуз\\Программирование\\programming_python\\temp\\temp_csv.csv      | 2023-06-08 01:03:34.267977 | d41d8cd98f00b204e9800998ecf8427e |\n",
      "|     C:\\Users\\HP\\OneDrive\\Рабочий стол\\вуз\\Программирование\\programming_python\\temp\\temp_JSON.json     | 2023-06-08 01:03:34.268977 | 46d05eb21449659dc6b3f8b540855ae4 |\n",
      "|    C:\\Users\\HP\\OneDrive\\Рабочий стол\\вуз\\Программирование\\programming_python\\temp\\temp_JSON_2.json    | 2023-06-08 01:03:34.269976 | 46d05eb21449659dc6b3f8b540855ae4 |\n",
      "|     C:\\Users\\HP\\OneDrive\\Рабочий стол\\вуз\\Программирование\\programming_python\\temp\\temp_SQLite.db     | 2023-06-08 01:03:34.269976 | b55473e9299a260ddb2a764966b04416 |\n",
      "| C:\\Users\\HP\\OneDrive\\Рабочий стол\\вуз\\Программирование\\programming_python\\temp\\temp_SQLite.db-journal | 2023-06-08 01:03:34.270977 | 9bbbd5aeeea20b2db2c479dfe852b1f3 |\n",
      "|      C:\\Users\\HP\\OneDrive\\Рабочий стол\\вуз\\Программирование\\programming_python\\temp\\temp_TXT.txt      | 2023-06-08 01:03:34.271976 | b5fcd6aafec0ec7e5ac7f3d4c04a812d |\n",
      "| C:\\Users\\HP\\OneDrive\\Рабочий стол\\вуз\\Программирование\\programming_python\\temp\\temp_TXT_poem_utf8.txt | 2023-06-08 01:03:34.271976 | 7285017b277f4f225418e0919304f52d |\n",
      "|      C:\\Users\\HP\\OneDrive\\Рабочий стол\\вуз\\Программирование\\programming_python\\temp\\test_file.txt     | 2023-06-08 01:03:34.272976 | d41d8cd98f00b204e9800998ecf8427e |\n",
      "|   C:\\Users\\HP\\OneDrive\\Рабочий стол\\вуз\\Программирование\\programming_python\\temp\\test_file.txt.copy   | 2023-06-08 01:03:34.272976 | d41d8cd98f00b204e9800998ecf8427e |\n",
      "|        C:\\Users\\HP\\OneDrive\\Рабочий стол\\вуз\\Программирование\\programming_python\\temp\\text.txt        | 2023-06-08 01:03:34.273978 | 3abf00fa61bfae2fff9133375e142416 |\n",
      "+-------------------------------------------------------------------------------------------------------+----------------------------+----------------------------------+\n"
     ]
    }
   ],
   "source": [
    "hash_object2 = HashFiles.load_object(Path('test.pkl'))\n",
    "hash_object2.print_table()"
   ]
  },
  {
   "cell_type": "code",
   "execution_count": 4,
   "metadata": {},
   "outputs": [
    {
     "name": "stdout",
     "output_type": "stream",
     "text": [
      "+-------------------------------------------------------------------------------------------------------+----------------------------+------------------------------------------------------------------+\n",
      "|                                               full_path                                               |            date            |                             checksum                             |\n",
      "+-------------------------------------------------------------------------------------------------------+----------------------------+------------------------------------------------------------------+\n",
      "|    C:\\Users\\HP\\OneDrive\\Рабочий стол\\вуз\\Программирование\\programming_python\\temp\\cropped_jelly.png   | 2023-06-08 01:03:34.442801 | 290d6affa29e733b89e6cef6947c9122509027f0dc6ffb861fc622f6abefbbf6 |\n",
      "|      C:\\Users\\HP\\OneDrive\\Рабочий стол\\вуз\\Программирование\\programming_python\\temp\\mosmetro.json     | 2023-06-08 01:03:34.443810 | ae55c12a1c8e81d42da21340f112c9af07f8e703282bed1c8dd50febda4db481 |\n",
      "|     C:\\Users\\HP\\OneDrive\\Рабочий стол\\вуз\\Программирование\\programming_python\\temp\\shutil_copy.txt    | 2023-06-08 01:03:34.443810 | e3b0c44298fc1c149afbf4c8996fb92427ae41e4649b934ca495991b7852b855 |\n",
      "|      C:\\Users\\HP\\OneDrive\\Рабочий стол\\вуз\\Программирование\\programming_python\\temp\\temp_csv.csv      | 2023-06-08 01:03:34.444809 | e3b0c44298fc1c149afbf4c8996fb92427ae41e4649b934ca495991b7852b855 |\n",
      "|     C:\\Users\\HP\\OneDrive\\Рабочий стол\\вуз\\Программирование\\programming_python\\temp\\temp_JSON.json     | 2023-06-08 01:03:34.444809 | 8955c2ff8b1e513326f495485beabc864192e872315a6da63f796811f65b13ea |\n",
      "|    C:\\Users\\HP\\OneDrive\\Рабочий стол\\вуз\\Программирование\\programming_python\\temp\\temp_JSON_2.json    | 2023-06-08 01:03:34.445798 | 8955c2ff8b1e513326f495485beabc864192e872315a6da63f796811f65b13ea |\n",
      "|     C:\\Users\\HP\\OneDrive\\Рабочий стол\\вуз\\Программирование\\programming_python\\temp\\temp_SQLite.db     | 2023-06-08 01:03:34.445798 | 06181d9a6ba20d9fcf1789e83ea7ce549cc8db7addb7a19aa3c1fdaa20da1ba2 |\n",
      "| C:\\Users\\HP\\OneDrive\\Рабочий стол\\вуз\\Программирование\\programming_python\\temp\\temp_SQLite.db-journal | 2023-06-08 01:03:34.446812 | cb84ad48588ab3c10e1324a22a5af45aea2e7cad57d7c558180b8aa64f754445 |\n",
      "|      C:\\Users\\HP\\OneDrive\\Рабочий стол\\вуз\\Программирование\\programming_python\\temp\\temp_TXT.txt      | 2023-06-08 01:03:34.447802 | c014f7af31953c915e5054df8fdc9231a6193a4555198742294530dd5d34e40c |\n",
      "| C:\\Users\\HP\\OneDrive\\Рабочий стол\\вуз\\Программирование\\programming_python\\temp\\temp_TXT_poem_utf8.txt | 2023-06-08 01:03:34.447802 | 79fc5857135fec9aa3d9e6bdd0da1afc01ca5162963e03f08c752115f9a0c396 |\n",
      "|      C:\\Users\\HP\\OneDrive\\Рабочий стол\\вуз\\Программирование\\programming_python\\temp\\test_file.txt     | 2023-06-08 01:03:34.448800 | e3b0c44298fc1c149afbf4c8996fb92427ae41e4649b934ca495991b7852b855 |\n",
      "|   C:\\Users\\HP\\OneDrive\\Рабочий стол\\вуз\\Программирование\\programming_python\\temp\\test_file.txt.copy   | 2023-06-08 01:03:34.449812 | e3b0c44298fc1c149afbf4c8996fb92427ae41e4649b934ca495991b7852b855 |\n",
      "|        C:\\Users\\HP\\OneDrive\\Рабочий стол\\вуз\\Программирование\\programming_python\\temp\\text.txt        | 2023-06-08 01:03:34.449812 | 2d1a5249a77ea9fb0983541857a50af54ed8e83b22d47827d205e66700d4d70d |\n",
      "+-------------------------------------------------------------------------------------------------------+----------------------------+------------------------------------------------------------------+\n"
     ]
    }
   ],
   "source": [
    "hash_object3 = HashFiles('sha256')\n",
    "hash_object3.add_directory('./temp')\n",
    "hash_object3.print_table()"
   ]
  }
 ],
 "metadata": {
  "kernelspec": {
   "display_name": "Python 3",
   "language": "python",
   "name": "python3"
  },
  "language_info": {
   "codemirror_mode": {
    "name": "ipython",
    "version": 3
   },
   "file_extension": ".py",
   "mimetype": "text/x-python",
   "name": "python",
   "nbconvert_exporter": "python",
   "pygments_lexer": "ipython3",
   "version": "3.11.2"
  }
 },
 "nbformat": 4,
 "nbformat_minor": 0
}
