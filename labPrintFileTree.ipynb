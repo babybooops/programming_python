{
 "cells": [
  {
   "attachments": {},
   "cell_type": "markdown",
   "metadata": {},
   "source": [
    "# Распечатать дерево каталогов и файлов в цвете"
   ]
  },
  {
   "cell_type": "code",
   "execution_count": 6,
   "metadata": {},
   "outputs": [],
   "source": [
    "from colored import fg, bg, colors\n",
    "from pathlib import Path\n",
    "import random"
   ]
  },
  {
   "cell_type": "code",
   "execution_count": 12,
   "metadata": {},
   "outputs": [
    {
     "name": "stdout",
     "output_type": "stream",
     "text": [
      "\u001b[38;5;65m\n",
      "\u001b[38;5;147m├──.git\n",
      "\u001b[38;5;146m│  ├──hooks\n",
      "\u001b[38;5;166m│  ├──info\n",
      "\u001b[38;5;189m│  ├──logs\n",
      "\u001b[38;5;193m│  │  └──refs\n",
      "\u001b[38;5;254m│  │     ├──heads\n",
      "\u001b[38;5;178m│  │     └──remotes\n",
      "\u001b[38;5;204m│  │        └──origin\n",
      "\u001b[38;5;78m│  ├──objects\n",
      "\u001b[38;5;171m│  │  ├──01\n",
      "\u001b[38;5;212m│  │  ├──06\n",
      "\u001b[38;5;155m│  │  ├──08\n",
      "\u001b[38;5;179m│  │  ├──10\n",
      "\u001b[38;5;29m│  │  ├──13\n",
      "\u001b[38;5;168m│  │  ├──19\n",
      "\u001b[38;5;94m│  │  ├──1a\n",
      "\u001b[38;5;148m│  │  ├──1c\n",
      "\u001b[38;5;233m│  │  ├──1d\n",
      "\u001b[38;5;163m│  │  ├──24\n",
      "\u001b[38;5;98m│  │  ├──2c\n",
      "\u001b[38;5;104m│  │  ├──2e\n",
      "\u001b[38;5;58m│  │  ├──32\n",
      "\u001b[38;5;96m│  │  ├──33\n",
      "\u001b[38;5;208m│  │  ├──3f\n",
      "\u001b[38;5;97m│  │  ├──42\n",
      "\u001b[38;5;141m│  │  ├──44\n",
      "\u001b[38;5;219m│  │  ├──48\n",
      "\u001b[38;5;227m│  │  ├──4e\n",
      "\u001b[38;5;135m│  │  ├──4f\n",
      "\u001b[38;5;29m│  │  ├──50\n",
      "\u001b[38;5;112m│  │  ├──52\n",
      "\u001b[38;5;245m│  │  ├──55\n",
      "\u001b[38;5;62m│  │  ├──58\n",
      "\u001b[38;5;112m│  │  ├──5a\n",
      "\u001b[38;5;104m│  │  ├──5c\n",
      "\u001b[38;5;241m│  │  ├──5d\n",
      "\u001b[38;5;194m│  │  ├──64\n",
      "\u001b[38;5;61m│  │  ├──66\n",
      "\u001b[38;5;218m│  │  ├──6d\n",
      "\u001b[38;5;179m│  │  ├──6f\n",
      "\u001b[38;5;134m│  │  ├──73\n",
      "\u001b[38;5;34m│  │  ├──75\n",
      "\u001b[38;5;101m│  │  ├──76\n",
      "\u001b[38;5;239m│  │  ├──78\n",
      "\u001b[38;5;144m│  │  ├──81\n",
      "\u001b[38;5;9m│  │  ├──84\n",
      "\u001b[38;5;196m│  │  ├──87\n",
      "\u001b[38;5;217m│  │  ├──8d\n",
      "\u001b[38;5;234m│  │  ├──90\n",
      "\u001b[38;5;236m│  │  ├──9c\n",
      "\u001b[38;5;60m│  │  ├──a4\n",
      "\u001b[38;5;87m│  │  ├──a6\n",
      "\u001b[38;5;250m│  │  ├──ad\n",
      "\u001b[38;5;97m│  │  ├──b5\n",
      "\u001b[38;5;131m│  │  ├──b8\n",
      "\u001b[38;5;228m│  │  ├──b9\n",
      "\u001b[38;5;115m│  │  ├──ba\n",
      "\u001b[38;5;252m│  │  ├──bb\n",
      "\u001b[38;5;1m│  │  ├──bd\n",
      "\u001b[38;5;72m│  │  ├──be\n",
      "\u001b[38;5;199m│  │  ├──bf\n",
      "\u001b[38;5;106m│  │  ├──c4\n",
      "\u001b[38;5;239m│  │  ├──c6\n",
      "\u001b[38;5;5m│  │  ├──cc\n",
      "\u001b[38;5;161m│  │  ├──cd\n",
      "\u001b[38;5;76m│  │  ├──d6\n",
      "\u001b[38;5;66m│  │  ├──dd\n",
      "\u001b[38;5;224m│  │  ├──e1\n",
      "\u001b[38;5;58m│  │  ├──e3\n",
      "\u001b[38;5;101m│  │  ├──e5\n",
      "\u001b[38;5;220m│  │  ├──e6\n",
      "\u001b[38;5;142m│  │  ├──ea\n",
      "\u001b[38;5;129m│  │  ├──ec\n",
      "\u001b[38;5;243m│  │  ├──ef\n",
      "\u001b[38;5;171m│  │  ├──f0\n",
      "\u001b[38;5;45m│  │  ├──f3\n",
      "\u001b[38;5;87m│  │  ├──f7\n",
      "\u001b[38;5;192m│  │  ├──f9\n",
      "\u001b[38;5;68m│  │  ├──fa\n",
      "\u001b[38;5;128m│  │  ├──info\n",
      "\u001b[38;5;31m│  │  └──pack\n",
      "\u001b[38;5;245m│  └──refs\n",
      "\u001b[38;5;185m│     ├──heads\n",
      "\u001b[38;5;145m│     ├──remotes\n",
      "\u001b[38;5;248m│     │  └──origin\n",
      "\u001b[38;5;52m│     └──tags\n",
      "\u001b[38;5;0m├──__pycache__\n",
      "\u001b[38;5;72m└──temp\n"
     ]
    }
   ],
   "source": [
    "def tree(path='.', head='', tail=''):\n",
    "    path = Path(path)\n",
    "\n",
    "    if path.is_dir():\n",
    "        print(f\"{fg(random.choice(colors.names).lower())}{head + path.name}\")\n",
    "        entries = sorted(filter(Path.is_dir, path.iterdir()))\n",
    "\n",
    "        for i, entry in enumerate(entries):\n",
    "            if i < len(entries) - 1:\n",
    "                tree(entry, tail + '├──', tail + '│  ')\n",
    "            else:\n",
    "                tree(entry, tail + '└──', tail + '   ')\n",
    "\n",
    "tree()"
   ]
  }
 ],
 "metadata": {
  "kernelspec": {
   "display_name": "Python 3",
   "language": "python",
   "name": "python3"
  },
  "language_info": {
   "codemirror_mode": {
    "name": "ipython",
    "version": 3
   },
   "file_extension": ".py",
   "mimetype": "text/x-python",
   "name": "python",
   "nbconvert_exporter": "python",
   "pygments_lexer": "ipython3",
   "version": "3.11.2"
  },
  "orig_nbformat": 4,
  "vscode": {
   "interpreter": {
    "hash": "1f6a27bcfbe46a917dbd192f4a82657396dda26148bae633192e8d28c70725f1"
   }
  }
 },
 "nbformat": 4,
 "nbformat_minor": 2
}
