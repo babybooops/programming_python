{
 "cells": [
  {
   "attachments": {},
   "cell_type": "markdown",
   "metadata": {},
   "source": [
    "# Распечатать дерево каталогов и файлов в цвете"
   ]
  },
  {
   "cell_type": "code",
   "execution_count": 1,
   "metadata": {},
   "outputs": [],
   "source": [
    "from colored import fg, bg, colors\n",
    "from pathlib import Path\n",
    "import random"
   ]
  },
  {
   "cell_type": "code",
   "execution_count": 3,
   "metadata": {},
   "outputs": [
    {
     "name": "stdout",
     "output_type": "stream",
     "text": [
      "\u001b[38;5;202m\n",
      "\u001b[38;5;31m├──.git\n",
      "\u001b[38;5;0m│  ├──hooks\n",
      "\u001b[38;5;49m│  ├──info\n",
      "\u001b[38;5;49m│  ├──logs\n",
      "\u001b[38;5;21m│  │  └──refs\n",
      "\u001b[38;5;70m│  │     ├──heads\n",
      "\u001b[38;5;126m│  │     └──remotes\n",
      "\u001b[38;5;18m│  │        └──origin\n",
      "\u001b[38;5;6m│  ├──objects\n",
      "\u001b[38;5;41m│  │  ├──01\n",
      "\u001b[38;5;70m│  │  ├──06\n",
      "\u001b[38;5;186m│  │  ├──08\n",
      "\u001b[38;5;249m│  │  ├──10\n",
      "\u001b[38;5;26m│  │  ├──13\n",
      "\u001b[38;5;161m│  │  ├──19\n",
      "\u001b[38;5;205m│  │  ├──1a\n",
      "\u001b[38;5;58m│  │  ├──1c\n",
      "\u001b[38;5;223m│  │  ├──1d\n",
      "\u001b[38;5;44m│  │  ├──24\n",
      "\u001b[38;5;150m│  │  ├──2c\n",
      "\u001b[38;5;105m│  │  ├──2e\n",
      "\u001b[38;5;232m│  │  ├──32\n",
      "\u001b[38;5;61m│  │  ├──33\n",
      "\u001b[38;5;192m│  │  ├──36\n",
      "\u001b[38;5;108m│  │  ├──3f\n",
      "\u001b[38;5;123m│  │  ├──42\n",
      "\u001b[38;5;17m│  │  ├──44\n",
      "\u001b[38;5;27m│  │  ├──48\n",
      "\u001b[38;5;237m│  │  ├──4e\n",
      "\u001b[38;5;140m│  │  ├──4f\n",
      "\u001b[38;5;55m│  │  ├──50\n",
      "\u001b[38;5;241m│  │  ├──52\n",
      "\u001b[38;5;228m│  │  ├──55\n",
      "\u001b[38;5;138m│  │  ├──58\n",
      "\u001b[38;5;165m│  │  ├──5a\n",
      "\u001b[38;5;123m│  │  ├──5c\n",
      "\u001b[38;5;4m│  │  ├──5d\n",
      "\u001b[38;5;224m│  │  ├──62\n",
      "\u001b[38;5;112m│  │  ├──64\n",
      "\u001b[38;5;55m│  │  ├──66\n",
      "\u001b[38;5;103m│  │  ├──6d\n",
      "\u001b[38;5;104m│  │  ├──6f\n",
      "\u001b[38;5;9m│  │  ├──72\n",
      "\u001b[38;5;151m│  │  ├──73\n",
      "\u001b[38;5;239m│  │  ├──74\n",
      "\u001b[38;5;121m│  │  ├──75\n",
      "\u001b[38;5;143m│  │  ├──76\n",
      "\u001b[38;5;90m│  │  ├──78\n",
      "\u001b[38;5;74m│  │  ├──81\n",
      "\u001b[38;5;73m│  │  ├──84\n",
      "\u001b[38;5;206m│  │  ├──87\n",
      "\u001b[38;5;60m│  │  ├──8d\n",
      "\u001b[38;5;144m│  │  ├──90\n",
      "\u001b[38;5;210m│  │  ├──9c\n",
      "\u001b[38;5;202m│  │  ├──a4\n",
      "\u001b[38;5;193m│  │  ├──a6\n",
      "\u001b[38;5;170m│  │  ├──ad\n",
      "\u001b[38;5;106m│  │  ├──b5\n",
      "\u001b[38;5;113m│  │  ├──b8\n",
      "\u001b[38;5;124m│  │  ├──b9\n",
      "\u001b[38;5;240m│  │  ├──ba\n",
      "\u001b[38;5;153m│  │  ├──bb\n",
      "\u001b[38;5;175m│  │  ├──bd\n",
      "\u001b[38;5;242m│  │  ├──be\n",
      "\u001b[38;5;91m│  │  ├──bf\n",
      "\u001b[38;5;50m│  │  ├──c4\n",
      "\u001b[38;5;3m│  │  ├──c6\n",
      "\u001b[38;5;38m│  │  ├──cc\n",
      "\u001b[38;5;82m│  │  ├──cd\n",
      "\u001b[38;5;8m│  │  ├──d3\n",
      "\u001b[38;5;220m│  │  ├──d6\n",
      "\u001b[38;5;99m│  │  ├──dd\n",
      "\u001b[38;5;186m│  │  ├──e1\n",
      "\u001b[38;5;217m│  │  ├──e3\n",
      "\u001b[38;5;166m│  │  ├──e5\n",
      "\u001b[38;5;66m│  │  ├──e6\n",
      "\u001b[38;5;134m│  │  ├──ea\n",
      "\u001b[38;5;58m│  │  ├──ec\n",
      "\u001b[38;5;37m│  │  ├──ef\n",
      "\u001b[38;5;161m│  │  ├──f0\n",
      "\u001b[38;5;183m│  │  ├──f3\n",
      "\u001b[38;5;236m│  │  ├──f7\n",
      "\u001b[38;5;226m│  │  ├──f9\n",
      "\u001b[38;5;151m│  │  ├──fa\n",
      "\u001b[38;5;156m│  │  ├──info\n",
      "\u001b[38;5;39m│  │  └──pack\n",
      "\u001b[38;5;24m│  └──refs\n",
      "\u001b[38;5;119m│     ├──heads\n",
      "\u001b[38;5;25m│     ├──remotes\n",
      "\u001b[38;5;196m│     │  └──origin\n",
      "\u001b[38;5;139m│     └──tags\n",
      "\u001b[38;5;33m├──__pycache__\n",
      "\u001b[38;5;195m├──ex\n",
      "\u001b[38;5;33m├──exam\n",
      "\u001b[38;5;87m├──temp\n",
      "\u001b[38;5;199m└──Изображения\n"
     ]
    }
   ],
   "source": [
    "def tree(path='.', head='', tail=''):\n",
    "    path = Path(path)\n",
    "\n",
    "    if path.is_dir():\n",
    "        print(f\"{fg(random.choice(colors.names).lower())}{head + path.name}\")\n",
    "        entries = sorted(filter(Path.is_dir, path.iterdir()))\n",
    "\n",
    "        for i, entry in enumerate(entries):\n",
    "            if i < len(entries) - 1:\n",
    "                tree(entry, tail + '├──', tail + '│  ')\n",
    "            else:\n",
    "                tree(entry, tail + '└──', tail + '   ')\n",
    "\n",
    "tree()"
   ]
  }
 ],
 "metadata": {
  "kernelspec": {
   "display_name": "Python 3",
   "language": "python",
   "name": "python3"
  },
  "language_info": {
   "codemirror_mode": {
    "name": "ipython",
    "version": 3
   },
   "file_extension": ".py",
   "mimetype": "text/x-python",
   "name": "python",
   "nbconvert_exporter": "python",
   "pygments_lexer": "ipython3",
   "version": "3.11.2"
  },
  "orig_nbformat": 4,
  "vscode": {
   "interpreter": {
    "hash": "1f6a27bcfbe46a917dbd192f4a82657396dda26148bae633192e8d28c70725f1"
   }
  }
 },
 "nbformat": 4,
 "nbformat_minor": 2
}
