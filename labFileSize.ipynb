{
 "cells": [
  {
   "attachments": {},
   "cell_type": "markdown",
   "metadata": {},
   "source": [
    "# Функция для автоматического перевода байт в КБ, МБ, ГБ и ТБ"
   ]
  },
  {
   "cell_type": "code",
   "execution_count": 26,
   "metadata": {},
   "outputs": [],
   "source": [
    "import os\n",
    "import decimal\n",
    "from prettytable import PrettyTable"
   ]
  },
  {
   "cell_type": "code",
   "execution_count": 50,
   "metadata": {},
   "outputs": [
    {
     "name": "stdout",
     "output_type": "stream",
     "text": [
      "+----------------+-----------------+----------------------+-------------------+\n",
      "| Название файла | Размер в байтах | Размер автоматически | Единицы измерения |\n",
      "+----------------+-----------------+----------------------+-------------------+\n",
      "|  temp_TXT.txt  |       1619      |         1.58         |         KB        |\n",
      "+----------------+-----------------+----------------------+-------------------+\n"
     ]
    }
   ],
   "source": [
    "def pretty_size(size_byte: int) -> str:\n",
    "    power = 1024\n",
    "    n = 0\n",
    "    power_labels = {0 : '', 1: 'KB', 2: 'MB', 3: 'GB', 4: 'TB'}\n",
    "    old_size = size_byte\n",
    "    while size_byte > power:\n",
    "        size_byte /= power\n",
    "        n += 1\n",
    "    table = PrettyTable()\n",
    "    table.field_names = [\"Название файла\", \"Размер в байтах\", \"Размер автоматически\", \"Единицы измерения\"]\n",
    "    table.add_rows([\n",
    "        [name, old_size, decimal.Decimal(size_byte).quantize(decimal.Decimal(\"0.01\")), power_labels[n]]\n",
    "        ])\n",
    "    print(table)\n",
    "\n",
    "pretty_size(size_byte = os.path.getsize(r'C:\\Users\\HP\\OneDrive\\Рабочий стол\\вуз\\Программирование\\programming_python\\temp\\temp_TXT.txt'))\n",
    "name = os.path.basename(r'C:\\Users\\HP\\OneDrive\\Рабочий стол\\вуз\\Программирование\\programming_python\\temp\\temp_TXT.txt')\n",
    "\n",
    "\n",
    "# 1212334432 -> 22.3 Mb"
   ]
  }
 ],
 "metadata": {
  "kernelspec": {
   "display_name": "Python 3",
   "language": "python",
   "name": "python3"
  },
  "language_info": {
   "name": "python",
   "version": "3.11.2"
  },
  "orig_nbformat": 4
 },
 "nbformat": 4,
 "nbformat_minor": 2
}
