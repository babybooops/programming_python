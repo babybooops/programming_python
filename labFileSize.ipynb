{
 "cells": [
  {
   "attachments": {},
   "cell_type": "markdown",
   "metadata": {},
   "source": [
    "# Функция для автоматического перевода байт в КБ, МБ, ГБ и ТБ"
   ]
  },
  {
   "cell_type": "code",
   "execution_count": 19,
   "metadata": {},
   "outputs": [],
   "source": [
    "import os\n",
    "import decimal\n",
    "from prettytable import PrettyTable"
   ]
  },
  {
   "cell_type": "code",
   "execution_count": 20,
   "metadata": {},
   "outputs": [
    {
     "name": "stdout",
     "output_type": "stream",
     "text": [
      "('temp_TXT.txt', 1619, Decimal('1.58'), 'KB')\n"
     ]
    }
   ],
   "source": [
    "def pretty_size(size_byte: int, name: str) -> tuple:\n",
    "    power = 1024\n",
    "    n = 0\n",
    "    power_labels = ['', 'KB', 'MB', 'GB', 'TB']\n",
    "    old_size = size_byte\n",
    "    while size_byte > power:\n",
    "        size_byte /= power\n",
    "        n += 1\n",
    "        new_size = decimal.Decimal(size_byte).quantize(decimal.Decimal(\"0.01\"))\n",
    "        power_label = power_labels[n]\n",
    "    return name, old_size, new_size, power_label\n",
    "\n",
    "\n",
    "print(pretty_size(size_byte = os.path.getsize(r'C:\\Users\\HP\\OneDrive\\Рабочий стол\\вуз\\Программирование\\programming_python\\temp\\temp_TXT.txt'), name = os.path.basename(r'C:\\Users\\HP\\OneDrive\\Рабочий стол\\вуз\\Программирование\\programming_python\\temp\\temp_TXT.txt')))\n",
    "\n",
    "\n",
    "\n",
    "\n",
    "# 1212334432 -> 22.3 Mb"
   ]
  },
  {
   "cell_type": "code",
   "execution_count": 27,
   "metadata": {},
   "outputs": [
    {
     "name": "stdout",
     "output_type": "stream",
     "text": [
      "+----------------+-----------------+----------------------+-------------------+\n",
      "| Название файла | Размер в байтах | Размер автоматически | Единицы измерения |\n",
      "+----------------+-----------------+----------------------+-------------------+\n",
      "|  temp_TXT.txt  |       1619      |         1.58         |         KB        |\n",
      "+----------------+-----------------+----------------------+-------------------+\n"
     ]
    }
   ],
   "source": [
    "file = pretty_size(size_byte = os.path.getsize(r'C:\\Users\\HP\\OneDrive\\Рабочий стол\\вуз\\Программирование\\programming_python\\temp\\temp_TXT.txt'), name = os.path.basename(r'C:\\Users\\HP\\OneDrive\\Рабочий стол\\вуз\\Программирование\\programming_python\\temp\\temp_TXT.txt'))\n",
    "\n",
    "table = PrettyTable()\n",
    "table.field_names = [\"Название файла\", \"Размер в байтах\", \"Размер автоматически\", \"Единицы измерения\"]\n",
    "table.add_rows([\n",
    "    [file[0], file[1], file[2], file[3]]])\n",
    "print(table)"
   ]
  },
  {
   "cell_type": "code",
   "execution_count": 23,
   "metadata": {},
   "outputs": [
    {
     "name": "stdout",
     "output_type": "stream",
     "text": [
      "('temp_SQLite.db', 12288, Decimal('12.00'), 'KB')\n"
     ]
    }
   ],
   "source": [
    "print(pretty_size(size_byte = os.path.getsize(r'C:\\Users\\HP\\OneDrive\\Рабочий стол\\вуз\\Программирование\\programming_python\\temp\\temp_SQLite.db'), name = os.path.basename(r'C:\\Users\\HP\\OneDrive\\Рабочий стол\\вуз\\Программирование\\programming_python\\temp\\temp_SQLite.db')))\n"
   ]
  },
  {
   "cell_type": "code",
   "execution_count": 28,
   "metadata": {},
   "outputs": [
    {
     "name": "stdout",
     "output_type": "stream",
     "text": [
      "+----------------+-----------------+----------------------+-------------------+\n",
      "| Название файла | Размер в байтах | Размер автоматически | Единицы измерения |\n",
      "+----------------+-----------------+----------------------+-------------------+\n",
      "| temp_SQLite.db |      12288      |        12.00         |         KB        |\n",
      "+----------------+-----------------+----------------------+-------------------+\n"
     ]
    }
   ],
   "source": [
    "file1 = (pretty_size(size_byte = os.path.getsize(r'C:\\Users\\HP\\OneDrive\\Рабочий стол\\вуз\\Программирование\\programming_python\\temp\\temp_SQLite.db'), name = os.path.basename(r'C:\\Users\\HP\\OneDrive\\Рабочий стол\\вуз\\Программирование\\programming_python\\temp\\temp_SQLite.db')))\n",
    "\n",
    "table = PrettyTable()\n",
    "table.field_names = [\"Название файла\", \"Размер в байтах\", \"Размер автоматически\", \"Единицы измерения\"]\n",
    "table.add_rows([\n",
    "    [file1[0], file1[1], file1[2], file1[3]]])\n",
    "print(table)"
   ]
  }
 ],
 "metadata": {
  "kernelspec": {
   "display_name": "Python 3",
   "language": "python",
   "name": "python3"
  },
  "language_info": {
   "codemirror_mode": {
    "name": "ipython",
    "version": 3
   },
   "file_extension": ".py",
   "mimetype": "text/x-python",
   "name": "python",
   "nbconvert_exporter": "python",
   "pygments_lexer": "ipython3",
   "version": "3.11.2"
  },
  "orig_nbformat": 4
 },
 "nbformat": 4,
 "nbformat_minor": 2
}
