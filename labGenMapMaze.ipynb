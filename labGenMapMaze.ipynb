{
 "cells": [
  {
   "cell_type": "code",
   "execution_count": 2,
   "metadata": {
    "ExecuteTime": {
     "end_time": "2023-06-15T22:02:02.386487500Z",
     "start_time": "2023-06-15T22:02:02.369473600Z"
    },
    "collapsed": false
   },
   "outputs": [],
   "source": [
    "import random"
   ]
  },
  {
   "cell_type": "code",
   "execution_count": 3,
   "metadata": {
    "ExecuteTime": {
     "end_time": "2023-06-15T22:02:02.401014100Z",
     "start_time": "2023-06-15T22:02:02.386487500Z"
    },
    "collapsed": false
   },
   "outputs": [],
   "source": [
    "def gen_maze(width: int, height: int, start: tuple, end: tuple, seed=1) -> None:\n",
    "    WIDTH = width # Ширина лабиринта (должна быть нечетной)\n",
    "    HEIGHT = height # Высота лабиринта (должна быть нечетной)\n",
    "    assert WIDTH % 2 == 1 and WIDTH >= 3\n",
    "    assert HEIGHT % 2 == 1 and HEIGHT >= 3\n",
    "    SEED = seed\n",
    "    random.seed(SEED)\n",
    "\n",
    "    # Символы для отображения лабиринта\n",
    "    EMPTY = ' '\n",
    "    WALL = '█' \n",
    "    START = '~'\n",
    "    END = '$'\n",
    "    NORTH, SOUTH, EAST, WEST = 'n', 's', 'e', 'w'\n",
    "    # Создание заполненной структуры лабиринта\n",
    "    maze = []\n",
    "    for x in range(WIDTH):\n",
    "        maze.append([])\n",
    "        for y in range(HEIGHT):\n",
    "            maze[x].append(WALL) # Сначала каждое пространство это стена\n",
    "    # Выделение путей в структуре данных\n",
    "    def visit(x: int, y: int) -> None:\n",
    "        \"\"\"\"Вырезание \"пустых мест\" в лабиринте в точках x, y, \n",
    "рекурсивное перемещение в соседние непосещаемые пространства. Функция возвращается назад, когда отметка зашла в тупик.\"\"\"\n",
    "        maze[x][y] = EMPTY # Вырезание пробела в точках x и y\n",
    "        while True:\n",
    "            # Проверка, какие соседние области, примыкающие\n",
    "            # к отметке еще не были посещены:\n",
    "            unvisitedNeighbors = []\n",
    "            if y > 1 and (x, y - 2) not in hasVisited:\n",
    "                unvisitedNeighbors.append(NORTH)\n",
    "            if y < HEIGHT - 2 and (x, y + 2) not in hasVisited:\n",
    "                unvisitedNeighbors.append(SOUTH)\n",
    "            if x > 1 and (x - 2, y) not in hasVisited:\n",
    "                unvisitedNeighbors.append(WEST)\n",
    "            if x < WIDTH - 2 and (x + 2, y) not in hasVisited:\n",
    "                unvisitedNeighbors.append(EAST)\n",
    "            if len(unvisitedNeighbors) == 0:\n",
    "                # BASE CASE\n",
    "                # Были посещены все соседние пространства, так что это тупик\n",
    "                # Возврат к более раннему пространству\n",
    "                return\n",
    "            else:\n",
    "                # RECURSIVE CASE\n",
    "                # Случайным образом выбор непосещаемого соседа для посещения:\n",
    "                nextIntersection = random.choice(unvisitedNeighbors)\n",
    "                # Перемещение метки в непосещенное пространство\n",
    "                if nextIntersection == NORTH:\n",
    "                    nextX = x\n",
    "                    nextY = y - 2\n",
    "                    maze[x][y - 1] = EMPTY \n",
    "                elif nextIntersection == SOUTH:\n",
    "                    nextX = x\n",
    "                    nextY = y + 2\n",
    "                    maze[x][y + 1] = EMPTY \n",
    "                elif nextIntersection == WEST:\n",
    "                    nextX = x - 2\n",
    "                    nextY = y\n",
    "                    maze[x - 1][y] = EMPTY \n",
    "                elif nextIntersection == EAST:\n",
    "                    nextX = x + 2\n",
    "                    nextY = y\n",
    "                    maze[x + 1][y] = EMPTY \n",
    "                hasVisited.append((nextX, nextY)) # Отметка посещенного\n",
    "                visit(nextX, nextY) # Рекурсивное посещение пространства\n",
    "    hasVisited = [start] # Начало с посещения верхнего левого угла\n",
    "    visit(*start)\n",
    "    maze[start[0]][start[1]] = START\n",
    "    exits = []\n",
    "    for (x, y) in hasVisited:\n",
    "        if y == HEIGHT - 2:\n",
    "            exits.append((x, y))\n",
    "    end = random.choice(exits)\n",
    "    maze[end[0]][end[1]] = END\n",
    "    print_maze(maze)\n",
    "\n",
    "def print_maze(maze: dict) -> None:\n",
    "    \"\"\"Отображение структуры данных лабиринта в аргументе maze. Аргументы\n",
    "mark и markY являются координатами текущего\n",
    "'@' местоположения алгоритма, когда он генерирует лабиринт.\"\"\"\n",
    "    for y in maze:\n",
    "        for x in y:\n",
    "            # Отображение стены или пустого пространства\n",
    "            print(x, end='')\n",
    "        print() "
   ]
  },
  {
   "cell_type": "code",
   "execution_count": 50,
   "metadata": {
    "ExecuteTime": {
     "end_time": "2023-06-15T22:02:02.401014100Z",
     "start_time": "2023-06-15T22:02:02.387008700Z"
    },
    "collapsed": false
   },
   "outputs": [
    {
     "name": "stdout",
     "output_type": "stream",
     "text": [
      "███████████\n",
      "█         █\n",
      "███████ █ █\n",
      "█     █ █ █\n",
      "█ ███ █ █ █\n",
      "█   █   █$█\n",
      "█ █ ███████\n",
      "█ █      ~█\n",
      "███████████\n"
     ]
    }
   ],
   "source": [
    "gen_maze(9, 11, (7, 9), (8, 10), 2)"
   ]
  },
  {
   "cell_type": "code",
   "execution_count": 45,
   "metadata": {},
   "outputs": [
    {
     "name": "stdout",
     "output_type": "stream",
     "text": [
      "███████████████\n",
      "█~      █     █\n",
      "███████ █ ███ █\n",
      "█   █   █   █ █\n",
      "█ █ █ █████ █ █\n",
      "█ █ █     █ █ █\n",
      "█ █ █████ █ █ █\n",
      "█ █ █     █ █ █\n",
      "███ █ █████ █ █\n",
      "█   █ █   █ █$█\n",
      "█ ███ █ █ ███ █\n",
      "█       █     █\n",
      "███████████████\n"
     ]
    }
   ],
   "source": [
    "gen_maze(13, 15, (1, 1), (12, 12), 2)"
   ]
  },
  {
   "cell_type": "code",
   "execution_count": 42,
   "metadata": {},
   "outputs": [
    {
     "name": "stdout",
     "output_type": "stream",
     "text": [
      "███████████████████\n",
      "█~  █             █\n",
      "███ █ █████████ █ █\n",
      "█ █ █     █   █ █ █\n",
      "█ █ ███████ █ █ █ █\n",
      "█ █ █       █ █ █ █\n",
      "█ █ █ ███████ ███ █\n",
      "█   █ █     █     █\n",
      "█ ███ █ ███ █████ █\n",
      "█     █ █ █ █ █   █\n",
      "███████ █ █ █ █ ███\n",
      "█       █     █ █ █\n",
      "█ ███ ███████ █ █ █\n",
      "█ █   █     █ █   █\n",
      "█ █████ ███ █ ███ █\n",
      "█       █ █ █   █ █\n",
      "█ ███████ █ █████ █\n",
      "█         █      $█\n",
      "███████████████████\n"
     ]
    }
   ],
   "source": [
    "gen_maze(19, 19, (1, 1), (18, 18), 20)"
   ]
  }
 ],
 "metadata": {
  "kernelspec": {
   "display_name": "Python 3",
   "language": "python",
   "name": "python3"
  },
  "language_info": {
   "codemirror_mode": {
    "name": "ipython",
    "version": 3
   },
   "file_extension": ".py",
   "mimetype": "text/x-python",
   "name": "python",
   "nbconvert_exporter": "python",
   "pygments_lexer": "ipython3",
   "version": "3.11.2"
  }
 },
 "nbformat": 4,
 "nbformat_minor": 0
}
