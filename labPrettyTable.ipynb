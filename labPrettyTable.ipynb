{
 "cells": [
  {
   "attachments": {},
   "cell_type": "markdown",
   "metadata": {},
   "source": [
    "# PrettyTable - красивый вывод таблицы в терминал или текстовый файл\n",
    "* pip install PrettyTable"
   ]
  },
  {
   "cell_type": "code",
   "execution_count": 1,
   "metadata": {},
   "outputs": [],
   "source": [
    "from prettytable import PrettyTable"
   ]
  },
  {
   "cell_type": "code",
   "execution_count": 3,
   "metadata": {},
   "outputs": [
    {
     "name": "stdout",
     "output_type": "stream",
     "text": [
      "+---------+------+---------+--------+\n",
      "| Фамилия | Имя  | Возраст |   ЗП   |\n",
      "+---------+------+---------+--------+\n",
      "|  Иванов | Иван |    19   | 50000  |\n",
      "|  Петров | Петр |    28   | 120000 |\n",
      "| Сидоров | Сидр |    16   |  500   |\n",
      "+---------+------+---------+--------+\n"
     ]
    }
   ],
   "source": [
    "# Способ 1\n",
    "ta = PrettyTable()\n",
    "ta.field_names = [\"Фамилия\", \"Имя\", \"Возраст\", \"ЗП\"]\n",
    "ta.add_row([\"Иванов\", \"Иван\", 19, 50_000])\n",
    "ta.add_row([\"Петров\", \"Петр\", 28, 120_000])\n",
    "ta.add_row([\"Сидоров\", \"Сидр\", 16, 500])\n",
    "print(ta)"
   ]
  },
  {
   "cell_type": "code",
   "execution_count": 5,
   "metadata": {},
   "outputs": [
    {
     "data": {
      "text/html": [
       "<table>\n",
       "    <thead>\n",
       "        <tr>\n",
       "            <th>Фамилия</th>\n",
       "            <th>Имя</th>\n",
       "            <th>Возраст</th>\n",
       "            <th>ЗП</th>\n",
       "        </tr>\n",
       "    </thead>\n",
       "    <tbody>\n",
       "        <tr>\n",
       "            <td>Иванов</td>\n",
       "            <td>Иван</td>\n",
       "            <td>19</td>\n",
       "            <td>50000</td>\n",
       "        </tr>\n",
       "        <tr>\n",
       "            <td>Петров</td>\n",
       "            <td>Петр</td>\n",
       "            <td>28</td>\n",
       "            <td>120000</td>\n",
       "        </tr>\n",
       "        <tr>\n",
       "            <td>Сидоров</td>\n",
       "            <td>Сидр</td>\n",
       "            <td>16</td>\n",
       "            <td>500</td>\n",
       "        </tr>\n",
       "    </tbody>\n",
       "</table>"
      ],
      "text/plain": [
       "+---------+------+---------+--------+\n",
       "| Фамилия | Имя  | Возраст |   ЗП   |\n",
       "+---------+------+---------+--------+\n",
       "|  Иванов | Иван |    19   | 50000  |\n",
       "|  Петров | Петр |    28   | 120000 |\n",
       "| Сидоров | Сидр |    16   |  500   |\n",
       "+---------+------+---------+--------+"
      ]
     },
     "execution_count": 5,
     "metadata": {},
     "output_type": "execute_result"
    }
   ],
   "source": [
    "# Способ 2\n",
    "ta = PrettyTable()\n",
    "ta.field_names = [\"Фамилия\", \"Имя\", \"Возраст\", \"ЗП\"]\n",
    "ta.add_rows([\n",
    "  [\"Иванов\", \"Иван\", 19, 50_000],\n",
    "  [\"Петров\", \"Петр\", 28, 120_000],\n",
    "  [\"Сидоров\", \"Сидр\", 16, 500]\n",
    "])\n",
    "ta"
   ]
  },
  {
   "cell_type": "code",
   "execution_count": 6,
   "metadata": {},
   "outputs": [
    {
     "data": {
      "text/plain": [
       "'+---------+------+---------+--------+\\n| Фамилия | Имя  | Возраст |   ЗП   |\\n+---------+------+---------+--------+\\n|  Иванов | Иван |    19   | 50000  |\\n|  Петров | Петр |    28   | 120000 |\\n| Сидоров | Сидр |    16   |  500   |\\n+---------+------+---------+--------+'"
      ]
     },
     "execution_count": 6,
     "metadata": {},
     "output_type": "execute_result"
    }
   ],
   "source": [
    "ta.get_string()"
   ]
  },
  {
   "cell_type": "code",
   "execution_count": 9,
   "metadata": {},
   "outputs": [
    {
     "data": {
      "text/html": [
       "<table>\n",
       "    <thead>\n",
       "        <tr>\n",
       "            <th>Фамилия</th>\n",
       "            <th>Имя</th>\n",
       "            <th>Возраст</th>\n",
       "            <th>ЗП</th>\n",
       "        </tr>\n",
       "    </thead>\n",
       "    <tbody>\n",
       "        <tr>\n",
       "            <td>Сидоров</td>\n",
       "            <td>Сидр</td>\n",
       "            <td>16</td>\n",
       "            <td>500</td>\n",
       "        </tr>\n",
       "    </tbody>\n",
       "</table>"
      ],
      "text/plain": [
       "+---------+------+---------+-----+\n",
       "| Фамилия | Имя  | Возраст |  ЗП |\n",
       "+---------+------+---------+-----+\n",
       "| Сидоров | Сидр |    16   | 500 |\n",
       "+---------+------+---------+-----+"
      ]
     },
     "execution_count": 9,
     "metadata": {},
     "output_type": "execute_result"
    }
   ],
   "source": [
    "ta[-1]"
   ]
  },
  {
   "cell_type": "code",
   "execution_count": 10,
   "metadata": {},
   "outputs": [
    {
     "data": {
      "text/html": [
       "<table>\n",
       "    <thead>\n",
       "        <tr>\n",
       "            <th>Фамилия</th>\n",
       "            <th>Имя</th>\n",
       "            <th>Возраст</th>\n",
       "            <th>ЗП</th>\n",
       "        </tr>\n",
       "    </thead>\n",
       "    <tbody>\n",
       "        <tr>\n",
       "            <td>Иванов</td>\n",
       "            <td>Иван</td>\n",
       "            <td>19</td>\n",
       "            <td>50000</td>\n",
       "        </tr>\n",
       "        <tr>\n",
       "            <td>Петров</td>\n",
       "            <td>Петр</td>\n",
       "            <td>28</td>\n",
       "            <td>120000</td>\n",
       "        </tr>\n",
       "    </tbody>\n",
       "</table>"
      ],
      "text/plain": [
       "+---------+------+---------+--------+\n",
       "| Фамилия | Имя  | Возраст |   ЗП   |\n",
       "+---------+------+---------+--------+\n",
       "|  Иванов | Иван |    19   | 50000  |\n",
       "|  Петров | Петр |    28   | 120000 |\n",
       "+---------+------+---------+--------+"
      ]
     },
     "execution_count": 10,
     "metadata": {},
     "output_type": "execute_result"
    }
   ],
   "source": [
    "ta[:-1]"
   ]
  },
  {
   "cell_type": "code",
   "execution_count": 11,
   "metadata": {},
   "outputs": [
    {
     "data": {
      "text/html": [
       "<table>\n",
       "    <thead>\n",
       "        <tr>\n",
       "            <th>Фамилия</th>\n",
       "            <th>Имя</th>\n",
       "            <th>Возраст</th>\n",
       "            <th>ЗП</th>\n",
       "        </tr>\n",
       "    </thead>\n",
       "    <tbody>\n",
       "        <tr>\n",
       "            <td>Иванов</td>\n",
       "            <td>Иван</td>\n",
       "            <td>19</td>\n",
       "            <td>50000</td>\n",
       "        </tr>\n",
       "        <tr>\n",
       "            <td>Петров</td>\n",
       "            <td>Петр</td>\n",
       "            <td>28</td>\n",
       "            <td>120000</td>\n",
       "        </tr>\n",
       "    </tbody>\n",
       "</table>"
      ],
      "text/plain": [
       "+---------+------+---------+--------+\n",
       "| Фамилия | Имя  | Возраст |   ЗП   |\n",
       "+---------+------+---------+--------+\n",
       "|  Иванов | Иван |    19   | 50000  |\n",
       "|  Петров | Петр |    28   | 120000 |\n",
       "+---------+------+---------+--------+"
      ]
     },
     "execution_count": 11,
     "metadata": {},
     "output_type": "execute_result"
    }
   ],
   "source": [
    "ta_2 = ta\n",
    "ta_3 = ta[:-1]\n",
    "ta_3"
   ]
  },
  {
   "cell_type": "code",
   "execution_count": 12,
   "metadata": {},
   "outputs": [
    {
     "name": "stdout",
     "output_type": "stream",
     "text": [
      "2970531793296\n",
      "2970531793296\n",
      "2970553944976\n"
     ]
    }
   ],
   "source": [
    "print(id(ta))\n",
    "print(id(ta_2))\n",
    "print(id(ta_3))"
   ]
  },
  {
   "cell_type": "code",
   "execution_count": 13,
   "metadata": {},
   "outputs": [
    {
     "name": "stdout",
     "output_type": "stream",
     "text": [
      "+---------+------+---------+--------+\n",
      "| Фамилия |  Имя | Возраст |     ЗП |\n",
      "+---------+------+---------+--------+\n",
      "|  Иванов | Иван |      19 |  50000 |\n",
      "|  Петров | Петр |      28 | 120000 |\n",
      "| Сидоров | Сидр |      16 |    500 |\n",
      "+---------+------+---------+--------+\n"
     ]
    }
   ],
   "source": [
    "ta.align = 'r'\n",
    "print(ta)"
   ]
  },
  {
   "cell_type": "code",
   "execution_count": 15,
   "metadata": {},
   "outputs": [
    {
     "name": "stdout",
     "output_type": "stream",
     "text": [
      "+---------+------+---------+--------+\n",
      "| Фамилия |  Имя | Возраст |     ЗП |\n",
      "+---------+------+---------+--------+\n",
      "| Иванов  | Иван |    19   |  50000 |\n",
      "| Петров  | Петр |    28   | 120000 |\n",
      "| Сидоров | Сидр |    16   |    500 |\n",
      "+---------+------+---------+--------+\n"
     ]
    }
   ],
   "source": [
    "ta.align[\"Фамилия\"] = 'l'\n",
    "ta.align[\"Возраст\"] = 'c'\n",
    "print(ta)"
   ]
  },
  {
   "cell_type": "code",
   "execution_count": 17,
   "metadata": {},
   "outputs": [
    {
     "name": "stdout",
     "output_type": "stream",
     "text": [
      "+---------+------+---------+--------+\n",
      "| Фамилия |  Имя | Возраст |     ЗП |\n",
      "+---------+------+---------+--------+\n",
      "| Петров  | Петр |    28   | 120000 |\n",
      "| Иванов  | Иван |    19   |  50000 |\n",
      "| Сидоров | Сидр |    16   |    500 |\n",
      "+---------+------+---------+--------+\n"
     ]
    }
   ],
   "source": [
    "print(ta.get_string(sortby = \"Возраст\", reversesort = True))"
   ]
  },
  {
   "cell_type": "code",
   "execution_count": 19,
   "metadata": {},
   "outputs": [
    {
     "name": "stdout",
     "output_type": "stream",
     "text": [
      "+------+---------+\n",
      "|  Имя | Возраст |\n",
      "+------+---------+\n",
      "| Иван |    19   |\n",
      "| Петр |    28   |\n",
      "| Сидр |    16   |\n",
      "+------+---------+\n"
     ]
    }
   ],
   "source": [
    "# Ограничение по столбцам\n",
    "print(ta.get_string(fields = [\"Имя\", \"Возраст\"]))"
   ]
  },
  {
   "cell_type": "code",
   "execution_count": 20,
   "metadata": {},
   "outputs": [
    {
     "name": "stdout",
     "output_type": "stream",
     "text": [
      "+---------+------+---------+--------+\n",
      "| Фамилия |  Имя | Возраст |     ЗП |\n",
      "+---------+------+---------+--------+\n",
      "| Петров  | Петр |    28   | 120000 |\n",
      "| Сидоров | Сидр |    16   |    500 |\n",
      "+---------+------+---------+--------+\n"
     ]
    }
   ],
   "source": [
    "# Ограничение по строкам\n",
    "print(ta.get_string(start = 1, end = 3))"
   ]
  },
  {
   "cell_type": "code",
   "execution_count": 21,
   "metadata": {},
   "outputs": [
    {
     "name": "stdout",
     "output_type": "stream",
     "text": [
      "Фамилия,Имя,Возраст,ЗП\n",
      "Иванов,Иван,19,50000\n",
      "Петров,Петр,28,120000\n",
      "Сидоров,Сидр,16,500\n",
      "\n"
     ]
    }
   ],
   "source": [
    "print(ta.get_csv_string())"
   ]
  },
  {
   "cell_type": "code",
   "execution_count": 22,
   "metadata": {},
   "outputs": [
    {
     "name": "stdout",
     "output_type": "stream",
     "text": [
      "<table>\n",
      "    <thead>\n",
      "        <tr>\n",
      "            <th>Фамилия</th>\n",
      "            <th>Имя</th>\n",
      "            <th>Возраст</th>\n",
      "            <th>ЗП</th>\n",
      "        </tr>\n",
      "    </thead>\n",
      "    <tbody>\n",
      "        <tr>\n",
      "            <td>Иванов</td>\n",
      "            <td>Иван</td>\n",
      "            <td>19</td>\n",
      "            <td>50000</td>\n",
      "        </tr>\n",
      "        <tr>\n",
      "            <td>Петров</td>\n",
      "            <td>Петр</td>\n",
      "            <td>28</td>\n",
      "            <td>120000</td>\n",
      "        </tr>\n",
      "        <tr>\n",
      "            <td>Сидоров</td>\n",
      "            <td>Сидр</td>\n",
      "            <td>16</td>\n",
      "            <td>500</td>\n",
      "        </tr>\n",
      "    </tbody>\n",
      "</table>\n"
     ]
    }
   ],
   "source": [
    "print(ta.get_html_string())"
   ]
  },
  {
   "cell_type": "code",
   "execution_count": 24,
   "metadata": {},
   "outputs": [
    {
     "name": "stdout",
     "output_type": "stream",
     "text": [
      "[\n",
      "    [\n",
      "        \"Фамилия\",\n",
      "        \"Имя\",\n",
      "        \"Возраст\",\n",
      "        \"ЗП\"\n",
      "    ],\n",
      "    {\n",
      "        \"Возраст\": 19,\n",
      "        \"ЗП\": 50000,\n",
      "        \"Имя\": \"Иван\",\n",
      "        \"Фамилия\": \"Иванов\"\n",
      "    },\n",
      "    {\n",
      "        \"Возраст\": 28,\n",
      "        \"ЗП\": 120000,\n",
      "        \"Имя\": \"Петр\",\n",
      "        \"Фамилия\": \"Петров\"\n",
      "    },\n",
      "    {\n",
      "        \"Возраст\": 16,\n",
      "        \"ЗП\": 500,\n",
      "        \"Имя\": \"Сидр\",\n",
      "        \"Фамилия\": \"Сидоров\"\n",
      "    }\n",
      "]\n"
     ]
    }
   ],
   "source": [
    "print(ta.get_json_string(ensure_ascii = False))"
   ]
  },
  {
   "cell_type": "code",
   "execution_count": 25,
   "metadata": {},
   "outputs": [
    {
     "name": "stdout",
     "output_type": "stream",
     "text": [
      "+---------*------*---------*--------+\n",
      "| Фамилия |  Имя | Возраст |     ЗП |\n",
      "+---------+------+---------+--------+\n",
      "| Иванов  | Иван |    19   |  50000 |\n",
      "| Петров  | Петр |    28   | 120000 |\n",
      "| Сидоров | Сидр |    16   |    500 |\n",
      "+---------+------+---------+--------+\n"
     ]
    }
   ],
   "source": [
    "ta.top_junction_char = '*'\n",
    "print(ta)"
   ]
  },
  {
   "cell_type": "code",
   "execution_count": null,
   "metadata": {},
   "outputs": [],
   "source": [
    "# Стили\n",
    "# ta.set_style(PrettyTable.)\n",
    "# print(ta)"
   ]
  }
 ],
 "metadata": {
  "kernelspec": {
   "display_name": "Python 3",
   "language": "python",
   "name": "python3"
  },
  "language_info": {
   "codemirror_mode": {
    "name": "ipython",
    "version": 3
   },
   "file_extension": ".py",
   "mimetype": "text/x-python",
   "name": "python",
   "nbconvert_exporter": "python",
   "pygments_lexer": "ipython3",
   "version": "3.11.2"
  },
  "orig_nbformat": 4
 },
 "nbformat": 4,
 "nbformat_minor": 2
}
