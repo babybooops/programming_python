{
 "cells": [
  {
   "attachments": {},
   "cell_type": "markdown",
   "metadata": {},
   "source": [
    "# Генератор паролей"
   ]
  },
  {
   "cell_type": "code",
   "execution_count": 2,
   "metadata": {},
   "outputs": [],
   "source": [
    "import random"
   ]
  },
  {
   "cell_type": "code",
   "execution_count": 3,
   "metadata": {},
   "outputs": [
    {
     "name": "stdout",
     "output_type": "stream",
     "text": [
      "['K1pjw5iG7R', 'ZI@hBhsQcj', 'GoJVLc5BDE', 'i7dfFd0dRF', 'F3s1y$Ouap']\n"
     ]
    }
   ],
   "source": [
    "def GenPassword(countSym: int, countPassword: int, chars: str) -> list: # countSym - количество символов в пароле, countPassword - количество паролей, chars - набор символов, password_list - список паролей\n",
    "    password_list = []\n",
    "    if(countPassword.isdigit() and countSym.isdigit()): # проверка на то, ввел ли пользователь число, а не другой символ\n",
    "        countPassword = int(countPassword)\n",
    "        countSym = int(countSym)\n",
    "        password_list = []\n",
    "        for n in range(countSym): #  внешний цикл - генерация паролей по количеству, внутренний цикл генерация символов внутри пароля\n",
    "            password = ''\n",
    "            for i in range(countPassword):\n",
    "                password += random.choice(chars)\n",
    "            password_list.append(password)\n",
    "        return password_list\n",
    "    else:\n",
    "        raise 'Необходимо ввести число'\n",
    "\n",
    "\n",
    "print(GenPassword(countSym = input('Введите количество паролей'), countPassword = input('Введите количество символов'), chars = '+-/*!&$#?=@<>abcdefghijklnopqrstuvwxyzABCDEFGHIJKLMNOPQRSTUVWXYZ1234567890'))\n",
    "\n"
   ]
  }
 ],
 "metadata": {
  "kernelspec": {
   "display_name": "Python 3",
   "language": "python",
   "name": "python3"
  },
  "language_info": {
   "codemirror_mode": {
    "name": "ipython",
    "version": 3
   },
   "file_extension": ".py",
   "mimetype": "text/x-python",
   "name": "python",
   "nbconvert_exporter": "python",
   "pygments_lexer": "ipython3",
   "version": "3.11.2"
  },
  "orig_nbformat": 4
 },
 "nbformat": 4,
 "nbformat_minor": 2
}
