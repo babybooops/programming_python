{
 "cells": [
  {
   "attachments": {},
   "cell_type": "markdown",
   "metadata": {},
   "source": [
    "# Генератор паролей"
   ]
  },
  {
   "cell_type": "code",
   "execution_count": 8,
   "metadata": {},
   "outputs": [],
   "source": [
    "import random"
   ]
  },
  {
   "cell_type": "code",
   "execution_count": 92,
   "metadata": {},
   "outputs": [
    {
     "name": "stdout",
     "output_type": "stream",
     "text": [
      "Xfrf8z33gU8qg&0y2o8i\n"
     ]
    }
   ],
   "source": [
    "def GenPassword(countSym, countPassword, chars):\n",
    "    if(countPassword.isdigit() and countSym.isdigit()):\n",
    "        countPassword = int(countPassword)\n",
    "        countSym = int(countSym)\n",
    "        for n in range(countSym):\n",
    "            password =''\n",
    "            for i in range(countPassword):\n",
    "                password += random.choice(chars)\n",
    "            print(password)\n",
    "    else:\n",
    "        print('Необходимо ввести число ')\n",
    "\n",
    "GenPassword(countSym = input('Введите количество паролей'), countPassword = input('Введите количество символов'), chars = '+-/*!&$#?=@<>abcdefghijklnopqrstuvwxyzABCDEFGHIJKLMNOPQRSTUVWXYZ1234567890')\n",
    "\n"
   ]
  }
 ],
 "metadata": {
  "kernelspec": {
   "display_name": "Python 3",
   "language": "python",
   "name": "python3"
  },
  "language_info": {
   "codemirror_mode": {
    "name": "ipython",
    "version": 3
   },
   "file_extension": ".py",
   "mimetype": "text/x-python",
   "name": "python",
   "nbconvert_exporter": "python",
   "pygments_lexer": "ipython3",
   "version": "3.11.2"
  },
  "orig_nbformat": 4
 },
 "nbformat": 4,
 "nbformat_minor": 2
}
