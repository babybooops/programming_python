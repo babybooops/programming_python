{
 "cells": [
  {
   "cell_type": "code",
   "execution_count": 1,
   "metadata": {},
   "outputs": [],
   "source": [
    "import shutil"
   ]
  },
  {
   "attachments": {},
   "cell_type": "markdown",
   "metadata": {},
   "source": [
    "## 1.  shutil.copyfile() \n",
    "копирует содержимое источника в место назначения и вызывает исключение IOError, если у него нет разрешения на запись в файл назначения."
   ]
  },
  {
   "cell_type": "code",
   "execution_count": 10,
   "metadata": {},
   "outputs": [
    {
     "name": "stdout",
     "output_type": "stream",
     "text": [
      "['temp\\\\temp_csv.csv', 'temp\\\\temp_JSON.json', 'temp\\\\temp_JSON_2.json', 'temp\\\\temp_SQLite.db', 'temp\\\\temp_SQLite.db-journal', 'temp\\\\temp_TXT.txt', 'temp\\\\temp_TXT_poem_utf8.txt', 'temp\\\\test_file.txt', 'temp\\\\test_file.txt.copy', 'temp\\\\text.txt']\n"
     ]
    }
   ],
   "source": [
    "import shutil\n",
    "from glob import glob\n",
    "\n",
    "open('temp/test_file.txt', 'w').close()\n",
    "shutil.copyfile('temp/test_file.txt', 'temp/test_file.txt.copy')\n",
    "\n",
    "print(glob('temp/*'))\n"
   ]
  },
  {
   "attachments": {},
   "cell_type": "markdown",
   "metadata": {},
   "source": [
    "## 2. shutil.copy() \n",
    "функция используется для копирования содержимого или текста исходного файла в конечный файл или каталоги. "
   ]
  },
  {
   "cell_type": "code",
   "execution_count": 11,
   "metadata": {},
   "outputs": [
    {
     "data": {
      "text/plain": [
       "['temp\\\\shutil_copy.txt',\n",
       " 'temp\\\\temp_csv.csv',\n",
       " 'temp\\\\temp_JSON.json',\n",
       " 'temp\\\\temp_JSON_2.json',\n",
       " 'temp\\\\temp_SQLite.db',\n",
       " 'temp\\\\temp_SQLite.db-journal',\n",
       " 'temp\\\\temp_TXT.txt',\n",
       " 'temp\\\\temp_TXT_poem_utf8.txt',\n",
       " 'temp\\\\test_file.txt',\n",
       " 'temp\\\\test_file.txt.copy',\n",
       " 'temp\\\\text.txt']"
      ]
     },
     "execution_count": 11,
     "metadata": {},
     "output_type": "execute_result"
    }
   ],
   "source": [
    "open('shutil_copy.txt', 'w').close()\n",
    "shutil.copy('shutil_copy.txt', 'temp')\n",
    "glob('temp/*')\n"
   ]
  },
  {
   "attachments": {},
   "cell_type": "markdown",
   "metadata": {},
   "source": [
    "## 3. shutil.rmtree()\n",
    "удаление всего каталога"
   ]
  },
  {
   "cell_type": "code",
   "execution_count": 13,
   "metadata": {},
   "outputs": [],
   "source": [
    "import os \n",
    "\n",
    "directory = \"C:/Users/HP/OneDrive/Рабочий стол/вуз/Программирование/programming_python\"\n",
    "for_delete = \"eam\"\n",
    "path = os.path.join(directory, for_delete)\n",
    "shutil.rmtree(path)"
   ]
  },
  {
   "attachments": {},
   "cell_type": "markdown",
   "metadata": {},
   "source": [
    "## 4. Архивирование каталогов"
   ]
  },
  {
   "cell_type": "code",
   "execution_count": 14,
   "metadata": {},
   "outputs": [
    {
     "data": {
      "text/plain": [
       "'C:\\\\Users\\\\HP\\\\myarchive.tar.gz'"
      ]
     },
     "execution_count": 14,
     "metadata": {},
     "output_type": "execute_result"
    }
   ],
   "source": [
    "from shutil import make_archive\n",
    "import os\n",
    "archive_name = os.path.expanduser(os.path.join('~', 'myarchive'))\n",
    "root_dir = os.path.expanduser(os.path.join('~', '.ssh'))\n",
    "make_archive(archive_name, 'gztar', root_dir)"
   ]
  },
  {
   "attachments": {},
   "cell_type": "markdown",
   "metadata": {},
   "source": [
    "## 5. shutil.copytree() \n",
    "Рекурсивное копирование каталогов"
   ]
  },
  {
   "cell_type": "code",
   "execution_count": 21,
   "metadata": {},
   "outputs": [],
   "source": [
    "import shutil \n",
    "src = 'C:/Users/HP/OneDrive/Рабочий стол/вуз/Программирование/programming_python/temp'\n",
    "dest = 'Изображения'\n",
    "destination = shutil.copytree(src, dest) \n",
    "   \n"
   ]
  }
 ],
 "metadata": {
  "kernelspec": {
   "display_name": "Python 3",
   "language": "python",
   "name": "python3"
  },
  "language_info": {
   "codemirror_mode": {
    "name": "ipython",
    "version": 3
   },
   "file_extension": ".py",
   "mimetype": "text/x-python",
   "name": "python",
   "nbconvert_exporter": "python",
   "pygments_lexer": "ipython3",
   "version": "3.11.2"
  },
  "orig_nbformat": 4
 },
 "nbformat": 4,
 "nbformat_minor": 2
}
