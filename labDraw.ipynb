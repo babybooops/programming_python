{
 "cells": [
  {
   "attachments": {},
   "cell_type": "markdown",
   "metadata": {},
   "source": [
    "# Рисование в консоли"
   ]
  },
  {
   "attachments": {},
   "cell_type": "markdown",
   "metadata": {},
   "source": [
    "# Линия"
   ]
  },
  {
   "cell_type": "code",
   "execution_count": 1,
   "metadata": {},
   "outputs": [
    {
     "name": "stdout",
     "output_type": "stream",
     "text": [
      "******************************\n"
     ]
    }
   ],
   "source": [
    "w = 30\n",
    "print(\"*\" * w)"
   ]
  },
  {
   "attachments": {},
   "cell_type": "markdown",
   "metadata": {},
   "source": [
    "# Прямоугольник"
   ]
  },
  {
   "cell_type": "code",
   "execution_count": 2,
   "metadata": {},
   "outputs": [
    {
     "name": "stdout",
     "output_type": "stream",
     "text": [
      "*************************\n",
      "*************************\n",
      "*************************\n",
      "*************************\n",
      "*************************\n",
      "*************************\n",
      "*************************\n",
      "*************************\n",
      "*************************\n",
      "*************************\n"
     ]
    }
   ],
   "source": [
    "h = 10\n",
    "w = 25\n",
    "c = '*'\n",
    "for r in range(h):\n",
    "    print(c * w)"
   ]
  },
  {
   "cell_type": "code",
   "execution_count": 3,
   "metadata": {},
   "outputs": [
    {
     "name": "stdout",
     "output_type": "stream",
     "text": [
      "*************************\n",
      "*                       *\n",
      "*                       *\n",
      "*                       *\n",
      "*                       *\n",
      "*                       *\n",
      "*                       *\n",
      "*                       *\n",
      "*                       *\n",
      "*                       *\n"
     ]
    }
   ],
   "source": [
    "h = 10\n",
    "w = 25\n",
    "c = '*'\n",
    "f = False\n",
    "for r in range(h):\n",
    "    if(r == 0):\n",
    "        print(c * w)\n",
    "    else:\n",
    "        print(c + ' '* (w - 2) + c)"
   ]
  }
 ],
 "metadata": {
  "kernelspec": {
   "display_name": "Python 3",
   "language": "python",
   "name": "python3"
  },
  "language_info": {
   "codemirror_mode": {
    "name": "ipython",
    "version": 3
   },
   "file_extension": ".py",
   "mimetype": "text/x-python",
   "name": "python",
   "nbconvert_exporter": "python",
   "pygments_lexer": "ipython3",
   "version": "3.11.2"
  },
  "orig_nbformat": 4,
  "vscode": {
   "interpreter": {
    "hash": "1f6a27bcfbe46a917dbd192f4a82657396dda26148bae633192e8d28c70725f1"
   }
  }
 },
 "nbformat": 4,
 "nbformat_minor": 2
}
