{
 "cells": [
  {
   "attachments": {},
   "cell_type": "markdown",
   "metadata": {},
   "source": [
    "# Рисование в консоли"
   ]
  },
  {
   "attachments": {},
   "cell_type": "markdown",
   "metadata": {},
   "source": [
    "# Линия"
   ]
  },
  {
   "cell_type": "code",
   "execution_count": 1,
   "metadata": {},
   "outputs": [
    {
     "name": "stdout",
     "output_type": "stream",
     "text": [
      "******************************\n"
     ]
    }
   ],
   "source": [
    "w = 30\n",
    "print(\"*\" * w)"
   ]
  },
  {
   "attachments": {},
   "cell_type": "markdown",
   "metadata": {},
   "source": [
    "# Прямоугольник"
   ]
  },
  {
   "cell_type": "code",
   "execution_count": 1,
   "metadata": {},
   "outputs": [
    {
     "name": "stdout",
     "output_type": "stream",
     "text": [
      "*************************\n",
      "*************************\n",
      "*************************\n",
      "*************************\n",
      "*************************\n",
      "*************************\n",
      "*************************\n",
      "*************************\n",
      "*************************\n",
      "*************************\n"
     ]
    }
   ],
   "source": [
    "height = 10\n",
    "width = 25\n",
    "fill = 1 # 1 - есть заливка, 0 - нет заливки\n",
    "c = '*'\n",
    "if(fill == 1):\n",
    "    for i in range(height):\n",
    "        print(c * width)\n",
    "if(fill == 0):\n",
    "    print(c * width)\n",
    "    for i in range(height - 2):\n",
    "        print (c + ' ' * (width - 2) + c)\n",
    "    print(c * width)"
   ]
  },
  {
   "attachments": {},
   "cell_type": "markdown",
   "metadata": {},
   "source": [
    "# Треугольник"
   ]
  },
  {
   "cell_type": "code",
   "execution_count": 55,
   "metadata": {},
   "outputs": [
    {
     "name": "stdout",
     "output_type": "stream",
     "text": [
      "\n",
      "*\n",
      "**\n",
      "***\n",
      "****\n",
      "*****\n",
      "******\n",
      "*******\n",
      "********\n",
      "*********\n"
     ]
    }
   ],
   "source": [
    "height = 10\n",
    "fill = 1 # 1 - есть заливка, 0 - нет заливки\n",
    "c = '*'\n",
    "if(fill == 1):\n",
    "    print(\"\\n\".join(c * i for i in range(height)))\n",
    "if(fill == 0):\n",
    "    print(c)\n",
    "    print(\"\\n\".join(c + ' ' * i + c for i in range(height)))\n",
    "    print(c * height)\n"
   ]
  },
  {
   "attachments": {},
   "cell_type": "markdown",
   "metadata": {},
   "source": [
    "# Ромбик"
   ]
  },
  {
   "cell_type": "code",
   "execution_count": 2,
   "metadata": {},
   "outputs": [
    {
     "name": "stdout",
     "output_type": "stream",
     "text": [
      "      *\n",
      "     ***\n",
      "    *****\n",
      "   *******\n",
      "  *********\n",
      " ***********\n",
      "*************\n",
      " ***********\n",
      "  *********\n",
      "   *******\n",
      "    *****\n",
      "     ***\n",
      "      *\n"
     ]
    }
   ],
   "source": [
    "height = 6\n",
    "fill = 1 # 1 - есть заливка, 0 - нет заливки\n",
    "c = '*'\n",
    "if(fill == 1):\n",
    "    for i in range(height):\n",
    "        print(' ' * (height - i) + c + (c * i * 2))\n",
    "    for i in range(height, -1, -1):\n",
    "        print(' ' * (height - i) + c + (c * i * 2))\n",
    "if(fill == 0):\n",
    "    print(' ' * height + c)\n",
    "    for i in range(height):\n",
    "        print(' ' * (height - i - 1) + c + ((1 + i * 2) * ' ') + c)\n",
    "    for i in range(height - 1, -1, -1):\n",
    "        print(' ' * (height - i - 1) + c + ((1 + i * 2) * ' ') + c)\n",
    "    print(' ' * height + c)\n",
    "\n",
    "    \n",
    "\n"
   ]
  },
  {
   "attachments": {},
   "cell_type": "markdown",
   "metadata": {},
   "source": [
    "# Песочные часы"
   ]
  },
  {
   "cell_type": "code",
   "execution_count": 3,
   "metadata": {},
   "outputs": [
    {
     "name": "stdout",
     "output_type": "stream",
     "text": [
      " ************\n",
      "*           *\n",
      " *         *\n",
      "  *       *\n",
      "   *     *\n",
      "    *   *\n",
      "     * *\n",
      "      *\n",
      "     * *\n",
      "    *   *\n",
      "   *     *\n",
      "  *       *\n",
      " *         *\n",
      "*           *\n",
      " ************\n"
     ]
    }
   ],
   "source": [
    "height = 6\n",
    "fill = 0 # 1 - есть заливка, 0 - нет заливки\n",
    "c = '*'\n",
    "if(fill == 1):\n",
    "    for i in range(height, -1, -1):\n",
    "        print(' ' * (height - i) + c + (c * i * 2))\n",
    "    for i in range(height + 1):\n",
    "        print(' ' * (height - i) + c + (c * i * 2))\n",
    "if(fill == 0):\n",
    "    print(' ' + c * height * 2)\n",
    "    for i in range(height - 1, -1, -1):\n",
    "        print(' ' * (height - i - 1) + c + ((1 + i * 2) * ' ') + c)\n",
    "    print(' ' * height + c)\n",
    "    for i in range(height):\n",
    "        print(' ' * (height - i - 1) + c + ((1 + i * 2) * ' ') + c)\n",
    "    print(' ' + c * height * 2)"
   ]
  },
  {
   "attachments": {},
   "cell_type": "markdown",
   "metadata": {},
   "source": [
    "# Шахматная доска"
   ]
  },
  {
   "cell_type": "code",
   "execution_count": 145,
   "metadata": {},
   "outputs": [
    {
     "name": "stdout",
     "output_type": "stream",
     "text": [
      "  ▉  ▉  ▉  ▉\n",
      "▉  ▉  ▉  ▉  \n",
      "  ▉  ▉  ▉  ▉\n",
      "▉  ▉  ▉  ▉  \n",
      "  ▉  ▉  ▉  ▉\n",
      "▉  ▉  ▉  ▉  \n",
      "  ▉  ▉  ▉  ▉\n",
      "▉  ▉  ▉  ▉  \n"
     ]
    }
   ],
   "source": [
    "height = 8\n",
    "width = 8\n",
    "c = '▉'\n",
    "for i in range(height):\n",
    "    for j in range(width // 2):\n",
    "        if(i % 2 == 0):\n",
    "            print('  ', end = c)\n",
    "        else:\n",
    "            print(c, end='  ')\n",
    "    print('')       "
   ]
  },
  {
   "attachments": {},
   "cell_type": "markdown",
   "metadata": {},
   "source": [
    "# Зебра"
   ]
  },
  {
   "cell_type": "code",
   "execution_count": 147,
   "metadata": {},
   "outputs": [
    {
     "name": "stdout",
     "output_type": "stream",
     "text": [
      "████████████████████\n",
      "                                        \n",
      "████████████████████\n",
      "                                        \n",
      "████████████████████\n",
      "                                        \n",
      "████████████████████\n",
      "                                        \n",
      "████████████████████\n",
      "                                        \n",
      "████████████████████\n",
      "                                        \n",
      "████████████████████\n",
      "                                        \n",
      "████████████████████\n",
      "                                        \n",
      "████████████████████\n",
      "                                        \n",
      "████████████████████\n",
      "                                        \n"
     ]
    }
   ],
   "source": [
    "height = 20\n",
    "width = 20\n",
    "c = '█'\n",
    "for i in range(height):\n",
    "    for j in range(width):\n",
    "        if(i % 2 == 0):\n",
    "            print(c, end='')\n",
    "        else:\n",
    "            print('  ', end='')\n",
    "    print('')  "
   ]
  },
  {
   "attachments": {},
   "cell_type": "markdown",
   "metadata": {},
   "source": [
    "# Змейка по вертикали"
   ]
  },
  {
   "cell_type": "code",
   "execution_count": 1,
   "metadata": {},
   "outputs": [
    {
     "name": "stdout",
     "output_type": "stream",
     "text": [
      "███████████████\n",
      "█              \n",
      "███████████████\n",
      "              █\n",
      "███████████████\n",
      "█              \n",
      "███████████████\n",
      "              █\n",
      "███████████████\n",
      "█              \n",
      "███████████████\n",
      "              █\n",
      "███████████████\n",
      "█              \n",
      "███████████████\n"
     ]
    }
   ],
   "source": [
    "height = 15\n",
    "width = 15\n",
    "c = '█'\n",
    "for i in range(height):\n",
    "        if(i % 2 == 0):\n",
    "            print(c * width)\n",
    "        else:\n",
    "            if(i % 4 == 1):\n",
    "                print(c + ((width - 1) * ' '))\n",
    "            else:\n",
    "                print(((width - 1) * ' ') + c)\n",
    "\n",
    "     "
   ]
  },
  {
   "attachments": {},
   "cell_type": "markdown",
   "metadata": {},
   "source": [
    "# Змейка по горизонтали"
   ]
  },
  {
   "cell_type": "code",
   "execution_count": 15,
   "metadata": {},
   "outputs": [
    {
     "name": "stdout",
     "output_type": "stream",
     "text": [
      "█ ███ ███ ███ ███ ██\n",
      "█ █ █ █ █ █ █ █ █ █ \n",
      "███ ███ ███ ███ ███ \n"
     ]
    }
   ],
   "source": [
    "height = 3\n",
    "width = 20\n",
    "c = '█'\n",
    "for i in range(height):\n",
    "    for j in range(width):\n",
    "        if i == 0:\n",
    "            if j % 4 == 1:\n",
    "                print(' ', end='')\n",
    "            else:\n",
    "                print(c, end='')\n",
    "        elif i == (height - 1):\n",
    "            if j % 4 == 3:\n",
    "                print(' ', end='')\n",
    "            else:\n",
    "                print(c, end='')\n",
    "        else:\n",
    "            if j % 2 == 1:\n",
    "                print(' ', end='')\n",
    "            else:\n",
    "                print(c, end='')\n",
    "    print('')"
   ]
  }
 ],
 "metadata": {
  "kernelspec": {
   "display_name": "Python 3",
   "language": "python",
   "name": "python3"
  },
  "language_info": {
   "codemirror_mode": {
    "name": "ipython",
    "version": 3
   },
   "file_extension": ".py",
   "mimetype": "text/x-python",
   "name": "python",
   "nbconvert_exporter": "python",
   "pygments_lexer": "ipython3",
   "version": "3.11.2"
  },
  "orig_nbformat": 4,
  "vscode": {
   "interpreter": {
    "hash": "1f6a27bcfbe46a917dbd192f4a82657396dda26148bae633192e8d28c70725f1"
   }
  }
 },
 "nbformat": 4,
 "nbformat_minor": 2
}
