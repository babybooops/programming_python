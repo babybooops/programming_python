{
 "cells": [
  {
   "attachments": {},
   "cell_type": "markdown",
   "metadata": {},
   "source": [
    "# lru_cache предоставляет кэш последних результатов выполнения функций, или другими словами, запоминает результат их работы."
   ]
  },
  {
   "attachments": {},
   "cell_type": "markdown",
   "metadata": {},
   "source": [
    "Делаем GET-запросы и кэшируем их результаты (до 32 результатов) с помощью декоратора @lru_cache"
   ]
  },
  {
   "cell_type": "code",
   "execution_count": 1,
   "metadata": {},
   "outputs": [
    {
     "name": "stdout",
     "output_type": "stream",
     "text": [
      "CacheInfo(hits=2, misses=4, maxsize=32, currsize=4)\n",
      "{'maxsize': 32, 'typed': False}\n"
     ]
    }
   ],
   "source": [
    "from functools import lru_cache\n",
    "import requests\n",
    "\n",
    "@lru_cache(maxsize=32)\n",
    "def get_with_cache(url):\n",
    "    try:\n",
    "        r = requests.get(url)\n",
    "        return r.text\n",
    "    except:\n",
    "        return \"Not Found\"\n",
    "\n",
    "\n",
    "for url in [\"https://google.com/\",\n",
    "            \"https://martinheinz.dev/\",\n",
    "            \"https://reddit.com/\",\n",
    "            \"https://google.com/\",\n",
    "            \"https://dev.to/martinheinz\",\n",
    "            \"https://google.com/\"]:\n",
    "    get_with_cache(url)\n",
    "\n",
    "print(get_with_cache.cache_info())\n",
    "print(get_with_cache.cache_parameters())"
   ]
  },
  {
   "attachments": {},
   "cell_type": "markdown",
   "metadata": {},
   "source": [
    "# cached_property - используется для кэширования результатов атрибутов класса."
   ]
  },
  {
   "cell_type": "code",
   "execution_count": 2,
   "metadata": {},
   "outputs": [],
   "source": [
    "import dataclasses\n",
    "import functools\n",
    "from typing import Optional\n",
    "import hashlib\n",
    "\n",
    "\n",
    "@dataclasses.dataclass\n",
    "class User:\n",
    "    first_name: str\n",
    "    last_name: str\n",
    "  \n",
    "    @functools.cached_property\n",
    "    def signature(self) -> bytes:\n",
    "        return hashlib.sha512((self.first_name + self.last_name).encode()).digest()\n",
    "    \n"
   ]
  },
  {
   "attachments": {},
   "cell_type": "markdown",
   "metadata": {},
   "source": [
    "# @total_ordering - декоратор сравнения"
   ]
  },
  {
   "attachments": {},
   "cell_type": "markdown",
   "metadata": {},
   "source": [
    "Нужно реализовать только метод eq и один из оставшихся методов, а остальные декоратор сгенерирует автоматически"
   ]
  },
  {
   "cell_type": "code",
   "execution_count": 4,
   "metadata": {},
   "outputs": [
    {
     "name": "stdout",
     "output_type": "stream",
     "text": [
      "True\n",
      "True\n",
      "True\n",
      "False\n"
     ]
    }
   ],
   "source": [
    "from functools import total_ordering\n",
    "\n",
    "@total_ordering\n",
    "class Number:\n",
    " def __init__(self, value):\n",
    "  self.value = value\n",
    "\n",
    " def __lt__(self, other):\n",
    "  return self.value < other.value\n",
    "\n",
    " def __eq__(self, other):\n",
    "  return self.value == other.value\n",
    "\n",
    "print(Number(20) > Number(3))\n",
    "print(Number(1) < Number(5))\n",
    "print(Number(15) >= Number(15))\n",
    "print(Number(10) <= Number(2))"
   ]
  },
  {
   "attachments": {},
   "cell_type": "markdown",
   "metadata": {},
   "source": [
    "# functools.wraps - декоратор для создания еще большего количества декораторов"
   ]
  },
  {
   "attachments": {},
   "cell_type": "markdown",
   "metadata": {},
   "source": [
    "Оборачиваем функцию, выполняющую определенную задачу (actual_func), внешним декоратором, и она сама становится декоратором, который затем можно применить к другим функциям, например, как в случае с greet."
   ]
  },
  {
   "cell_type": "code",
   "execution_count": 6,
   "metadata": {},
   "outputs": [
    {
     "name": "stdout",
     "output_type": "stream",
     "text": [
      "Before Calling greet\n",
      "Hello, Martin!\n",
      "After Calling greet\n"
     ]
    }
   ],
   "source": [
    "def decorator(func):\n",
    "    def actual_func(*args, **kwargs):\n",
    "        print(f\"Before Calling {func.__name__}\")\n",
    "        func(*args, **kwargs)\n",
    "        print(f\"After Calling {func.__name__}\")\n",
    "\n",
    "    return actual_func\n",
    "\n",
    "@decorator\n",
    "def greet(name):\n",
    "    \"\"\"Says hello to somebody\"\"\"\n",
    "    print(f\"Hello, {name}!\")\n",
    "\n",
    "greet(\"Martin\")"
   ]
  },
  {
   "attachments": {},
   "cell_type": "markdown",
   "metadata": {},
   "source": [
    "# reduce - берет итерируемый объект и сворачивает (складывает) все его значения в одно"
   ]
  },
  {
   "cell_type": "code",
   "execution_count": 7,
   "metadata": {},
   "outputs": [
    {
     "name": "stdout",
     "output_type": "stream",
     "text": [
      "6\n",
      "24\n",
      "20\n",
      "olleh\n"
     ]
    }
   ],
   "source": [
    "from functools import reduce\n",
    "import operator\n",
    "\n",
    "def product(iterable):\n",
    "    return reduce(operator.mul, iterable, 1)\n",
    "\n",
    "def factorial(n):\n",
    "    return reduce(operator.mul, range(1, n))\n",
    "\n",
    "def sum(numbers):  # Use `sum` function from standard library instead\n",
    "    return reduce(operator.add, numbers, 1)\n",
    "\n",
    "def reverse(iterable):\n",
    "    return reduce(lambda x, y: y+x, iterable)\n",
    "\n",
    "print(product([1, 2, 3]))\n",
    "print(factorial(5))\n",
    "print(sum([2, 6, 8, 3]))\n",
    "print(reverse(\"hello\"))"
   ]
  },
  {
   "attachments": {},
   "cell_type": "markdown",
   "metadata": {},
   "source": [
    "# singledispatchmethod() модуля functools создает из обычного метода класса - универсальный метод одиночной диспетчеризации"
   ]
  },
  {
   "cell_type": "code",
   "execution_count": 10,
   "metadata": {},
   "outputs": [],
   "source": [
    "from functools import singledispatchmethod\n",
    "\n",
    "\n",
    "class Negator:\n",
    "    @singledispatchmethod\n",
    "    def neg(self, arg):\n",
    "        raise NotImplementedError(\"Cannot negate a\")\n",
    "\n",
    "    @neg.register\n",
    "    def _(self, arg: int):\n",
    "        return -arg\n",
    "\n",
    "    @neg.register\n",
    "    def _(self, arg: bool):\n",
    "        return not arg"
   ]
  },
  {
   "attachments": {},
   "cell_type": "markdown",
   "metadata": {},
   "source": []
  }
 ],
 "metadata": {
  "kernelspec": {
   "display_name": "Python 3",
   "language": "python",
   "name": "python3"
  },
  "language_info": {
   "codemirror_mode": {
    "name": "ipython",
    "version": 3
   },
   "file_extension": ".py",
   "mimetype": "text/x-python",
   "name": "python",
   "nbconvert_exporter": "python",
   "pygments_lexer": "ipython3",
   "version": "3.11.2"
  },
  "orig_nbformat": 4
 },
 "nbformat": 4,
 "nbformat_minor": 2
}
