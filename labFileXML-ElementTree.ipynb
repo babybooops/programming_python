{
 "cells": [
  {
   "cell_type": "code",
   "execution_count": 5,
   "metadata": {
    "ExecuteTime": {
     "end_time": "2023-06-13T19:21:04.537790900Z",
     "start_time": "2023-06-13T19:21:04.517202500Z"
    },
    "collapsed": true
   },
   "outputs": [],
   "source": [
    "from lxml import etree"
   ]
  },
  {
   "cell_type": "code",
   "execution_count": 6,
   "metadata": {
    "ExecuteTime": {
     "end_time": "2023-06-13T19:21:04.544180600Z",
     "start_time": "2023-06-13T19:21:04.521125Z"
    },
    "collapsed": false
   },
   "outputs": [],
   "source": [
    "with open('example.xml', 'rb') as f:\n",
    "    xml = f.read()"
   ]
  },
  {
   "attachments": {},
   "cell_type": "markdown",
   "metadata": {
    "collapsed": false
   },
   "source": [
    "# Парсинг XML"
   ]
  },
  {
   "cell_type": "code",
   "execution_count": 7,
   "metadata": {
    "ExecuteTime": {
     "end_time": "2023-06-13T19:21:04.544180600Z",
     "start_time": "2023-06-13T19:21:04.525869800Z"
    },
    "collapsed": false
   },
   "outputs": [
    {
     "name": "stdout",
     "output_type": "stream",
     "text": [
      "item ['name', 'dist'] ['linux', 'ubuntu']\n",
      "name = linux\n",
      "text = ['\\n            This text about linux\\n        ']\n",
      "item ['name'] ['mac os']\n",
      "name = mac os\n",
      "text = ['\\n            Apple company\\n        ']\n",
      "item ['name', 'dist'] ['windows', 'XP']\n",
      "name = windows\n",
      "text = [None]\n"
     ]
    }
   ],
   "source": [
    "tree = etree.XML(xml)  # Парсинг строки\n",
    "#tree = etree.parse('1.xml') # Парсинг файла\n",
    "\n",
    "nodes = tree.xpath('/soft/os/item')  # Открываем раздел\n",
    "for node in nodes:  # Перебираем элементы\n",
    "    print(node.tag, node.keys(), node.values())\n",
    "    print('name =', node.get('name'))  # Выводим параметр name\n",
    "    print('text =', [node.text])  # Выводим текст элемента"
   ]
  },
  {
   "cell_type": "code",
   "execution_count": 8,
   "metadata": {
    "ExecuteTime": {
     "end_time": "2023-06-13T19:21:04.544180600Z",
     "start_time": "2023-06-13T19:21:04.530805500Z"
    },
    "collapsed": false
   },
   "outputs": [
    {
     "name": "stdout",
     "output_type": "stream",
     "text": [
      "text1 ['\\n            This text about linux\\n        ']\n",
      "text2 ['\\n            Apple company\\n        ']\n",
      "dist ubuntu\n",
      "dist by key XP\n",
      "iterfind:\n",
      "linux\n",
      "mac os\n",
      "windows\n",
      "recursiely:\n",
      "soft []\n",
      "os []\n",
      "item ['name', 'dist']\n",
      "item ['name']\n",
      "item ['name', 'dist']\n"
     ]
    }
   ],
   "source": [
    "# Доступ к тексту напрямую, с указанием фильтра\n",
    "print('text1',tree.xpath('/soft/os/item[@name=\"linux\"]/text()'))\n",
    "print('text2',tree.xpath('/soft/os/item[2]/text()'))\n",
    "# Доступ к параметру напрямую\n",
    "print('dist',tree.xpath('/soft/os/item[@name=\"linux\"]')[0].get('dist'))\n",
    "# Выборка по ключу\n",
    "print('dist by key',tree.xpath('//*[@name=\"windows\"]')[0].get('dist'))\n",
    "\n",
    "print('iterfind:')\n",
    "for node in tree.iterfind('.//item'): # поиск элементов\n",
    "    print(node.get('name'))\n",
    "\n",
    "# Рекурсивный перебор элементов\n",
    "print('recursiely:')\n",
    "def getn(node):\n",
    "    print(node.tag,node.keys())\n",
    "    for n in node:\n",
    "        getn(n)\n",
    "getn(tree.getroottree().getroot())"
   ]
  },
  {
   "attachments": {},
   "cell_type": "markdown",
   "metadata": {
    "collapsed": false
   },
   "source": [
    "# Генерация XML"
   ]
  },
  {
   "cell_type": "code",
   "execution_count": 9,
   "metadata": {
    "ExecuteTime": {
     "end_time": "2023-06-13T19:25:18.131643100Z",
     "start_time": "2023-06-13T19:25:18.125002Z"
    },
    "collapsed": false
   },
   "outputs": [
    {
     "name": "stdout",
     "output_type": "stream",
     "text": [
      "b'<html><head><title>Your page title here</title><link rel=\"stylesheet\" href=\"mystyle.css\" type=\"text/css\"/></head><body/></html>'\n"
     ]
    }
   ],
   "source": [
    "# Создание корневого элемента html\n",
    "page = etree.Element('html')\n",
    "\n",
    "# Добавление двух дочерних элементов - <head> и <body>\n",
    "headElt = etree.SubElement(page, 'head')\n",
    "bodyElt = etree.SubElement(page, 'body')\n",
    "\n",
    "# Пример: добавление элемента <title>Your page title here</title>\n",
    "title = etree.SubElement(headElt, 'title')\n",
    "title.text = 'Your page title here'\n",
    "\n",
    "# Пример: добавление элемента <link rel='stylesheet' href='mystyle.css' type='text/css'>\n",
    "linkElt = etree.SubElement(headElt, 'link', rel='stylesheet',\n",
    "    href='mystyle.css', type='text/css')\n",
    "\n",
    "# Создание и сохранение документа\n",
    "\n",
    "print(etree.tostring(page))"
   ]
  }
 ],
 "metadata": {
  "kernelspec": {
   "display_name": "Python 3",
   "language": "python",
   "name": "python3"
  },
  "language_info": {
   "codemirror_mode": {
    "name": "ipython",
    "version": 3
   },
   "file_extension": ".py",
   "mimetype": "text/x-python",
   "name": "python",
   "nbconvert_exporter": "python",
   "pygments_lexer": "ipython3",
   "version": "3.11.2"
  }
 },
 "nbformat": 4,
 "nbformat_minor": 0
}
