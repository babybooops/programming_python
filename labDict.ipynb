{
 "cells": [
  {
   "attachments": {},
   "cell_type": "markdown",
   "metadata": {},
   "source": [
    "# Словарь (dict)\n",
    "\n",
    "Словарь - упорядоченная структура данных, которая хранит \"ключ - значение\" (ключ уникальный)\n",
    "Ключ - это неизменяемый объект"
   ]
  },
  {
   "cell_type": "code",
   "execution_count": 1,
   "metadata": {},
   "outputs": [
    {
     "data": {
      "text/plain": [
       "{'key1': 'value1', 'key2': 'value2', 'key3': 'value3'}"
      ]
     },
     "execution_count": 1,
     "metadata": {},
     "output_type": "execute_result"
    }
   ],
   "source": [
    "v = dict()\n",
    "{'key1':'value1', 'key2':'value2', 'key3':'value3'}\n"
   ]
  },
  {
   "cell_type": "code",
   "execution_count": 2,
   "metadata": {},
   "outputs": [
    {
     "data": {
      "text/plain": [
       "{'key1': 'value1', 'key2': 'value2', 'key3': 'value3'}"
      ]
     },
     "execution_count": 2,
     "metadata": {},
     "output_type": "execute_result"
    }
   ],
   "source": [
    "dict(key1 = 'value1', key2 = 'value2', key3 ='value3')"
   ]
  },
  {
   "cell_type": "code",
   "execution_count": 4,
   "metadata": {},
   "outputs": [
    {
     "data": {
      "text/plain": [
       "{'key1': 'value1', 'key2': 'value2', 'key3': 'value3'}"
      ]
     },
     "execution_count": 4,
     "metadata": {},
     "output_type": "execute_result"
    }
   ],
   "source": [
    "dict([('key1', 'value1'), ('key2', 'value2'), ('key3', 'value3')])"
   ]
  },
  {
   "cell_type": "code",
   "execution_count": 5,
   "metadata": {},
   "outputs": [
    {
     "data": {
      "text/plain": [
       "{'key1': 'value1', 'key2': 'value2', 'key3': 'value3'}"
      ]
     },
     "execution_count": 5,
     "metadata": {},
     "output_type": "execute_result"
    }
   ],
   "source": [
    "keys = ['key1', 'key2', 'key3']\n",
    "values = ['value1', 'value2', 'value3']\n",
    "dict(zip(keys, values))"
   ]
  },
  {
   "cell_type": "code",
   "execution_count": 8,
   "metadata": {},
   "outputs": [
    {
     "data": {
      "text/plain": [
       "{77: 'Moscow', 97: 'Moscow', 99: 'Moscow', 177: 'Moscow', 777: 'Moscow'}"
      ]
     },
     "execution_count": 8,
     "metadata": {},
     "output_type": "execute_result"
    }
   ],
   "source": [
    "dict.fromkeys((77, 97, 99, 177, 777), \"Moscow\")"
   ]
  },
  {
   "cell_type": "code",
   "execution_count": 9,
   "metadata": {},
   "outputs": [
    {
     "data": {
      "text/plain": [
       "{'city': 'город', 'book': 'книга', 'cat': 'кот'}"
      ]
     },
     "execution_count": 9,
     "metadata": {},
     "output_type": "execute_result"
    }
   ],
   "source": [
    "en_to_ru = {\n",
    "    \"city\":\"город\",\n",
    "    \"book\":\"книга\",\n",
    "    \"cat\":\"кот\"\n",
    "}\n",
    "\n",
    "en_to_ru"
   ]
  },
  {
   "cell_type": "code",
   "execution_count": 11,
   "metadata": {},
   "outputs": [
    {
     "name": "stdout",
     "output_type": "stream",
     "text": [
      "книга\n",
      "кот\n"
     ]
    }
   ],
   "source": [
    "print(en_to_ru['book'])\n",
    "print(en_to_ru.get('cat'))"
   ]
  },
  {
   "cell_type": "code",
   "execution_count": 12,
   "metadata": {},
   "outputs": [
    {
     "data": {
      "text/plain": [
       "['city', 'book', 'cat']"
      ]
     },
     "execution_count": 12,
     "metadata": {},
     "output_type": "execute_result"
    }
   ],
   "source": [
    "list(en_to_ru)"
   ]
  },
  {
   "cell_type": "code",
   "execution_count": 13,
   "metadata": {},
   "outputs": [
    {
     "data": {
      "text/plain": [
       "dict_keys(['city', 'book', 'cat'])"
      ]
     },
     "execution_count": 13,
     "metadata": {},
     "output_type": "execute_result"
    }
   ],
   "source": [
    "en_to_ru.keys()"
   ]
  },
  {
   "cell_type": "code",
   "execution_count": 14,
   "metadata": {},
   "outputs": [
    {
     "data": {
      "text/plain": [
       "dict_values(['город', 'книга', 'кот'])"
      ]
     },
     "execution_count": 14,
     "metadata": {},
     "output_type": "execute_result"
    }
   ],
   "source": [
    "en_to_ru.values()"
   ]
  },
  {
   "cell_type": "code",
   "execution_count": 15,
   "metadata": {},
   "outputs": [
    {
     "name": "stdout",
     "output_type": "stream",
     "text": [
      "city\n",
      "book\n",
      "cat\n"
     ]
    }
   ],
   "source": [
    "for key in en_to_ru.keys():\n",
    "    print(key)"
   ]
  },
  {
   "cell_type": "code",
   "execution_count": 16,
   "metadata": {},
   "outputs": [
    {
     "name": "stdout",
     "output_type": "stream",
     "text": [
      "город\n",
      "книга\n",
      "кот\n"
     ]
    }
   ],
   "source": [
    "for value in en_to_ru.values():\n",
    "    print(value)"
   ]
  },
  {
   "cell_type": "code",
   "execution_count": 19,
   "metadata": {},
   "outputs": [
    {
     "name": "stdout",
     "output_type": "stream",
     "text": [
      "city = город\n",
      "book = книга\n",
      "cat = кот\n"
     ]
    }
   ],
   "source": [
    "for key, value in en_to_ru.items():\n",
    "    print(f\"{key} = {value}\")"
   ]
  },
  {
   "cell_type": "code",
   "execution_count": 20,
   "metadata": {},
   "outputs": [
    {
     "name": "stdout",
     "output_type": "stream",
     "text": [
      "True\n",
      "True\n",
      "True\n"
     ]
    }
   ],
   "source": [
    "print('cat' in en_to_ru)\n",
    "print('кот' in en_to_ru.values())\n",
    "print(('cat', 'кот') in en_to_ru.items())"
   ]
  },
  {
   "cell_type": "code",
   "execution_count": 24,
   "metadata": {},
   "outputs": [
    {
     "name": "stdout",
     "output_type": "stream",
     "text": [
      "{'city': 'город', 'book': 'книга', 'cat': 'кот', 'dog': 'собака'}\n",
      "{'city': 'город', 'book': 'книга', 'cat': 'кошка', 'dog': 'собака'}\n",
      "{'city': 'город', 'book': 'книга', 'cat': 'кот', 'dog': 'собака'}\n",
      "{'city': 'город', 'cat': 'кот', 'dog': 'собака'}\n"
     ]
    }
   ],
   "source": [
    "# добавление\n",
    "en_to_ru['dog'] = 'собака'\n",
    "print(en_to_ru)\n",
    "#изменять\n",
    "en_to_ru['cat'] = 'кошка'\n",
    "print(en_to_ru)\n",
    "en_to_ru.update(cat = \"кот\")\n",
    "print(en_to_ru)\n",
    "# удалить\n",
    "del en_to_ru['book']\n",
    "print(en_to_ru)"
   ]
  },
  {
   "cell_type": "code",
   "execution_count": 26,
   "metadata": {},
   "outputs": [
    {
     "name": "stdout",
     "output_type": "stream",
     "text": [
      "('q', '1', 10)\n",
      "('w', '2', 11)\n",
      "('e', '3', 12)\n"
     ]
    }
   ],
   "source": [
    "for i in zip(\"qwerty\", \"123\", range(10, 20)):\n",
    "    print(i)"
   ]
  }
 ],
 "metadata": {
  "kernelspec": {
   "display_name": "Python 3",
   "language": "python",
   "name": "python3"
  },
  "language_info": {
   "codemirror_mode": {
    "name": "ipython",
    "version": 3
   },
   "file_extension": ".py",
   "mimetype": "text/x-python",
   "name": "python",
   "nbconvert_exporter": "python",
   "pygments_lexer": "ipython3",
   "version": "3.11.2"
  },
  "orig_nbformat": 4
 },
 "nbformat": 4,
 "nbformat_minor": 2
}
