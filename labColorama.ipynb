{
 "cells": [
  {
   "attachments": {},
   "cell_type": "markdown",
   "metadata": {},
   "source": [
    "# Colorama"
   ]
  },
  {
   "cell_type": "code",
   "execution_count": 1,
   "metadata": {},
   "outputs": [],
   "source": [
    "import colorama"
   ]
  },
  {
   "cell_type": "code",
   "execution_count": 2,
   "metadata": {},
   "outputs": [],
   "source": [
    "from colorama import Style, Back, Fore"
   ]
  },
  {
   "cell_type": "code",
   "execution_count": 3,
   "metadata": {},
   "outputs": [
    {
     "name": "stdout",
     "output_type": "stream",
     "text": [
      "Hello\n",
      "\u001b[32mHello\n",
      "Hello\n"
     ]
    }
   ],
   "source": [
    "print(\"Hello\")\n",
    "print(Fore.GREEN + \"Hello\")\n",
    "print(\"Hello\")"
   ]
  },
  {
   "cell_type": "code",
   "execution_count": 4,
   "metadata": {},
   "outputs": [
    {
     "name": "stdout",
     "output_type": "stream",
     "text": [
      "Hello\n",
      "\u001b[22m\u001b[43m\u001b[32mHello\n",
      "Hello\n"
     ]
    }
   ],
   "source": [
    "print(\"Hello\")\n",
    "print(Style.NORMAL + Back.YELLOW + Fore.GREEN + \"Hello\")\n",
    "print(\"Hello\")"
   ]
  },
  {
   "cell_type": "code",
   "execution_count": 1,
   "metadata": {},
   "outputs": [
    {
     "name": "stdout",
     "output_type": "stream",
     "text": [
      "\u001b[2;30;40m40:30 \u001b[2;31;40m40:31 \u001b[2;32;40m40:32 \u001b[2;33;40m40:33 \u001b[2;34;40m40:34 \u001b[2;35;40m40:35 \u001b[2;36;40m40:36 \u001b[2;37;40m40:37 \n",
      "\u001b[2;30;41m41:30 \u001b[2;31;41m41:31 \u001b[2;32;41m41:32 \u001b[2;33;41m41:33 \u001b[2;34;41m41:34 \u001b[2;35;41m41:35 \u001b[2;36;41m41:36 \u001b[2;37;41m41:37 \n",
      "\u001b[2;30;42m42:30 \u001b[2;31;42m42:31 \u001b[2;32;42m42:32 \u001b[2;33;42m42:33 \u001b[2;34;42m42:34 \u001b[2;35;42m42:35 \u001b[2;36;42m42:36 \u001b[2;37;42m42:37 \n",
      "\u001b[2;30;43m43:30 \u001b[2;31;43m43:31 \u001b[2;32;43m43:32 \u001b[2;33;43m43:33 \u001b[2;34;43m43:34 \u001b[2;35;43m43:35 \u001b[2;36;43m43:36 \u001b[2;37;43m43:37 \n",
      "\u001b[2;30;44m44:30 \u001b[2;31;44m44:31 \u001b[2;32;44m44:32 \u001b[2;33;44m44:33 \u001b[2;34;44m44:34 \u001b[2;35;44m44:35 \u001b[2;36;44m44:36 \u001b[2;37;44m44:37 \n",
      "\u001b[2;30;45m45:30 \u001b[2;31;45m45:31 \u001b[2;32;45m45:32 \u001b[2;33;45m45:33 \u001b[2;34;45m45:34 \u001b[2;35;45m45:35 \u001b[2;36;45m45:36 \u001b[2;37;45m45:37 \n",
      "\u001b[2;30;46m46:30 \u001b[2;31;46m46:31 \u001b[2;32;46m46:32 \u001b[2;33;46m46:33 \u001b[2;34;46m46:34 \u001b[2;35;46m46:35 \u001b[2;36;46m46:36 \u001b[2;37;46m46:37 \n",
      "\u001b[2;30;47m47:30 \u001b[2;31;47m47:31 \u001b[2;32;47m47:32 \u001b[2;33;47m47:33 \u001b[2;34;47m47:34 \u001b[2;35;47m47:35 \u001b[2;36;47m47:36 \u001b[2;37;47m47:37 \n"
     ]
    }
   ],
   "source": [
    "\n",
    "for i in range(40, 48):\n",
    "    for n in range(30, 38):\n",
    "        print(f\"\\033[2;{n};{i}m{i}:{n}\", end=' ')\n",
    "    print()"
   ]
  }
 ],
 "metadata": {
  "kernelspec": {
   "display_name": "Python 3",
   "language": "python",
   "name": "python3"
  },
  "language_info": {
   "codemirror_mode": {
    "name": "ipython",
    "version": 3
   },
   "file_extension": ".py",
   "mimetype": "text/x-python",
   "name": "python",
   "nbconvert_exporter": "python",
   "pygments_lexer": "ipython3",
   "version": "3.11.2"
  },
  "orig_nbformat": 4,
  "vscode": {
   "interpreter": {
    "hash": "1f6a27bcfbe46a917dbd192f4a82657396dda26148bae633192e8d28c70725f1"
   }
  }
 },
 "nbformat": 4,
 "nbformat_minor": 2
}
