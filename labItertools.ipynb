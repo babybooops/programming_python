{
 "cells": [
  {
   "attachments": {},
   "cell_type": "markdown",
   "metadata": {},
   "source": [
    "# Сборник итераторов"
   ]
  },
  {
   "cell_type": "code",
   "execution_count": 2,
   "metadata": {},
   "outputs": [],
   "source": [
    "import itertools"
   ]
  },
  {
   "attachments": {},
   "cell_type": "markdown",
   "metadata": {},
   "source": [
    "## Бесконечные итераторы"
   ]
  },
  {
   "cell_type": "code",
   "execution_count": 7,
   "metadata": {},
   "outputs": [
    {
     "name": "stdout",
     "output_type": "stream",
     "text": [
      "10 11 12 13 14 15 16 17 18 19 20 21 22 23 24 25 26 27 28 29 "
     ]
    }
   ],
   "source": [
    "for i in itertools.count(10):\n",
    "    if i >= 30:\n",
    "        break\n",
    "    print(i, end=' ')"
   ]
  },
  {
   "cell_type": "code",
   "execution_count": 9,
   "metadata": {},
   "outputs": [
    {
     "name": "stdout",
     "output_type": "stream",
     "text": [
      "A B C D A B C D A B C D A B C D A B C D "
     ]
    }
   ],
   "source": [
    "n = 0\n",
    "for i in itertools.cycle(\"ABCD\"):\n",
    "    if n >= 20:\n",
    "        break\n",
    "    print(i, end=' ')\n",
    "    n += 1"
   ]
  },
  {
   "cell_type": "code",
   "execution_count": 13,
   "metadata": {},
   "outputs": [
    {
     "name": "stdout",
     "output_type": "stream",
     "text": [
      "A B C D A B C D A B C D A B C D A B C D "
     ]
    }
   ],
   "source": [
    "def my_cycle(iterable):\n",
    "    saved = []\n",
    "    for element in iterable:\n",
    "        yield element\n",
    "        saved.append(element)\n",
    "    while saved:\n",
    "        for element in saved:\n",
    "            yield element\n",
    "\n",
    "my_cycle(\"ABCD\")\n",
    "n = 0\n",
    "for i in my_cycle(\"ABCD\"):\n",
    "    if n >= 20:\n",
    "        break\n",
    "    print(i, end=' ')\n",
    "    n += 1"
   ]
  }
 ],
 "metadata": {
  "kernelspec": {
   "display_name": "Python 3",
   "language": "python",
   "name": "python3"
  },
  "language_info": {
   "codemirror_mode": {
    "name": "ipython",
    "version": 3
   },
   "file_extension": ".py",
   "mimetype": "text/x-python",
   "name": "python",
   "nbconvert_exporter": "python",
   "pygments_lexer": "ipython3",
   "version": "3.11.2"
  },
  "orig_nbformat": 4,
  "vscode": {
   "interpreter": {
    "hash": "1f6a27bcfbe46a917dbd192f4a82657396dda26148bae633192e8d28c70725f1"
   }
  }
 },
 "nbformat": 4,
 "nbformat_minor": 2
}
