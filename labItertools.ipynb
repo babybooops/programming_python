{
 "cells": [
  {
   "attachments": {},
   "cell_type": "markdown",
   "metadata": {},
   "source": [
    "# Сборник итераторов"
   ]
  },
  {
   "cell_type": "code",
   "execution_count": 2,
   "metadata": {},
   "outputs": [],
   "source": [
    "import itertools"
   ]
  },
  {
   "attachments": {},
   "cell_type": "markdown",
   "metadata": {},
   "source": [
    "## Бесконечные итераторы"
   ]
  },
  {
   "cell_type": "code",
   "execution_count": 3,
   "metadata": {},
   "outputs": [
    {
     "name": "stdout",
     "output_type": "stream",
     "text": [
      "10 11 12 13 14 15 16 17 18 19 20 21 22 23 24 25 26 27 28 29 "
     ]
    }
   ],
   "source": [
    "for i in itertools.count(10):\n",
    "    if i >= 30:\n",
    "        break\n",
    "    print(i, end=' ')"
   ]
  },
  {
   "cell_type": "code",
   "execution_count": 4,
   "metadata": {},
   "outputs": [
    {
     "name": "stdout",
     "output_type": "stream",
     "text": [
      "A B C D A B C D A B C D A B C D A B C D "
     ]
    }
   ],
   "source": [
    "n = 0\n",
    "for i in itertools.cycle(\"ABCD\"):\n",
    "    if n >= 20:\n",
    "        break\n",
    "    print(i, end=' ')\n",
    "    n += 1"
   ]
  },
  {
   "cell_type": "code",
   "execution_count": 5,
   "metadata": {},
   "outputs": [
    {
     "name": "stdout",
     "output_type": "stream",
     "text": [
      "A B C D A B C D A B C D A B C D A B C D "
     ]
    }
   ],
   "source": [
    "def my_cycle(iterable):\n",
    "    saved = []\n",
    "    for element in iterable:\n",
    "        yield element\n",
    "        saved.append(element)\n",
    "    while saved:\n",
    "        for element in saved:\n",
    "            yield element\n",
    "\n",
    "my_cycle(\"ABCD\")\n",
    "n = 0\n",
    "for i in my_cycle(\"ABCD\"):\n",
    "    if n >= 20:\n",
    "        break\n",
    "    print(i, end=' ')\n",
    "    n += 1"
   ]
  },
  {
   "attachments": {},
   "cell_type": "markdown",
   "metadata": {},
   "source": [
    "# HW \n",
    "- самостоятельно изучить документацию по itertools\n",
    "- создать различные примеры с итераторами (минимум 10 )"
   ]
  },
  {
   "attachments": {},
   "cell_type": "markdown",
   "metadata": {},
   "source": [
    "##  1. repeat(): \n",
    "Создает итератор, который возвращает объект снова и снова. Выполняется бесконечно, если не указано значение аргумента times."
   ]
  },
  {
   "cell_type": "code",
   "execution_count": 6,
   "metadata": {},
   "outputs": [
    {
     "name": "stdout",
     "output_type": "stream",
     "text": [
      "[1, 2, 3] [1, 2, 3] [1, 2, 3] [1, 2, 3] [1, 2, 3] [1, 2, 3] [1, 2, 3] [1, 2, 3] [1, 2, 3] "
     ]
    }
   ],
   "source": [
    "repeat = itertools.repeat([1,2,3], times = 9)\n",
    "for i in repeat:\n",
    "    print (i, end=\" \")"
   ]
  },
  {
   "attachments": {},
   "cell_type": "markdown",
   "metadata": {},
   "source": [
    "## 2. chain():\n",
    "\n",
    "Создает итератор, который возвращает элемент из итерируемого объекта до тех пор, пока он не закончится, а потом переходит к следующему. Он будет рассматривать последовательности, идущие друг за другом, как одну. "
   ]
  },
  {
   "cell_type": "code",
   "execution_count": 7,
   "metadata": {},
   "outputs": [
    {
     "name": "stdout",
     "output_type": "stream",
     "text": [
      "<itertools.chain object at 0x000001D963FA7D60>\n",
      "['red', 'blue', 1, 2, 3, 'h', 'e', 'l', 'l', 'o']\n"
     ]
    }
   ],
   "source": [
    "chain = itertools.chain([\"red\",\"blue\"],[1,2,3],\"hello\")\n",
    "print (chain)\n",
    "print(list(chain))"
   ]
  },
  {
   "attachments": {},
   "cell_type": "markdown",
   "metadata": {},
   "source": [
    "## 3. chain.from_iterable()\n",
    "\n",
    "Эта функция берет один итерируемый объект в качестве входного аргумента и возвращает «склеенный» итерируемый объект, содержащий все элементы входного."
   ]
  },
  {
   "cell_type": "code",
   "execution_count": 8,
   "metadata": {},
   "outputs": [
    {
     "name": "stdout",
     "output_type": "stream",
     "text": [
      "['r', 'e', 'd', 'B', 'L', 'U', 'E', '1', '2', '3']\n"
     ]
    }
   ],
   "source": [
    "import itertools\n",
    "chain_iterable = itertools.chain.from_iterable([\"red\",\"BLUE\",\"123\"])\n",
    "print (list(chain_iterable))"
   ]
  },
  {
   "attachments": {},
   "cell_type": "markdown",
   "metadata": {},
   "source": [
    "## 4. compress()\n",
    "\n",
    "Создает итератор, который фильтрует элементы data, возвращая только те, которые содержат соответствующий элемент в селекторах (selectors), стоящих в True. Прекращает выполнение, когда либо данные, либо селекторы закончились. "
   ]
  },
  {
   "cell_type": "code",
   "execution_count": 9,
   "metadata": {},
   "outputs": [
    {
     "name": "stdout",
     "output_type": "stream",
     "text": [
      "[1, 2, 3]\n"
     ]
    }
   ],
   "source": [
    "import itertools\n",
    "selectors = [True, True, True, False]\n",
    "compress = itertools.compress([1,2,3,4], selectors)\n",
    "print (list(compress))"
   ]
  },
  {
   "attachments": {},
   "cell_type": "markdown",
   "metadata": {},
   "source": [
    "## 5. dropwhile()\n",
    "\n",
    "Создает итератор, который выбрасывает элементы из итерируемого объекта до тех пор, пока предикат (predicate) имеет значение True, а затем возвращает каждый элемент. Итератор не вернет выходных данных, пока предикат не получит значение False."
   ]
  },
  {
   "cell_type": "code",
   "execution_count": 10,
   "metadata": {},
   "outputs": [
    {
     "name": "stdout",
     "output_type": "stream",
     "text": [
      "[1, 2, 3]\n"
     ]
    }
   ],
   "source": [
    "dropwhile = itertools.dropwhile(lambda x: x > 4, [5, 6, 7, 8, 9, 1, 2, 3])\n",
    "print (list(dropwhile))#Output:[1, 2, 3]"
   ]
  },
  {
   "attachments": {},
   "cell_type": "markdown",
   "metadata": {},
   "source": [
    "## 6. takewhile()\n",
    "\n",
    "Создает итератор, который возвращает элементы из итерируемого объекта до тех пор, пока предикат имеет значение True."
   ]
  },
  {
   "cell_type": "code",
   "execution_count": 11,
   "metadata": {},
   "outputs": [
    {
     "name": "stdout",
     "output_type": "stream",
     "text": [
      "[5, 6, 7, 8, 9]\n"
     ]
    }
   ],
   "source": [
    "takewhile = itertools.takewhile(lambda x: x > 4, [5, 6, 7, 8, 9, 1, 2, 3])\n",
    "print (list(takewhile))\n"
   ]
  },
  {
   "attachments": {},
   "cell_type": "markdown",
   "metadata": {},
   "source": [
    "## 7. zip_longest()\n",
    "\n",
    "Создает итератор, который агрегирует элементы из каждого итерируемого объекта. Если итераторы имеют неравномерную длину, то на место пропущенных значений ставится fillvalue. Итерация будет продолжаться до тех пор, пока не закончится самый длинный итерируемый объект."
   ]
  },
  {
   "cell_type": "code",
   "execution_count": 12,
   "metadata": {},
   "outputs": [
    {
     "name": "stdout",
     "output_type": "stream",
     "text": [
      "[(1, 'aaa'), (2, '123'), (3, 'ABC'), (4, 'red'), (5, None)]\n"
     ]
    }
   ],
   "source": [
    "zip_longest = itertools.zip_longest([1,2,3,4,5],['aaa','123','ABC', 'red'])\n",
    "print (list(zip_longest))\n"
   ]
  },
  {
   "attachments": {},
   "cell_type": "markdown",
   "metadata": {},
   "source": [
    "## 8. tee()\n",
    "\n",
    "Возвращает n независимых итераторов из одного итерируемого объекта."
   ]
  },
  {
   "cell_type": "code",
   "execution_count": 17,
   "metadata": {},
   "outputs": [
    {
     "name": "stdout",
     "output_type": "stream",
     "text": [
      "[1, 2, 'fff', 'ASD', 'hello']\n",
      "[1, 2, 'fff', 'ASD', 'hello']\n",
      "[1, 2, 'fff', 'ASD', 'hello']\n",
      "[1, 2, 'fff', 'ASD', 'hello']\n",
      "[1, 2, 'fff', 'ASD', 'hello']\n",
      "[1, 2, 'fff', 'ASD', 'hello']\n"
     ]
    }
   ],
   "source": [
    "data = [1, 2, 'fff', 'ASD', \"hello\"]\n",
    "tee = itertools.tee(data, 6)\n",
    "for i in tee:\n",
    "    print (list(i))"
   ]
  },
  {
   "attachments": {},
   "cell_type": "markdown",
   "metadata": {},
   "source": [
    "## 9. groupby():\n",
    "\n",
    "Создает итератор, который возвращает последовательно ключи и группы из итерируемого объекта.\n",
    "\n",
    "key – это функция, вычисляющая значение ключа для каждого элемента по умолчанию. Если ключ не указан или в значении None, то по умолчанию ключ является функцией идентификации, которая возвращает элемент без изменений. "
   ]
  },
  {
   "cell_type": "code",
   "execution_count": 25,
   "metadata": {},
   "outputs": [
    {
     "name": "stdout",
     "output_type": "stream",
     "text": [
      "{'color': [('color', 'red'), ('color', 'blue'), ('color', 'green')]}\n",
      "{'Numbers': [('Numbers', 1), ('Numbers', 0)]}\n"
     ]
    }
   ],
   "source": [
    "data = [('color','red'),('color','blue'),('color','green'),('Numbers', 1),('Numbers', 0)]\n",
    "groups = itertools.groupby(data, key=lambda x:x[0])\n",
    "for key, group in groups:\n",
    "    result = {key:list(group)}\n",
    "    print (result)"
   ]
  },
  {
   "attachments": {},
   "cell_type": "markdown",
   "metadata": {},
   "source": [
    "## 10. product()\n",
    "\n",
    "Декартово произведение итерируемых объектов, подаваемых на вход."
   ]
  },
  {
   "cell_type": "code",
   "execution_count": 26,
   "metadata": {},
   "outputs": [
    {
     "name": "stdout",
     "output_type": "stream",
     "text": [
      "[('A', 1), ('A', 2), ('B', 1), ('B', 2), ('C', 1), ('C', 2)]\n",
      "[('x', 'x'), ('x', 'y'), ('y', 'x'), ('y', 'y')]\n"
     ]
    }
   ],
   "source": [
    "ex_1 = itertools.product(\"ABC\", [1,2])\n",
    "print (list(ex_1))\n",
    "\n",
    "ex_2 = itertools.product(\"xy\", repeat = 2)\n",
    "print (list(ex_2))"
   ]
  }
 ],
 "metadata": {
  "kernelspec": {
   "display_name": "Python 3",
   "language": "python",
   "name": "python3"
  },
  "language_info": {
   "codemirror_mode": {
    "name": "ipython",
    "version": 3
   },
   "file_extension": ".py",
   "mimetype": "text/x-python",
   "name": "python",
   "nbconvert_exporter": "python",
   "pygments_lexer": "ipython3",
   "version": "3.11.2"
  },
  "orig_nbformat": 4,
  "vscode": {
   "interpreter": {
    "hash": "1f6a27bcfbe46a917dbd192f4a82657396dda26148bae633192e8d28c70725f1"
   }
  }
 },
 "nbformat": 4,
 "nbformat_minor": 2
}
