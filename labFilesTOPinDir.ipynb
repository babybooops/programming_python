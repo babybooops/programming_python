{
 "cells": [
  {
   "attachments": {},
   "cell_type": "markdown",
   "metadata": {},
   "source": [
    "# Homework"
   ]
  },
  {
   "cell_type": "code",
   "execution_count": 24,
   "metadata": {},
   "outputs": [],
   "source": [
    "import os\n",
    "from pathlib import Path"
   ]
  },
  {
   "attachments": {},
   "cell_type": "markdown",
   "metadata": {},
   "source": [
    "# - показать ТОП самых больших файлов (по размеру)"
   ]
  },
  {
   "cell_type": "code",
   "execution_count": 3,
   "metadata": {},
   "outputs": [
    {
     "name": "stdout",
     "output_type": "stream",
     "text": [
      "(12288, 'temp_SQLite.db')\n",
      "(8720, 'temp_SQLite.db-journal')\n",
      "(2870, 'temp_TXT_poem_utf8.txt')\n",
      "(1619, 'temp_TXT.txt')\n",
      "(900, 'temp_cities_bryansk')\n",
      "(85, 'temp_JSON_2.json')\n",
      "(85, 'temp_JSON.json')\n",
      "(0, 'temp_csv.csv')\n"
     ]
    }
   ],
   "source": [
    "directory = './temp'\n",
    "size = 0\n",
    "max_size = 0\n",
    "max_file =\"\"\n",
    "files = {}\n",
    "for filename in os.listdir(directory):\n",
    "    f = os.path.join(directory, filename)\n",
    "    size = os.stat(os.path.join(directory, filename)).st_size\n",
    "    file_name = os.path.join(filename)\n",
    "    files[file_name] = size\n",
    "sorted_dict = sorted([(value, key)\n",
    "for (key, value) in files.items()], reverse=True)\n",
    "print(*sorted_dict, sep = \"\\n\")"
   ]
  },
  {
   "attachments": {},
   "cell_type": "markdown",
   "metadata": {},
   "source": [
    "# - показать ТОП самых маленьких файлов (по размеру)"
   ]
  },
  {
   "cell_type": "code",
   "execution_count": 4,
   "metadata": {},
   "outputs": [
    {
     "name": "stdout",
     "output_type": "stream",
     "text": [
      "(0, 'temp_csv.csv')\n",
      "(85, 'temp_JSON.json')\n",
      "(85, 'temp_JSON_2.json')\n",
      "(900, 'temp_cities_bryansk')\n",
      "(1619, 'temp_TXT.txt')\n",
      "(2870, 'temp_TXT_poem_utf8.txt')\n",
      "(8720, 'temp_SQLite.db-journal')\n",
      "(12288, 'temp_SQLite.db')\n"
     ]
    }
   ],
   "source": [
    "directory = './temp'\n",
    "size = 0\n",
    "max_size = 0\n",
    "max_file =\"\"\n",
    "files = {}\n",
    "for filename in os.listdir(directory):\n",
    "    f = os.path.join(directory, filename)\n",
    "    size = os.stat(os.path.join(directory, filename)).st_size\n",
    "    file_name = os.path.join(filename)\n",
    "    files[file_name] = size\n",
    "sorted_dict = sorted([(value, key)\n",
    "for (key, value) in files.items()])\n",
    "print(*sorted_dict, sep = \"\\n\")"
   ]
  },
  {
   "attachments": {},
   "cell_type": "markdown",
   "metadata": {},
   "source": [
    "#   - показать ТОП самых коротких имён файлов"
   ]
  },
  {
   "cell_type": "code",
   "execution_count": 5,
   "metadata": {},
   "outputs": [
    {
     "name": "stdout",
     "output_type": "stream",
     "text": [
      "(8, 'temp_TXT')\n",
      "(8, 'temp_csv')\n",
      "(9, 'temp_JSON')\n",
      "(11, 'temp_JSON_2')\n",
      "(11, 'temp_SQLite')\n",
      "(18, 'temp_TXT_poem_utf8')\n",
      "(19, 'temp_cities_bryansk')\n"
     ]
    }
   ],
   "source": [
    "directory = './temp'\n",
    "size = 0\n",
    "max_size = 0\n",
    "max_file =\"\"\n",
    "files = {}\n",
    "for filename in os.listdir(directory):\n",
    "    f = os.path.join(directory, filename)\n",
    "    file_name = os.path.join(filename)\n",
    "    file_name_size = len(file_name.split(\".\")[0])\n",
    "    files[file_name.split(\".\")[0]] = file_name_size\n",
    "sorted_dict = sorted([(value, key)\n",
    "for (key, value) in files.items()])\n",
    "print(*sorted_dict, sep = \"\\n\")"
   ]
  },
  {
   "attachments": {},
   "cell_type": "markdown",
   "metadata": {},
   "source": [
    " # - показать ТОП самых длинных имён файлов\n"
   ]
  },
  {
   "cell_type": "code",
   "execution_count": 6,
   "metadata": {},
   "outputs": [
    {
     "name": "stdout",
     "output_type": "stream",
     "text": [
      "(19, 'temp_cities_bryansk')\n",
      "(18, 'temp_TXT_poem_utf8')\n",
      "(11, 'temp_SQLite')\n",
      "(11, 'temp_JSON_2')\n",
      "(9, 'temp_JSON')\n",
      "(8, 'temp_csv')\n",
      "(8, 'temp_TXT')\n"
     ]
    }
   ],
   "source": [
    "directory = './temp'\n",
    "size = 0\n",
    "max_size = 0\n",
    "max_file =\"\"\n",
    "files = {}\n",
    "for filename in os.listdir(directory):\n",
    "    f = os.path.join(directory, filename)\n",
    "    file_name = os.path.join(filename)\n",
    "    file_name_size = len(file_name.split(\".\")[0])\n",
    "    files[file_name.split(\".\")[0]] = file_name_size\n",
    "sorted_dict = sorted([(value, key)\n",
    "for (key, value) in files.items()], reverse=True)\n",
    "print(*sorted_dict, sep = \"\\n\")"
   ]
  },
  {
   "attachments": {},
   "cell_type": "markdown",
   "metadata": {},
   "source": [
    "#   - показать ТОП самых часто используемых имён файлов и процентов (т.е. название, кол-во, процент)"
   ]
  },
  {
   "cell_type": "code",
   "execution_count": 20,
   "metadata": {},
   "outputs": [
    {
     "name": "stdout",
     "output_type": "stream",
     "text": [
      "(2, 'temp_SQLite')\n",
      "(1, 'temp_csv')\n",
      "(1, 'temp_TXT_poem_utf8')\n",
      "(1, 'temp_TXT')\n",
      "(1, 'temp_JSON_2')\n",
      "(1, 'temp_JSON')\n",
      "0.14 temp_csv\n",
      "0.14 temp_JSON\n",
      "0.14 temp_JSON_2\n",
      "0.29 temp_SQLite\n",
      "0.14 temp_TXT\n",
      "0.14 temp_TXT_poem_utf8\n"
     ]
    }
   ],
   "source": [
    "directory = './temp'\n",
    "size = 0\n",
    "max_size = 0\n",
    "max_file =\"\"\n",
    "files = {}\n",
    "count = 0\n",
    "for filename in os.listdir(directory):\n",
    "    f = os.path.join(directory, filename)\n",
    "    file_name = os.path.join(filename)\n",
    "    if file_name.split(\".\")[0] not in files.keys():\n",
    "        files[file_name.split(\".\")[0]] = 0\n",
    "    files[file_name.split(\".\")[0]] += 1\n",
    "    count += 1\n",
    "sorted_dict = sorted([(value, key)\n",
    "for (key, value) in files.items()], reverse=True)\n",
    "print(*sorted_dict, sep = \"\\n\")\n",
    "for (key, value) in files.items():\n",
    "    print(round(int(value) / count, 2), key)"
   ]
  },
  {
   "attachments": {},
   "cell_type": "markdown",
   "metadata": {},
   "source": [
    "  #   - показать ТОП самых длинных расширений файлов"
   ]
  },
  {
   "cell_type": "code",
   "execution_count": 21,
   "metadata": {},
   "outputs": [
    {
     "name": "stdout",
     "output_type": "stream",
     "text": [
      "(10, 'db-journal')\n",
      "(4, 'json')\n",
      "(3, 'txt')\n",
      "(3, 'csv')\n",
      "(2, 'db')\n"
     ]
    }
   ],
   "source": [
    "directory = './temp'\n",
    "size = 0\n",
    "max_size = 0\n",
    "max_file =\"\"\n",
    "files = {}\n",
    "for filename in os.listdir(directory):\n",
    "    f = os.path.join(directory, filename)\n",
    "    file_name = os.path.join(filename)\n",
    "    file_name_size = len(file_name.split(\".\")[1])\n",
    "    files[file_name.split(\".\")[1]] = file_name_size\n",
    "sorted_dict = sorted([(value, key)\n",
    "for (key, value) in files.items()], reverse=True)\n",
    "print(*sorted_dict, sep = \"\\n\")"
   ]
  },
  {
   "attachments": {},
   "cell_type": "markdown",
   "metadata": {},
   "source": [
    "#   - показать ТОП самых коротких расширений файлов"
   ]
  },
  {
   "cell_type": "code",
   "execution_count": 22,
   "metadata": {},
   "outputs": [
    {
     "name": "stdout",
     "output_type": "stream",
     "text": [
      "(2, 'db')\n",
      "(3, 'csv')\n",
      "(3, 'txt')\n",
      "(4, 'json')\n",
      "(10, 'db-journal')\n"
     ]
    }
   ],
   "source": [
    "directory = './temp'\n",
    "size = 0\n",
    "max_size = 0\n",
    "max_file =\"\"\n",
    "files = {}\n",
    "for filename in os.listdir(directory):\n",
    "    f = os.path.join(directory, filename)\n",
    "    file_name = os.path.join(filename)\n",
    "    file_name_size = len(file_name.split(\".\")[1])\n",
    "    files[file_name.split(\".\")[1]] = file_name_size\n",
    "sorted_dict = sorted([(value, key)\n",
    "for (key, value) in files.items()])\n",
    "print(*sorted_dict, sep = \"\\n\")"
   ]
  },
  {
   "attachments": {},
   "cell_type": "markdown",
   "metadata": {},
   "source": [
    "#   - показать ТОП самых часто используемых расширений файлов и процентов (т.е. расширение, кол-во, процент)"
   ]
  },
  {
   "cell_type": "code",
   "execution_count": 23,
   "metadata": {},
   "outputs": [
    {
     "name": "stdout",
     "output_type": "stream",
     "text": [
      "(1, 'txt')\n",
      "(1, 'json')\n",
      "(1, 'db-journal')\n",
      "(1, 'db')\n",
      "(1, 'csv')\n",
      "0.14 csv\n",
      "0.14 json\n",
      "0.14 db\n",
      "0.14 db-journal\n",
      "0.14 txt\n"
     ]
    }
   ],
   "source": [
    "directory = './temp'\n",
    "size = 0\n",
    "max_size = 0\n",
    "max_file =\"\"\n",
    "files = {}\n",
    "count = 0\n",
    "for filename in os.listdir(directory):\n",
    "    f = os.path.join(directory, filename)\n",
    "    file_name = os.path.join(filename)\n",
    "    if file_name.split(\".\")[0] not in files.keys():\n",
    "        files[file_name.split(\".\")[1]] = 0\n",
    "    files[file_name.split(\".\")[1]] += 1\n",
    "    count += 1\n",
    "sorted_dict = sorted([(value, key)\n",
    "for (key, value) in files.items()], reverse=True)\n",
    "print(*sorted_dict, sep = \"\\n\")\n",
    "for (key, value) in files.items():\n",
    "    print(round(int(value) / count, 2), key)"
   ]
  },
  {
   "attachments": {},
   "cell_type": "markdown",
   "metadata": {},
   "source": [
    "#   - показать ТОП самых длинных полных путей к файлам"
   ]
  },
  {
   "cell_type": "code",
   "execution_count": 33,
   "metadata": {},
   "outputs": [
    {
     "name": "stdout",
     "output_type": "stream",
     "text": [
      "(39, 'C:\\\\Users\\\\HP\\\\temp\\\\temp_TXT_poem_utf8.txt')\n",
      "(39, 'C:\\\\Users\\\\HP\\\\temp\\\\temp_SQLite.db-journal')\n",
      "(33, 'C:\\\\Users\\\\HP\\\\temp\\\\temp_JSON_2.json')\n",
      "(31, 'C:\\\\Users\\\\HP\\\\temp\\\\temp_SQLite.db')\n",
      "(31, 'C:\\\\Users\\\\HP\\\\temp\\\\temp_JSON.json')\n",
      "(29, 'C:\\\\Users\\\\HP\\\\temp\\\\temp_csv.csv')\n",
      "(29, 'C:\\\\Users\\\\HP\\\\temp\\\\temp_TXT.txt')\n"
     ]
    }
   ],
   "source": [
    "directory = './temp'\n",
    "files = {}\n",
    "\n",
    "for txt_path in Path(directory).glob(\"*.*\"):\n",
    "    files[str(Path(Path.home(), txt_path))] = len(str(Path(Path.home(), txt_path)))\n",
    "    \n",
    "sorted_dict = sorted([(value, key)\n",
    "for (key, value) in files.items()], reverse=True)\n",
    "print(*sorted_dict, sep = \"\\n\")"
   ]
  },
  {
   "attachments": {},
   "cell_type": "markdown",
   "metadata": {},
   "source": [
    "#   - показать ТОП самых длинных путей к каталогам (например, с:\\windows\\help\\fgf\\...\\...)"
   ]
  },
  {
   "cell_type": "code",
   "execution_count": 38,
   "metadata": {},
   "outputs": [
    {
     "name": "stdout",
     "output_type": "stream",
     "text": [
      "(18, 'C:\\\\php\\\\lib\\\\enchant')\n",
      "(17, 'C:\\\\php\\\\extras\\\\ssl')\n",
      "(13, 'C:\\\\php\\\\extras')\n",
      "(10, 'C:\\\\php\\\\lib')\n",
      "(10, 'C:\\\\php\\\\ext')\n",
      "(10, 'C:\\\\php\\\\dev')\n",
      "(6, 'C:\\\\php')\n"
     ]
    }
   ],
   "source": [
    "directory = 'C://php'\n",
    "files = {}\n",
    "\n",
    "for txt_path in Path(directory).glob(\"**/**\"):\n",
    "    files[str(Path(Path.home(), txt_path))] = len(str(Path(Path.home(), txt_path)))\n",
    "    \n",
    "sorted_dict = sorted([(value, key)\n",
    "for (key, value) in files.items()], reverse=True)\n",
    "print(*sorted_dict, sep = \"\\n\")"
   ]
  },
  {
   "attachments": {},
   "cell_type": "markdown",
   "metadata": {},
   "source": [
    "#   - показать ТОП каталогов, где больше всего файлов (т.е. полный путь, кол-во файлов)"
   ]
  },
  {
   "cell_type": "code",
   "execution_count": 43,
   "metadata": {},
   "outputs": [
    {
     "name": "stdout",
     "output_type": "stream",
     "text": [
      "(39, 'C:\\\\php\\\\ext')\n",
      "(32, 'C:\\\\php')\n",
      "(1, 'C:\\\\php\\\\lib\\\\enchant')\n",
      "(1, 'C:\\\\php\\\\extras\\\\ssl')\n",
      "(1, 'C:\\\\php\\\\dev')\n",
      "(0, 'C:\\\\php\\\\lib')\n",
      "(0, 'C:\\\\php\\\\extras')\n"
     ]
    }
   ],
   "source": [
    "directory = 'C://php'\n",
    "files = {}\n",
    "\n",
    "for txt_path in Path(directory).glob(\"**/**\"):\n",
    "    files[str(Path(directory, txt_path))] = sum(1 for _ in Path(directory, txt_path).glob(\"*.*\"))\n",
    "    \n",
    "sorted_dict = sorted([(value, key)\n",
    "for (key, value) in files.items()], reverse=True)\n",
    "print(*sorted_dict, sep = \"\\n\")"
   ]
  },
  {
   "attachments": {},
   "cell_type": "markdown",
   "metadata": {},
   "source": [
    "#   - показать ТОП каталогов, где больше всего подкаталогов (т.е. полный путь, кол-во подкаталогов)"
   ]
  },
  {
   "cell_type": "code",
   "execution_count": 45,
   "metadata": {},
   "outputs": [
    {
     "name": "stdout",
     "output_type": "stream",
     "text": [
      "(7, 'C:\\\\php')\n",
      "(2, 'C:\\\\php\\\\lib')\n",
      "(2, 'C:\\\\php\\\\extras')\n",
      "(1, 'C:\\\\php\\\\lib\\\\enchant')\n",
      "(1, 'C:\\\\php\\\\extras\\\\ssl')\n",
      "(1, 'C:\\\\php\\\\ext')\n",
      "(1, 'C:\\\\php\\\\dev')\n"
     ]
    }
   ],
   "source": [
    "directory = 'C://php'\n",
    "files = {}\n",
    "\n",
    "for txt_path in Path(directory).glob(\"**/**\"):\n",
    "    files[str(Path(directory, txt_path))] = sum(1 for _ in Path(directory, txt_path).glob(\"**/**\"))\n",
    "    \n",
    "sorted_dict = sorted([(value, key)\n",
    "for (key, value) in files.items()], reverse=True)\n",
    "print(*sorted_dict, sep = \"\\n\")"
   ]
  }
 ],
 "metadata": {
  "kernelspec": {
   "display_name": "Python 3",
   "language": "python",
   "name": "python3"
  },
  "language_info": {
   "codemirror_mode": {
    "name": "ipython",
    "version": 3
   },
   "file_extension": ".py",
   "mimetype": "text/x-python",
   "name": "python",
   "nbconvert_exporter": "python",
   "pygments_lexer": "ipython3",
   "version": "3.11.2"
  },
  "orig_nbformat": 4
 },
 "nbformat": 4,
 "nbformat_minor": 2
}
