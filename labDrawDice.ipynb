{
 "cells": [
  {
   "cell_type": "code",
   "execution_count": 62,
   "metadata": {
    "ExecuteTime": {
     "end_time": "2023-06-12T21:29:20.644013300Z",
     "start_time": "2023-06-12T21:29:20.624012600Z"
    },
    "collapsed": true
   },
   "outputs": [],
   "source": [
    "import random\n",
    "from pathlib import Path\n",
    "\n",
    "import numpy as np\n",
    "from PIL import Image, ImageDraw, ImageFont"
   ]
  },
  {
   "cell_type": "code",
   "execution_count": 63,
   "metadata": {
    "ExecuteTime": {
     "end_time": "2023-06-12T21:29:20.710609500Z",
     "start_time": "2023-06-12T21:29:20.635014100Z"
    },
    "collapsed": false
   },
   "outputs": [],
   "source": [
    "class DrawDice:\n",
    "\n",
    "    \"\"\"Функция отрисовки точек\"\"\"\n",
    "    def draw_dots(self, value: int, size=200, bg_color='white', text_color='black', path_to_save=None) -> None:\n",
    "        img = Image.new('RGBA', (size, size), (0, 0, 0, 0))\n",
    "        image = ImageDraw.Draw(img) # создание из картинки объекта на котором можно рисовать\n",
    "        image.rounded_rectangle([0, 0, size, size], radius=25, fill=bg_color) # рисование прямоугольника с закругленными краями\n",
    "        match value:\n",
    "            case 1:\n",
    "                image.ellipse([size // 2 - 20, size // 2 - 20, size // 2 + 20, size // 2 + 20], fill=text_color)\n",
    "            case 2:\n",
    "                shift = 60 # сдвиг по оси\n",
    "                image.ellipse(\n",
    "                    [size // 2 - 20 - shift, size // 2 - 20 - shift, size // 2 + 20 - shift, size // 2 + 20 - shift],\n",
    "                    fill=text_color)\n",
    "                image.ellipse(\n",
    "                    [size // 2 - 20 + shift, size // 2 - 20 + shift, size // 2 + 20 + shift, size // 2 + 20 + shift],\n",
    "                    fill=text_color)\n",
    "            case 3:\n",
    "                shift = 60\n",
    "                image.ellipse(\n",
    "                    [size // 2 - 20 - shift, size // 2 - 20 - shift, size // 2 + 20 - shift, size // 2 + 20 - shift],\n",
    "                    fill=text_color)\n",
    "                image.ellipse([size // 2 - 20, size // 2 - 20, size // 2 + 20, size // 2 + 20], fill=text_color)\n",
    "                image.ellipse(\n",
    "                    [size // 2 - 20 + shift, size // 2 - 20 + shift, size // 2 + 20 + shift, size // 2 + 20 + shift],\n",
    "                    fill=text_color)\n",
    "            case 4:\n",
    "                shift = 60\n",
    "                image.ellipse([size // 2 - 20 - shift, size // 2 - 20 - shift, size // 2 + 20 - shift, size // 2 + 20 - shift], fill=text_color)\n",
    "                image.ellipse([size // 2 - 20 - shift, size // 2 - 20 + shift, size // 2 + 20 - shift, size // 2 + 20 + shift], fill=text_color)\n",
    "                image.ellipse([size // 2 - 20 + shift, size // 2 - 20 - shift, size // 2 + 20 + shift, size // 2 + 20 - shift], fill=text_color)\n",
    "                image.ellipse([size // 2 - 20 + shift, size // 2 - 20 + shift, size // 2 + 20 + shift, size // 2 + 20 + shift], fill=text_color)\n",
    "            case 5:\n",
    "                shift = 60\n",
    "                image.ellipse([size // 2 - 20 - shift, size // 2 - 20 - shift, size // 2 + 20 - shift, size // 2 + 20 - shift], fill=text_color)\n",
    "                image.ellipse([size // 2 - 20 - shift, size // 2 - 20 + shift, size // 2 + 20 - shift, size // 2 + 20 + shift], fill=text_color)\n",
    "                image.ellipse([size // 2 - 20, size // 2 - 20, size // 2 + 20, size // 2 + 20], fill=text_color)\n",
    "                image.ellipse([size // 2 - 20 + shift, size // 2 - 20 - shift, size // 2 + 20 + shift, size // 2 + 20 - shift], fill=text_color)\n",
    "                image.ellipse([size // 2 - 20 + shift, size // 2 - 20 + shift, size // 2 + 20 + shift, size // 2 + 20 + shift], fill=text_color)\n",
    "            case 6:\n",
    "                shift = 60\n",
    "                image.ellipse([size // 2 - 20 - shift, size // 2 - 20 - shift, size // 2 + 20 - shift, size // 2 + 20 - shift], fill=text_color)\n",
    "                image.ellipse([size // 2 - 20 - shift, size // 2 - 20, size // 2 + 20 - shift, size // 2 + 20], fill=text_color)\n",
    "                image.ellipse([size // 2 - 20 - shift, size // 2 - 20 + shift, size // 2 + 20 - shift, size // 2 + 20 + shift], fill=text_color)\n",
    "                image.ellipse([size // 2 - 20 + shift, size // 2 - 20 - shift, size // 2 + 20 + shift, size // 2 + 20 - shift], fill=text_color)\n",
    "                image.ellipse([size // 2 - 20 + shift, size // 2 - 20, size // 2 + 20 + shift, size // 2 + 20], fill=text_color)\n",
    "                image.ellipse([size // 2 - 20 + shift, size // 2 - 20 + shift, size // 2 + 20 + shift, size // 2 + 20 + shift], fill=text_color)\n",
    "            case _:\n",
    "                raise ValueError\n",
    "        display(img) # отображение картинки\n",
    "        if path_to_save:\n",
    "            img.save(path_to_save, 'PNG')\n",
    "\n",
    "    \"\"\"Функция отрисовки арабских цифр\"\"\"\n",
    "    def draw_arabic(self, value: int, size=200, bg_color='white', text_color='black', path_to_save=None) -> None:\n",
    "        img = Image.new('RGBA', (size, size), (255, 0, 0, 0))\n",
    "        image = ImageDraw.Draw(img)\n",
    "        image.rounded_rectangle([0, 0, size, size], radius=25, fill=bg_color)\n",
    "        # anchor - центрирование, mm - по середине\n",
    "        image.text((size // 2, size // 2), str(value), fill=text_color, anchor='mm', \n",
    "                   font=ImageFont.truetype(\"arial.ttf\", 29))\n",
    "        display(img)\n",
    "        if path_to_save:\n",
    "            img.save(path_to_save, 'PNG')\n",
    "\n",
    "    \"\"\"Функция отрисовки римских цифр\"\"\"\n",
    "    def draw_roman(self, value: int, size=200, bg_color='white', text_color='black', path_to_save=None) -> None:\n",
    "        conv = [[1000, 'M'], [900, 'CM'], [500, 'D'], [400, 'CD'],\n",
    "                [100, 'C'], [90, 'XC'], [50, 'L'], [40, 'XL'],\n",
    "                [10, 'X'], [9, 'IX'], [5, 'V'], [4, 'IV'],\n",
    "                [1, 'I']]\n",
    "        result = ''\n",
    "        for denom, roman_digit in conv:\n",
    "            result += roman_digit * (value // denom)\n",
    "            value %= denom\n",
    "        img = Image.new('RGBA', (size, size), (255, 0, 0, 0))\n",
    "        image = ImageDraw.Draw(img)\n",
    "        image.rounded_rectangle([0, 0, size, size], radius=25, fill=bg_color)\n",
    "        image.text((size // 2, size // 2), result, fill=text_color, anchor='mm', font=ImageFont.truetype(\"arial.ttf\", 29))\n",
    "        display(img)\n",
    "        if path_to_save:\n",
    "            img.save(path_to_save, 'PNG')\n",
    "\n",
    "    \"\"\"Главная функция отрисовки стороны кубика\"\"\"\n",
    "    def draw_dice(self, value: int, draw_type='dots', size=200, bg_color='white', value_color='black', path_to_save=None) -> None:\n",
    "        match draw_type:\n",
    "            case 'dots':\n",
    "                self.draw_dots(value, size, bg_color, value_color, path_to_save)\n",
    "            case 'arabic':\n",
    "                self.draw_arabic(value, size, bg_color, value_color, path_to_save)\n",
    "            case 'roman':\n",
    "                self.draw_roman(value, size, bg_color, value_color, path_to_save)\n",
    "\n",
    "    \"\"\"Функция отрисовки рандомной грани\"\"\"\n",
    "    def draw_random(self) -> None:\n",
    "        value = random.randint(1, 6)\n",
    "        draw_type = random.choice(['dots', 'arabic', 'roman'])\n",
    "        bg_color = tuple(np.random.choice(range(256), size=3))\n",
    "        value_color = tuple(np.random.choice(range(256), size=3))\n",
    "        self.draw_dice(value, draw_type, bg_color=bg_color, value_color=value_color)"
   ]
  },
  {
   "cell_type": "code",
   "execution_count": 64,
   "metadata": {
    "ExecuteTime": {
     "end_time": "2023-06-12T21:29:20.714621100Z",
     "start_time": "2023-06-12T21:29:20.659656400Z"
    },
    "collapsed": false
   },
   "outputs": [
    {
     "data": {
      "image/png": "[encoded data removed]",
      "text/plain": [
       "<PIL.Image.Image image mode=RGBA size=200x200>"
      ]
     },
     "metadata": {},
     "output_type": "display_data"
    }
   ],
   "source": [
    "dice = DrawDice()\n",
    "dice.draw_dice(value=5, size=200, draw_type='roman', path_to_save='roman.png')"
   ]
  },
  {
   "cell_type": "code",
   "execution_count": 65,
   "metadata": {
    "ExecuteTime": {
     "end_time": "2023-06-12T21:29:20.715617800Z",
     "start_time": "2023-06-12T21:29:20.679490100Z"
    },
    "collapsed": false
   },
   "outputs": [
    {
     "data": {
      "image/png": "[encoded data removed]",
      "text/plain": [
       "<PIL.Image.Image image mode=RGBA size=155x155>"
      ]
     },
     "metadata": {},
     "output_type": "display_data"
    }
   ],
   "source": [
    "dice.draw_dice(value=5, size=155, draw_type='arabic', path_to_save='arabic.png')"
   ]
  },
  {
   "cell_type": "code",
   "execution_count": 66,
   "metadata": {
    "ExecuteTime": {
     "end_time": "2023-06-12T21:29:20.717614600Z",
     "start_time": "2023-06-12T21:29:20.710609500Z"
    },
    "collapsed": false
   },
   "outputs": [
    {
     "data": {
      "image/png": "[encoded data removed]",
      "text/plain": [
       "<PIL.Image.Image image mode=RGBA size=500x500>"
      ]
     },
     "metadata": {},
     "output_type": "display_data"
    }
   ],
   "source": [
    "dice.draw_dice(value=6, size=500, draw_type='dots',\n",
    " bg_color='red', path_to_save='dots.png')\n"
   ]
  },
  {
   "cell_type": "code",
   "execution_count": 96,
   "metadata": {
    "ExecuteTime": {
     "end_time": "2023-06-12T21:29:20.929096900Z",
     "start_time": "2023-06-12T21:29:20.717614600Z"
    },
    "collapsed": false
   },
   "outputs": [
    {
     "data": {
      "image/png": "[encoded data removed]",
      "text/plain": [
       "<PIL.Image.Image image mode=RGBA size=200x200>"
      ]
     },
     "metadata": {},
     "output_type": "display_data"
    }
   ],
   "source": [
    "dice.draw_random()"
   ]
  },
  {
   "cell_type": "code",
   "execution_count": 68,
   "metadata": {
    "ExecuteTime": {
     "end_time": "2023-06-12T21:29:20.931097600Z",
     "start_time": "2023-06-12T21:29:20.749835900Z"
    },
    "collapsed": false
   },
   "outputs": [
    {
     "data": {
      "image/png": "[encoded data removed]",
      "text/plain": [
       "<PIL.Image.Image image mode=RGBA size=200x200>"
      ]
     },
     "metadata": {},
     "output_type": "display_data"
    },
    {
     "data": {
      "image/png": "[encoded data removed]",
      "text/plain": [
       "<PIL.Image.Image image mode=RGBA size=200x200>"
      ]
     },
     "metadata": {},
     "output_type": "display_data"
    },
    {
     "data": {
      "image/png": "[encoded data removed]",
      "text/plain": [
       "<PIL.Image.Image image mode=RGBA size=200x200>"
      ]
     },
     "metadata": {},
     "output_type": "display_data"
    },
    {
     "data": {
      "image/png": "[encoded data removed]",
      "text/plain": [
       "<PIL.Image.Image image mode=RGBA size=200x200>"
      ]
     },
     "metadata": {},
     "output_type": "display_data"
    },
    {
     "data": {
      "image/png": "[encoded data removed]",
      "text/plain": [
       "<PIL.Image.Image image mode=RGBA size=200x200>"
      ]
     },
     "metadata": {},
     "output_type": "display_data"
    },
    {
     "data": {
      "image/png": "[encoded data removed]",
      "text/plain": [
       "<PIL.Image.Image image mode=RGBA size=200x200>"
      ]
     },
     "metadata": {},
     "output_type": "display_data"
    }
   ],
   "source": [
    "Path('all_dices').mkdir(parents=True, exist_ok=True)\n",
    "for i in range(1, 7):\n",
    "    dice.draw_dice(i, 'dots', path_to_save=Path(f'all_dices/{i}.png'))"
   ]
  }
 ],
 "metadata": {
  "kernelspec": {
   "display_name": "Python 3",
   "language": "python",
   "name": "python3"
  },
  "language_info": {
   "codemirror_mode": {
    "name": "ipython",
    "version": 3
   },
   "file_extension": ".py",
   "mimetype": "text/x-python",
   "name": "python",
   "nbconvert_exporter": "python",
   "pygments_lexer": "ipython3",
   "version": "3.11.2"
  }
 },
 "nbformat": 4,
 "nbformat_minor": 0
}
