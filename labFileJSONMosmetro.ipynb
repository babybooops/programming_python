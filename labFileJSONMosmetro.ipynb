{
 "cells": [
  {
   "attachments": {},
   "cell_type": "markdown",
   "metadata": {},
   "source": [
    "# JSON + mosmetro.json"
   ]
  },
  {
   "cell_type": "code",
   "execution_count": 1,
   "metadata": {},
   "outputs": [],
   "source": [
    "import json"
   ]
  },
  {
   "cell_type": "code",
   "execution_count": 2,
   "metadata": {},
   "outputs": [],
   "source": [
    "file_mosmetro_json = \"mosmetro.json\""
   ]
  },
  {
   "cell_type": "code",
   "execution_count": 4,
   "metadata": {},
   "outputs": [
    {
     "name": "stdout",
     "output_type": "stream",
     "text": [
      "{'ID': 136, 'Station': 'Третьяковская', 'Line': 'Калининская линия', 'AdmArea': 'Центральный административный округ', 'District': 'район Замоскворечье', 'MCDStation': [], 'AeroexpressStation': [], 'RailwayStation': [], 'ObjectStatus': 'действует', 'global_id': 58701962}\n",
      "Третьяковская\n"
     ]
    }
   ],
   "source": [
    "with open(file_mosmetro_json) as f:\n",
    "    d = json.load(f)\n",
    "print(d[0])\n",
    "print(d[0]['Station'])"
   ]
  },
  {
   "cell_type": "code",
   "execution_count": 5,
   "metadata": {},
   "outputs": [
    {
     "data": {
      "text/plain": [
       "{'ID': 136,\n",
       " 'Station': 'Третьяковская',\n",
       " 'Line': 'Калининская линия',\n",
       " 'AdmArea': 'Центральный административный округ',\n",
       " 'District': 'район Замоскворечье',\n",
       " 'MCDStation': [],\n",
       " 'AeroexpressStation': [],\n",
       " 'RailwayStation': [],\n",
       " 'ObjectStatus': 'действует',\n",
       " 'global_id': 58701962}"
      ]
     },
     "metadata": {},
     "output_type": "display_data"
    }
   ],
   "source": [
    "from IPython.display import display\n",
    "display(d[0])"
   ]
  }
 ],
 "metadata": {
  "kernelspec": {
   "display_name": "Python 3",
   "language": "python",
   "name": "python3"
  },
  "language_info": {
   "codemirror_mode": {
    "name": "ipython",
    "version": 3
   },
   "file_extension": ".py",
   "mimetype": "text/x-python",
   "name": "python",
   "nbconvert_exporter": "python",
   "pygments_lexer": "ipython3",
   "version": "3.11.2"
  },
  "orig_nbformat": 4
 },
 "nbformat": 4,
 "nbformat_minor": 2
}
