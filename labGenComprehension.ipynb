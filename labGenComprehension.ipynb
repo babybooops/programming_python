{
 "cells": [
  {
   "attachments": {},
   "cell_type": "markdown",
   "metadata": {},
   "source": [
    "# Генератор коллекций (Generator Comprehension)\n",
    "\n",
    "Генератор колекций - обобщенное название\n",
    "* генератор списка (list)\n",
    "* генератор множества (set)\n",
    "* генератор словаря (dict)"
   ]
  },
  {
   "cell_type": "code",
   "execution_count": 2,
   "metadata": {},
   "outputs": [
    {
     "name": "stdout",
     "output_type": "stream",
     "text": [
      "[1, 2, 3, 4, 5, 6]\n"
     ]
    }
   ],
   "source": [
    "my_list = list(range(1,7))\n",
    "print(my_list)"
   ]
  },
  {
   "cell_type": "code",
   "execution_count": 3,
   "metadata": {},
   "outputs": [
    {
     "data": {
      "text/plain": [
       "[1, 4, 9, 16, 25, 36]"
      ]
     },
     "execution_count": 3,
     "metadata": {},
     "output_type": "execute_result"
    }
   ],
   "source": [
    "# Генератор списка\n",
    "[i**2 for i in my_list]"
   ]
  },
  {
   "cell_type": "code",
   "execution_count": 4,
   "metadata": {},
   "outputs": [
    {
     "data": {
      "text/plain": [
       "{1, 4, 9, 16, 25, 36}"
      ]
     },
     "execution_count": 4,
     "metadata": {},
     "output_type": "execute_result"
    }
   ],
   "source": [
    "# Генератор множеств\n",
    "{i**2 for i in my_list}"
   ]
  },
  {
   "cell_type": "code",
   "execution_count": 5,
   "metadata": {},
   "outputs": [
    {
     "data": {
      "text/plain": [
       "{1: 1, 2: 4, 3: 9, 4: 16, 5: 25, 6: 36}"
      ]
     },
     "execution_count": 5,
     "metadata": {},
     "output_type": "execute_result"
    }
   ],
   "source": [
    "# Генератор словаря\n",
    "{i:i**2 for i in my_list}"
   ]
  },
  {
   "cell_type": "code",
   "execution_count": 6,
   "metadata": {},
   "outputs": [
    {
     "data": {
      "text/plain": [
       "{0: 'HHHHH', 1: 'eeeee', 2: 'lllll', 3: 'lllll', 4: 'ooooo'}"
      ]
     },
     "execution_count": 6,
     "metadata": {},
     "output_type": "execute_result"
    }
   ],
   "source": [
    "{n: i*5 for n, i in enumerate(\"Hello\")}"
   ]
  },
  {
   "cell_type": "code",
   "execution_count": 7,
   "metadata": {},
   "outputs": [
    {
     "data": {
      "text/plain": [
       "['AAAA', 'BB', 'CCCC', 'DD', 'EEEE']"
      ]
     },
     "execution_count": 7,
     "metadata": {},
     "output_type": "execute_result"
    }
   ],
   "source": [
    "[x * 4 if x in 'ACE' else x * 2 for x in 'ABCDE']"
   ]
  },
  {
   "cell_type": "code",
   "execution_count": 8,
   "metadata": {},
   "outputs": [
    {
     "name": "stdout",
     "output_type": "stream",
     "text": [
      "['AAAA', 'BB', 'CCCC', 'DD', 'EEEE']\n"
     ]
    }
   ],
   "source": [
    "v = []\n",
    "for x in 'ABCDE':\n",
    "    if x in 'ACE':\n",
    "        v.append(x * 4)\n",
    "    else:\n",
    "        v.append(x * 2)\n",
    "print(v)"
   ]
  },
  {
   "attachments": {},
   "cell_type": "markdown",
   "metadata": {},
   "source": [
    "# Генератор с вложенными циклами"
   ]
  },
  {
   "cell_type": "code",
   "execution_count": 9,
   "metadata": {},
   "outputs": [
    {
     "name": "stdout",
     "output_type": "stream",
     "text": [
      "[10, 11, 12, 13, 14, 20, 22, 24, 26, 28]\n"
     ]
    }
   ],
   "source": [
    "v = []\n",
    "for x in range(1,3):\n",
    "    for y in range(10, 15):\n",
    "        v.append(x * y)\n",
    "print(v)"
   ]
  },
  {
   "cell_type": "code",
   "execution_count": 10,
   "metadata": {},
   "outputs": [
    {
     "data": {
      "text/plain": [
       "[10, 11, 12, 13, 14, 20, 22, 24, 26, 28]"
      ]
     },
     "execution_count": 10,
     "metadata": {},
     "output_type": "execute_result"
    }
   ],
   "source": [
    "[x * y for x in range(1,3) for y in range(10, 15)]"
   ]
  },
  {
   "attachments": {},
   "cell_type": "markdown",
   "metadata": {},
   "source": [
    "# Генератор с оператором :="
   ]
  },
  {
   "cell_type": "code",
   "execution_count": 11,
   "metadata": {},
   "outputs": [
    {
     "data": {
      "text/plain": [
       "[0, 2, 4, 6, 8, 10, 12, 14, 16, 18]"
      ]
     },
     "execution_count": 11,
     "metadata": {},
     "output_type": "execute_result"
    }
   ],
   "source": [
    "[x * 2 for x in range(10) if x * 2 % 2 == 0]"
   ]
  },
  {
   "cell_type": "code",
   "execution_count": 12,
   "metadata": {},
   "outputs": [
    {
     "data": {
      "text/plain": [
       "[0, 2, 4, 6, 8, 10, 12, 14, 16, 18]"
      ]
     },
     "execution_count": 12,
     "metadata": {},
     "output_type": "execute_result"
    }
   ],
   "source": [
    "[z for x in range(10) if (z := x * 2) % 2 == 0]"
   ]
  },
  {
   "cell_type": "code",
   "execution_count": 13,
   "metadata": {},
   "outputs": [
    {
     "data": {
      "text/plain": [
       "[0, 2, 4, 2, 4, 2, 4, 6, 4, 6, 4, 6, 8]"
      ]
     },
     "execution_count": 13,
     "metadata": {},
     "output_type": "execute_result"
    }
   ],
   "source": [
    "[x + y for x in range(5) for y in range(5) if (x + y) % 2 == 0]"
   ]
  },
  {
   "cell_type": "code",
   "execution_count": 14,
   "metadata": {},
   "outputs": [
    {
     "data": {
      "text/plain": [
       "[0, 2, 4, 2, 4, 2, 4, 6, 4, 6, 4, 6, 8]"
      ]
     },
     "execution_count": 14,
     "metadata": {},
     "output_type": "execute_result"
    }
   ],
   "source": [
    "[z for x in range(5) for y in range(5) if (z := x + y) % 2 == 0]"
   ]
  },
  {
   "attachments": {},
   "cell_type": "markdown",
   "metadata": {},
   "source": [
    "# Генератор матрицы"
   ]
  },
  {
   "cell_type": "code",
   "execution_count": 15,
   "metadata": {},
   "outputs": [
    {
     "name": "stdout",
     "output_type": "stream",
     "text": [
      "[[1, 2, 3], [4, 5, 6], [7, 8, 9]]\n",
      "[4, 5, 6]\n",
      "6\n"
     ]
    }
   ],
   "source": [
    "m = [[1, 2, 3], [4, 5, 6], [7, 8, 9]]\n",
    "print(m)\n",
    "print(m[1])\n",
    "print(m[1][2])\n"
   ]
  },
  {
   "cell_type": "code",
   "execution_count": 16,
   "metadata": {},
   "outputs": [
    {
     "data": {
      "text/plain": [
       "[[0, 1, 2], [0, 1, 2], [0, 1, 2], [0, 1, 2]]"
      ]
     },
     "execution_count": 16,
     "metadata": {},
     "output_type": "execute_result"
    }
   ],
   "source": [
    "[[c for c in range(3)] for r in range(4)]"
   ]
  },
  {
   "cell_type": "code",
   "execution_count": 17,
   "metadata": {},
   "outputs": [
    {
     "data": {
      "text/plain": [
       "[[0, 0, 0], [0, 0, 0], [0, 0, 0], [0, 0, 0]]"
      ]
     },
     "execution_count": 17,
     "metadata": {},
     "output_type": "execute_result"
    }
   ],
   "source": [
    "[[0] * 3 for r in range(4)]"
   ]
  },
  {
   "cell_type": "code",
   "execution_count": 18,
   "metadata": {},
   "outputs": [
    {
     "data": {
      "text/plain": [
       "[[0, 1, 2], [3, 4, 5], [6, 7, 8], [9, 10, 11]]"
      ]
     },
     "execution_count": 18,
     "metadata": {},
     "output_type": "execute_result"
    }
   ],
   "source": [
    "rows = 4\n",
    "cols = 3\n",
    "[[c + r * cols for c in range(cols)] for r in range(rows)]\n"
   ]
  },
  {
   "attachments": {},
   "cell_type": "markdown",
   "metadata": {},
   "source": [
    "## Пример генератора со строками"
   ]
  },
  {
   "cell_type": "code",
   "execution_count": 19,
   "metadata": {},
   "outputs": [
    {
     "data": {
      "text/plain": [
       "'Съешь еще этих французских булок да выпей чаю'"
      ]
     },
     "execution_count": 19,
     "metadata": {},
     "output_type": "execute_result"
    }
   ],
   "source": [
    "text = \"Съешь еще этих французских булок да выпей чаю\"\n",
    "text"
   ]
  },
  {
   "cell_type": "code",
   "execution_count": 20,
   "metadata": {},
   "outputs": [
    {
     "name": "stdout",
     "output_type": "stream",
     "text": [
      "['Съешь', 'еще', 'этих', 'французских', 'булок', 'да', 'выпей', 'чаю']\n",
      "['С', 'е', 'э', 'ф', 'б', 'д', 'в', 'ч']\n",
      "['ь', 'е', 'х', 'х', 'к', 'а', 'й', 'ю']\n"
     ]
    }
   ],
   "source": [
    "print([x for x in text.split()])\n",
    "print([x[0] for x in text.split()])\n",
    "print([x[-1] for x in text.split()])"
   ]
  },
  {
   "cell_type": "code",
   "execution_count": 21,
   "metadata": {},
   "outputs": [
    {
     "name": "stdout",
     "output_type": "stream",
     "text": [
      "[5, 3, 4, 11, 5, 2, 5, 3]\n"
     ]
    }
   ],
   "source": [
    "print([len(x) for x in text.split()]) # длина каждого слова"
   ]
  },
  {
   "cell_type": "code",
   "execution_count": 22,
   "metadata": {},
   "outputs": [
    {
     "name": "stdout",
     "output_type": "stream",
     "text": [
      "['ьшеъС', 'еще', 'хитэ', 'хиксзуцнарф', 'колуб', 'ад', 'йепыв', 'юач']\n"
     ]
    }
   ],
   "source": [
    "print([x[:: -1] for x in text.split()]) # в каждом слове поменять буквы местами"
   ]
  },
  {
   "cell_type": "code",
   "execution_count": 23,
   "metadata": {},
   "outputs": [
    {
     "name": "stdout",
     "output_type": "stream",
     "text": [
      "['Съешь[5]', 'еще[3]', 'этих[4]', 'французских[11]', 'булок[5]', 'да[2]', 'выпей[5]', 'чаю[3]']\n"
     ]
    }
   ],
   "source": [
    "print([f\"{x}[{len(x)}]\" for x in text.split()])\n"
   ]
  },
  {
   "attachments": {},
   "cell_type": "markdown",
   "metadata": {},
   "source": [
    "# Homework"
   ]
  },
  {
   "cell_type": "code",
   "execution_count": 24,
   "metadata": {},
   "outputs": [],
   "source": [
    "mytext = \"Lorem ipsum dolor sit amet consectetur adipiscing elit donec eget\""
   ]
  },
  {
   "attachments": {},
   "cell_type": "markdown",
   "metadata": {},
   "source": [
    "вернуть список слов"
   ]
  },
  {
   "cell_type": "code",
   "execution_count": 25,
   "metadata": {},
   "outputs": [
    {
     "name": "stdout",
     "output_type": "stream",
     "text": [
      "['Lorem', 'ipsum', 'dolor', 'sit', 'amet', 'consectetur', 'adipiscing', 'elit', 'donec', 'eget']\n"
     ]
    }
   ],
   "source": [
    "print([x for x in mytext.split()])"
   ]
  },
  {
   "attachments": {},
   "cell_type": "markdown",
   "metadata": {},
   "source": [
    "вернуть список слов и рядом с каждым словом его длину в [ ]"
   ]
  },
  {
   "cell_type": "code",
   "execution_count": 26,
   "metadata": {},
   "outputs": [
    {
     "name": "stdout",
     "output_type": "stream",
     "text": [
      "['Lorem[5]', 'ipsum[5]', 'dolor[5]', 'sit[3]', 'amet[4]', 'consectetur[11]', 'adipiscing[10]', 'elit[4]', 'donec[5]', 'eget[4]']\n"
     ]
    }
   ],
   "source": [
    "print([f\"{x}[{len(x)}]\" for x in mytext.split()])"
   ]
  },
  {
   "attachments": {},
   "cell_type": "markdown",
   "metadata": {},
   "source": [
    "вернуть список слов и рядом с каждым словом его порядковый номер в ( ) в предложении"
   ]
  },
  {
   "cell_type": "code",
   "execution_count": 27,
   "metadata": {},
   "outputs": [
    {
     "name": "stdout",
     "output_type": "stream",
     "text": [
      "['Lorem[0]', 'ipsum[1]', 'dolor[2]', 'sit[3]', 'amet[4]', 'consectetur[5]', 'adipiscing[6]', 'elit[7]', 'donec[8]', 'eget[9]']\n"
     ]
    }
   ],
   "source": [
    "print([f\"{x}{[n]}\" for n, x in enumerate(mytext.split())])"
   ]
  },
  {
   "attachments": {},
   "cell_type": "markdown",
   "metadata": {},
   "source": [
    " в каждом слове поменять регистр символов на противоположный\n"
   ]
  },
  {
   "cell_type": "code",
   "execution_count": 28,
   "metadata": {},
   "outputs": [
    {
     "name": "stdout",
     "output_type": "stream",
     "text": [
      "lOREM IPSUM DOLOR SIT AMET CONSECTETUR ADIPISCING ELIT DONEC EGET "
     ]
    }
   ],
   "source": [
    "words = ([f\"{x}\" for x in (mytext.split())])\n",
    "for x in words:\n",
    "    print(x.swapcase(), end=' ')\n",
    "    "
   ]
  },
  {
   "attachments": {},
   "cell_type": "markdown",
   "metadata": {},
   "source": [
    " в каждом слове поменять буквы местами на противоположные\n"
   ]
  },
  {
   "cell_type": "code",
   "execution_count": 29,
   "metadata": {},
   "outputs": [
    {
     "name": "stdout",
     "output_type": "stream",
     "text": [
      "['meroL', 'muspi', 'rolod', 'tis', 'tema', 'rutetcesnoc', 'gnicsipida', 'tile', 'cenod', 'tege']\n"
     ]
    }
   ],
   "source": [
    "print([x[:: -1] for x in mytext.split()]) "
   ]
  },
  {
   "attachments": {},
   "cell_type": "markdown",
   "metadata": {},
   "source": [
    "в каждом слове поменять буквы местами случайным образом\n"
   ]
  },
  {
   "cell_type": "code",
   "execution_count": 30,
   "metadata": {},
   "outputs": [
    {
     "name": "stdout",
     "output_type": "stream",
     "text": [
      "eromL spuim rodol ist amet crceosutten gpiidiscan etli ndeoc tege\n"
     ]
    }
   ],
   "source": [
    "import random\n",
    "words = ([f\"{x}\" for x in (mytext.split())])\n",
    "for i, word in enumerate(map(list, words)):\n",
    "    random.shuffle(word)\n",
    "    words[i] = ''.join(word)\n",
    "print(*words)  "
   ]
  },
  {
   "attachments": {},
   "cell_type": "markdown",
   "metadata": {},
   "source": [
    "в каждом слове первую и последнюю букву заменить на '_'\n"
   ]
  },
  {
   "cell_type": "code",
   "execution_count": 138,
   "metadata": {},
   "outputs": [
    {
     "name": "stdout",
     "output_type": "stream",
     "text": [
      "_ore_ _psu_ _olo_ _i_ _me_ _onsectetu_ _dipiscin_ _li_ _one_ _ge_\n"
     ]
    }
   ],
   "source": [
    "words = mytext.split()\n",
    " \n",
    "for i in range(len(words)):\n",
    "   words[i] = words[i].replace(words[i][0], '_', 1)\n",
    "   \n",
    "for x in range(len(words)):\n",
    "   words[x] = words[x].replace(words[x][len(words[x]) - 1], '_', 1)\n",
    "\n",
    "print(' '.join(words))\n",
    "    \n",
    "     "
   ]
  },
  {
   "attachments": {},
   "cell_type": "markdown",
   "metadata": {},
   "source": [
    "в каждом слове заменить каждую букву на '_'\n"
   ]
  },
  {
   "cell_type": "code",
   "execution_count": 169,
   "metadata": {},
   "outputs": [
    {
     "name": "stdout",
     "output_type": "stream",
     "text": [
      "_____ _____ _____ ___ ____ ___________ __________ ____ _____ ____\n"
     ]
    }
   ],
   "source": [
    "words = mytext.split()\n",
    " \n",
    "for i in range(len(words)):\n",
    "   for j in range(len(words[i])):\n",
    "      words[i] = words[i].replace(words[i][j], '_')\n",
    "\n",
    "print(' '.join(words))"
   ]
  },
  {
   "attachments": {},
   "cell_type": "markdown",
   "metadata": {},
   "source": [
    " в каждом слове заменить каждую букву на '_', если длина слова меньше 5 символов\n"
   ]
  },
  {
   "cell_type": "code",
   "execution_count": 173,
   "metadata": {},
   "outputs": [
    {
     "name": "stdout",
     "output_type": "stream",
     "text": [
      "Lorem ipsum dolor ___ ____ consectetur adipiscing ____ donec ____\n"
     ]
    }
   ],
   "source": [
    "words = mytext.split()\n",
    " \n",
    "for i in range(len(words)):\n",
    "   if(len(words[i]) < 5):\n",
    "        for j in range(len(words[i])):\n",
    "            words[i] = words[i].replace(words[i][j], '_')\n",
    "\n",
    "print(' '.join(words))"
   ]
  },
  {
   "attachments": {},
   "cell_type": "markdown",
   "metadata": {},
   "source": [
    "заменить все гласные буквы на '_'"
   ]
  },
  {
   "cell_type": "code",
   "execution_count": 179,
   "metadata": {},
   "outputs": [
    {
     "name": "stdout",
     "output_type": "stream",
     "text": [
      "L_r_m _ps_m d_l_r s_t _m_t c_ns_ct_t_r _d_p_sc_ng _l_t d_n_c _g_t\n"
     ]
    }
   ],
   "source": [
    "words = mytext.split()\n",
    "vowels = {\"a\", \"e\", \"i\", \"o\", \"u\", \"A\", \"E\", \"I\", \"O\", \"U\"}\n",
    "for i in range(len(words)):\n",
    "    for j in range(len(words[i])):\n",
    "        if (words[i][j] in vowels):\n",
    "            words[i] = words[i].replace(words[i][j], '_')\n",
    "\n",
    "print(' '.join(words))"
   ]
  },
  {
   "attachments": {},
   "cell_type": "markdown",
   "metadata": {},
   "source": [
    "  поменять слова местами случайным образом"
   ]
  },
  {
   "cell_type": "code",
   "execution_count": 219,
   "metadata": {},
   "outputs": [
    {
     "name": "stdout",
     "output_type": "stream",
     "text": [
      "amet sit eget Lorem consectetur dolor donec ipsum elit adipiscing\n"
     ]
    }
   ],
   "source": [
    "import random\n",
    "words = ([f\"{x}\" for x in (mytext.split())])\n",
    "result = random.sample(words, len(words))\n",
    "print(' '.join(result))"
   ]
  },
  {
   "attachments": {},
   "cell_type": "markdown",
   "metadata": {},
   "source": [
    "сформировать список слов, отсортированных по количеству букв в каждом слове\n"
   ]
  },
  {
   "cell_type": "code",
   "execution_count": 249,
   "metadata": {},
   "outputs": [
    {
     "name": "stdout",
     "output_type": "stream",
     "text": [
      "(3, 'sit')\n",
      "(4, 'amet')\n",
      "(4, 'eget')\n",
      "(4, 'elit')\n",
      "(5, 'Lorem')\n",
      "(5, 'dolor')\n",
      "(5, 'donec')\n",
      "(5, 'ipsum')\n",
      "(10, 'adipiscing')\n",
      "(11, 'consectetur')\n"
     ]
    }
   ],
   "source": [
    "words = mytext.split()\n",
    "dictionary = {}\n",
    "for i in words:\n",
    "    dictionary[i] = len(i)\n",
    "sorted_dict = sorted([(value, key)\n",
    "for (key, value) in dictionary.items()])\n",
    "print(*sorted_dict, sep = \"\\n\")"
   ]
  },
  {
   "attachments": {},
   "cell_type": "markdown",
   "metadata": {},
   "source": [
    "каждую последнюю букву в слове написать с большой буквы\n"
   ]
  },
  {
   "cell_type": "code",
   "execution_count": 157,
   "metadata": {},
   "outputs": [
    {
     "name": "stdout",
     "output_type": "stream",
     "text": [
      "loreM ipsuM doloR siT ameT consectetuR adipiscinG eliT doneC egeT\n"
     ]
    }
   ],
   "source": [
    "newtext = [x[:: -1] for x in mytext.split()]\n",
    "str = ' '.join(newtext)\n",
    "newstr = str.title()\n",
    "res = [i[:: -1] for i in newstr.split()]\n",
    "result = ' '.join(res)\n",
    "print(result)\n",
    "\n"
   ]
  },
  {
   "cell_type": "code",
   "execution_count": 144,
   "metadata": {},
   "outputs": [
    {
     "name": "stdout",
     "output_type": "stream",
     "text": [
      "Qwertyu Iopasd Fghjklz Xcvbnm\n"
     ]
    }
   ],
   "source": [
    "s = 'qwertyu iopasd fghjklz xcvbnm'\n",
    "print(s.title())"
   ]
  },
  {
   "attachments": {},
   "cell_type": "markdown",
   "metadata": {},
   "source": [
    "сформировать список уникальных букв\n"
   ]
  },
  {
   "cell_type": "code",
   "execution_count": 254,
   "metadata": {},
   "outputs": [
    {
     "name": "stdout",
     "output_type": "stream",
     "text": [
      "['t', 'c', 'p', 'g', ' ', 'l', 'o', 'd', 'r', 'm', 'u', 's', 'a', 'i', 'e', 'n', 'L']\n"
     ]
    }
   ],
   "source": [
    "print(list(''.join(set(mytext))))\n"
   ]
  },
  {
   "attachments": {},
   "cell_type": "markdown",
   "metadata": {},
   "source": [
    "сформировать список уникальных букв и их количество"
   ]
  },
  {
   "cell_type": "code",
   "execution_count": 256,
   "metadata": {},
   "outputs": [
    {
     "name": "stdout",
     "output_type": "stream",
     "text": [
      "[1, 2, 3, 4, 5, 6]\n",
      "17\n"
     ]
    }
   ],
   "source": [
    "mylist = list(''.join(set(mytext)))\n",
    "print(my_list)\n",
    "print(len(mylist))\n"
   ]
  },
  {
   "attachments": {},
   "cell_type": "markdown",
   "metadata": {},
   "source": [
    "в предложении заменить первую и последнюю буквы на _"
   ]
  },
  {
   "cell_type": "code",
   "execution_count": 55,
   "metadata": {},
   "outputs": [
    {
     "name": "stdout",
     "output_type": "stream",
     "text": [
      "_orem ipsum dolor sit amet consectetur adipiscing elit donec ege_\n"
     ]
    }
   ],
   "source": [
    "letters = list(mytext)\n",
    "letters[0] = '_'\n",
    "letters[len(letters) - 1] = '_'\n",
    "print(''.join(letters))       "
   ]
  }
 ],
 "metadata": {
  "kernelspec": {
   "display_name": "Python 3",
   "language": "python",
   "name": "python3"
  },
  "language_info": {
   "codemirror_mode": {
    "name": "ipython",
    "version": 3
   },
   "file_extension": ".py",
   "mimetype": "text/x-python",
   "name": "python",
   "nbconvert_exporter": "python",
   "pygments_lexer": "ipython3",
   "version": "3.11.2"
  },
  "orig_nbformat": 4
 },
 "nbformat": 4,
 "nbformat_minor": 2
}
