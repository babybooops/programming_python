{
 "cells": [
  {
   "attachments": {},
   "cell_type": "markdown",
   "metadata": {},
   "source": [
    "# Список (list)\n",
    "\n",
    "Список (list) - упорядоченная изменяемая структура данных для хранения любых объектов\n",
    "\n",
    "Смотри еще:\n",
    "* [Кортеж (tuple)](labTuple.ipynb)\n"
   ]
  },
  {
   "cell_type": "code",
   "execution_count": 1,
   "metadata": {},
   "outputs": [
    {
     "data": {
      "text/plain": [
       "[1, 2, 'hello', 3.14]"
      ]
     },
     "execution_count": 1,
     "metadata": {},
     "output_type": "execute_result"
    }
   ],
   "source": [
    "v = [1, 2, \"hello\", 3.14]\n",
    "v"
   ]
  },
  {
   "cell_type": "code",
   "execution_count": 4,
   "metadata": {},
   "outputs": [
    {
     "data": {
      "text/plain": [
       "['q', 'w', 'e', 'r', 't', 'y']"
      ]
     },
     "execution_count": 4,
     "metadata": {},
     "output_type": "execute_result"
    }
   ],
   "source": [
    "v = list(\"qwerty\")\n",
    "v"
   ]
  },
  {
   "cell_type": "code",
   "execution_count": 5,
   "metadata": {},
   "outputs": [
    {
     "data": {
      "text/plain": [
       "[0, 1, 2, 3, 4, 5, 6, 7, 8, 9]"
      ]
     },
     "execution_count": 5,
     "metadata": {},
     "output_type": "execute_result"
    }
   ],
   "source": [
    "list(range(10))"
   ]
  },
  {
   "cell_type": "code",
   "execution_count": 7,
   "metadata": {},
   "outputs": [
    {
     "data": {
      "text/plain": [
       "['Минск', 'Гомель', 'Брест']"
      ]
     },
     "execution_count": 7,
     "metadata": {},
     "output_type": "execute_result"
    }
   ],
   "source": [
    "cities = \"Минск, Гомель, Брест\".split(', ')\n",
    "cities"
   ]
  },
  {
   "cell_type": "code",
   "execution_count": 10,
   "metadata": {},
   "outputs": [
    {
     "name": "stdout",
     "output_type": "stream",
     "text": [
      "True\n",
      "Гомель\n",
      "['Минск']\n"
     ]
    }
   ],
   "source": [
    "print('Минск' in cities)\n",
    "print(cities[1])\n",
    "print(cities[:1])"
   ]
  },
  {
   "cell_type": "code",
   "execution_count": 11,
   "metadata": {},
   "outputs": [
    {
     "name": "stdout",
     "output_type": "stream",
     "text": [
      "Минск\n",
      "Гомель\n",
      "Брест\n"
     ]
    }
   ],
   "source": [
    "for city in cities:\n",
    "    print(city)"
   ]
  },
  {
   "cell_type": "code",
   "execution_count": 13,
   "metadata": {},
   "outputs": [
    {
     "name": "stdout",
     "output_type": "stream",
     "text": [
      "Город: Минск\n",
      "Город: Гомель\n",
      "Город: Брест\n"
     ]
    }
   ],
   "source": [
    "for city in cities:\n",
    "    print(f\"Город: {city}\")"
   ]
  },
  {
   "cell_type": "code",
   "execution_count": 17,
   "metadata": {},
   "outputs": [
    {
     "name": "stdout",
     "output_type": "stream",
     "text": [
      "Город: 1: Минск\n",
      "Город: 2: Гомель\n",
      "Город: 3: Брест\n"
     ]
    }
   ],
   "source": [
    "for index, city in enumerate (cities, start = 1):\n",
    "    print(f\"Город: {index}: {city}\")"
   ]
  },
  {
   "cell_type": "code",
   "execution_count": 19,
   "metadata": {},
   "outputs": [
    {
     "name": "stdout",
     "output_type": "stream",
     "text": [
      "[10, 11, 12, 13, 14, 15, 16, 17, 18, 19]\n",
      "[10, -1, 12]\n"
     ]
    }
   ],
   "source": [
    "a = list(range(10, 20))\n",
    "b = a[:3] # тут копия\n",
    "b[1] = -1\n",
    "print(a)\n",
    "print(b)"
   ]
  },
  {
   "cell_type": "code",
   "execution_count": 25,
   "metadata": {},
   "outputs": [
    {
     "name": "stdout",
     "output_type": "stream",
     "text": [
      "['Севастополь', 'Брест', 'Тверь']\n"
     ]
    }
   ],
   "source": [
    "cities = \"Минск, Гомель, Брест\".split(', ')\n",
    "cities.append('Тверь')\n",
    "cities.insert(1, 'Севастополь')\n",
    "cities.remove('Гомель')\n",
    "del cities[0]\n",
    "print(cities)"
   ]
  },
  {
   "cell_type": "code",
   "execution_count": 26,
   "metadata": {},
   "outputs": [
    {
     "name": "stdout",
     "output_type": "stream",
     "text": [
      "[10, -1, -2, -3, 14, 15, 16, 17, 18, 19]\n"
     ]
    }
   ],
   "source": [
    "a = list(range(10, 20))\n",
    "a[1:4] = [-1, -2, -3]\n",
    "print(a)"
   ]
  }
 ],
 "metadata": {
  "kernelspec": {
   "display_name": "Python 3",
   "language": "python",
   "name": "python3"
  },
  "language_info": {
   "codemirror_mode": {
    "name": "ipython",
    "version": 3
   },
   "file_extension": ".py",
   "mimetype": "text/x-python",
   "name": "python",
   "nbconvert_exporter": "python",
   "pygments_lexer": "ipython3",
   "version": "3.11.2"
  },
  "orig_nbformat": 4
 },
 "nbformat": 4,
 "nbformat_minor": 2
}
